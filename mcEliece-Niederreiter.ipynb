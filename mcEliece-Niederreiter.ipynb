{
 "cells": [
  {
   "cell_type": "markdown",
   "metadata": {},
   "source": [
    "# Classic McEliece and Niederreiter with Binary Goppa Codes\n",
    "\n",
    "This is a notebook by Felix Paul inspired by the work of Michiel Marcus under the supervision of Prof. Dr. Tanja Lange.\n",
    "\n",
    "The notebook presents the McEliece cryptosystem and the Niederreiter cryptosystem in its (insecure) textbook version. It is based on this <a href=\"https://www.hyperelliptic.org/tanja/students/m_marcus/whitepaper.pdf\"> Whitepaper </a>.\n",
    "\n",
    "- To just use the code set verbose=0.\n",
    "- For a description of all the necessary steps set verbose = 1.\n",
    "- For educational purposes and debugging set verbose=2.\n",
    "- The verbosity is set in each called function so you can see each step during the calculation.\n",
    "\n",
    "For technical reasons, additional restrictions are imposed on the polynomials here, which are theoretically not necessary.\n",
    "\n",
    "In case of unforeseen errors, it is recommended to rerun all previous code cells.\n",
    "\n",
    "Bits from the original document will be used to clarify which parts of the code belong to which parts of the whitepaper. Please note that for larger parameters it might take a longer time to display the output. Additionally, please be warned that the code used in the notebook is **not** safe to use in real-world applications. This code is purely meant for educational purposes and is prone to side-channel attacks. Additionally, due to technical reasons there are some restrictions on the polynomials, which reduces the security even more.\n",
    "\n",
    "The first part of the notebook sets up a binary Goppa code step-by-step, so that the user can play with values and see how it works. After creating the binary Goppa code, the notebook shows how the code is used in the McEliece cryptographic system. The user is encouraged to edit and re-run the code as they like. A selected cell can be re-run by clicking the _run_ button in the top menu or using _shift + enter_."
   ]
  },
  {
   "cell_type": "markdown",
   "metadata": {},
   "source": [
    "## Imports and helper functions for nice outputs and easy handling"
   ]
  },
  {
   "cell_type": "code",
   "execution_count": 1,
   "metadata": {},
   "outputs": [],
   "source": [
    "from IPython.display import display, Math, Latex\n",
    "import random\n",
    "import numpy as np\n",
    "import warnings\n",
    "import math\n",
    "warnings.simplefilter('always', Warning)"
   ]
  },
  {
   "cell_type": "markdown",
   "metadata": {},
   "source": [
    "If you uncomment the second lateprint function all the latex outputs will not be rendered and can directly be copied to a latex document."
   ]
  },
  {
   "cell_type": "code",
   "execution_count": 2,
   "metadata": {},
   "outputs": [
    {
     "name": "stdout",
     "output_type": "stream",
     "text": [
      "\n"
     ]
    }
   ],
   "source": [
    "def int_to_binary_list(y):\n",
    "    # function to encode messages\n",
    "    return [int(x) for x in bin(y)[2:]]\n",
    "\n",
    "def latexprint(l):\n",
    "    if type(l) is list:\n",
    "        for element in l:\n",
    "            display(Math(r'{}'.format(element)))\n",
    "    else:\n",
    "        display(Math(r'{}'.format(l)))\n",
    "\n",
    "\"\"\"\n",
    "use this function to copy the output in latex documents \n",
    "- the output is not rendered but raw latex code\n",
    "comment out this function to see rendered output\n",
    "\"\"\"\n",
    "\"\"\"\n",
    "def latexprint(l):\n",
    "    if type(l) is list:\n",
    "        for element in l:\n",
    "            display(((r'{}'.format(element))))\n",
    "    else:\n",
    "        display(((r'{}'.format(l))))\n",
    "\"\"\"\n",
    "print('') # so the cell produces no bad rendered output"
   ]
  },
  {
   "cell_type": "markdown",
   "metadata": {},
   "source": [
    "The first order of business is creating the binary Goppa code. Recall that we have 3 parameters to specify:\n",
    "+ $m$: the degree of the modulus of $\\mathbb{F}_{2^m}$\n",
    "+ $t$: the maximum number of correctable errors\n",
    "+ $n$: the number of elements in our support, taken from $\\mathbb{F}_{2^m}$\n",
    "\n",
    "Together, they implicitly define our dimension $k$.\n",
    "+ $k$: $n - m \\cdot t$\n",
    "\n",
    "Therefore, $n$ should be greater than $m * t$.\n",
    "\n",
    "Additionally, we run into problems if m is divisble by t, because then we cannot guarantee later on that $g(\\sigma_i(z))$ is not $0$ for all support elements. As we divide by $g(\\sigma_i(z))$ during the computation of the parity check matrix, we would then divide by $0$. This requirement is a result of the limited choices that are reasonable to make in Sage. Normally this is not a requirement as in general, $t$ is much bigger than $m$.\n",
    "\n",
    "Lastly, $n = k + t*m$ , so $n$ can in theory have any value between $t \\cdot m + 1$ and $2^m$, because in the smallest case $k = 1$ and in the largest case we can use all the elements of $\\mathbb{F}_{2^m}$. Note that $n$ and $k$ are security parameters, so choosing them with care is important."
   ]
  },
  {
   "cell_type": "code",
   "execution_count": 3,
   "metadata": {},
   "outputs": [],
   "source": [
    "def check_parameters(m, t, n, k, verbose):\n",
    "    assert k > 0, '''k should be bigger than 0. Try increasing n\n",
    "                     or decreasing t or m'''\n",
    "    assert m % t != 0, '''if m is divisible by t, we will get \n",
    "                        problems when we divide by g(sigma_i) \n",
    "                        in the parity check matrix. \n",
    "                        make sure this is not the case'''\n",
    "    assert n <= 2^m, '''n exceeds the number of elements\n",
    "                        in the support'''\n",
    "    if verbose:\n",
    "        print(f'\\nParameter setting: \\n'\n",
    "              f'---------------------------------\\n'\n",
    "              f'm = {m}\\nt = {t}\\nn = {n}\\nk = {k} \\n')"
   ]
  },
  {
   "cell_type": "markdown",
   "metadata": {},
   "source": [
    "Now that the parameters have been checked, we have to decide which modulus we want to use. The following cell enumerates all possibilities for $\\mathbb{F}_{2^m}$.\n",
    "\n",
    "Now we can pick one modulus from the list. In the code, $f$ denotes the modulus for $\\mathbb{F}_{2^m}$. We can now initialise the field."
   ]
  },
  {
   "cell_type": "code",
   "execution_count": 4,
   "metadata": {
    "scrolled": false
   },
   "outputs": [],
   "source": [
    "def create_F_2m(m, verbose):\n",
    "    #initialisation for the field indeterminates\n",
    "    _.<z> = GF(2)[]\n",
    "    _.<x> = GF(2)[]\n",
    "\n",
    "    #list all irreducible polynomials of degree m. \n",
    "    # These are the viable candidates for the moduli.\n",
    "    irreducibles_z = [p for p in (GF(2)['z']).polynomials(m) \n",
    "                      if p.is_irreducible()]\n",
    "\n",
    "    #This is the modulus for f_{2^m}\n",
    "    #We can either take the first element of the list of \n",
    "    # irreducible polynomials \n",
    "    #or pick our own form the list above\n",
    "    f = irreducibles_z[0]\n",
    "\n",
    "    #Now we can initialise the field\n",
    "    K.<z> =  GF(2^m, modulus = f)\n",
    "    \n",
    "    if verbose:\n",
    "        print(f'\\nCreation of F_2^m:\\n'\n",
    "              f'---------------------')\n",
    "        if verbose > 1:\n",
    "            print(type(irreducibles_z))\n",
    "            print(f'These are the {len(irreducibles_z)}' \n",
    "                  f'viable moduli of degree {m}')\n",
    "            latexprint(latex(irreducibles_z))\n",
    "        print(\"This is the chosen modulus f(z)\")\n",
    "        latexprint(f)\n",
    "        print(f'This is an enumeration of the elements'\n",
    "              f'of F_2^{m}')\n",
    "        latexprint([\"{}: {}\".format(i,element) \n",
    "                    for i, element in enumerate(K)])\n",
    "    return K"
   ]
  },
  {
   "cell_type": "markdown",
   "metadata": {},
   "source": [
    "Now that the field $\\mathbb{F}_{2^m}$ has been created, we can select a modulus for the big field  $\\mathbb{F}_{2^m}[x]/g(x,z)$. There are a lot of possibilities for $g(x,z)$, but in this notebook we will consider only the $g(x,z)$ with binary coefficients for technical reasons. Do not make this choice when building a real cryptosystem. For educational purposes, 5 viable options for $g(x,z)$ are shown that have coefficients in $F_{2^m}$.\n",
    "\n",
    "In the code, $g$ denotes $g(x,z)$. We can now pick a modulus for $\\mathbb{F}_{2^m}[x]/g(x,z)$ by picking an element from the list above."
   ]
  },
  {
   "cell_type": "code",
   "execution_count": 5,
   "metadata": {},
   "outputs": [],
   "source": [
    "def show_possible_g_without_binary_coefficients(K, t, verbose):\n",
    "    # function to show possible non binary polynomials \n",
    "    # - only for description - not use!\n",
    "    G.<x> = K[]\n",
    "    counter = 0\n",
    "    ps = []\n",
    "    number_examples = 5\n",
    "    while counter < number_examples:\n",
    "        p = G.random_element(t)\n",
    "        if p.is_irreducible():\n",
    "            ps.append(p)\n",
    "            counter = counter + 1\n",
    "\n",
    "    print(f'These are {number_examples} examples of possible'\n",
    "          f'goppa polynomials (moduli of degree {t})'\n",
    "          f' with coefficients in z, which we will not use')\n",
    "    latexprint(ps)\n",
    "\n",
    "def func_choose_g(K, t, verbose,  method='first_binary'):\n",
    "    # method: 'random_binary', 'first_binary', \n",
    "    #          Integer i (choose i-th binary irreducible polynomial)\n",
    "    #This extends F_{2^m} to F_{2^m}[x]\n",
    "    G.<x> = K[]\n",
    "    # choose first irreducible binary g and apply g \n",
    "    # as the modulus to the field F_{2^m}[x]\n",
    "    if method == 'random_binary':\n",
    "        binary_irreducibles_x = [p for p in GF(2)['x'].polynomials(t)\n",
    "                                 if p.is_irreducible()]\n",
    "        g = random.choice(binary_irreducibles_x)\n",
    "    # !'random' does not work!\n",
    "    elif method == 'random':\n",
    "        raise_exception = True\n",
    "        for i in range(10*t):\n",
    "            print(f't: {t}, type: {type(t)}')\n",
    "            p = G.random_element(t)\n",
    "            if p.is_irreducible():\n",
    "                print(p, p.is_irreducible())\n",
    "                #G.<x> = K.extension(p)\n",
    "                #print(f'is field mod g: {G.is_field()}')\n",
    "                g = p\n",
    "                raise_exception = False\n",
    "                break\n",
    "        if raise_exception:\n",
    "            raise Exception('Finding random g took to long!')\n",
    "    elif type(method) == Integer:\n",
    "        print('choose g type Integer')\n",
    "        irreducibles_x = [p for p in GF(2)['x'].polynomials(t)\n",
    "                          if p.is_irreducible()]\n",
    "        g = irreducibles_x[method]\n",
    "    else: # first_binary\n",
    "        for p in GF(2)['x'].polynomials(t):\n",
    "            if p.is_irreducible():\n",
    "                g = p\n",
    "    # G.<x> = K.extension(g) use g as modulus\n",
    "    if verbose:\n",
    "        if verbose > 1:\n",
    "            show_possible_g_without_binary_coefficients(K, \n",
    "                                                        t, \n",
    "                                                        verbose)\n",
    "            print(f'These are the viable moduli of degree {t}'\n",
    "                  f' with binary coefficients')\n",
    "            binary_irreducibles_x = [p for p in GF(2)['x'].polynomials(t)\n",
    "                                     if p.is_irreducible()]\n",
    "            latexprint(binary_irreducibles_x)\n",
    "        print('This is the chosen modulus g(x,z)')\n",
    "        latexprint(g)\n",
    "    return g"
   ]
  },
  {
   "cell_type": "markdown",
   "metadata": {},
   "source": [
    "Now that the fields have been created, we can define our support $\\sigma$."
   ]
  },
  {
   "cell_type": "code",
   "execution_count": 6,
   "metadata": {
    "scrolled": true
   },
   "outputs": [],
   "source": [
    "def choose_support(K, n, m, verbose, method='first_n'):\n",
    "    #method: 'first_n', 'random_n', \n",
    "    #         list of length n with indizes\n",
    "    if method == 'random_n':\n",
    "        index_perm = list(np.random.permutation(range(2^m)))\n",
    "        K_permutation = [list(K)[index_perm[i]] \n",
    "                         for i in range(2^m)]\n",
    "        permuted_sigma = K_permutation[:n]\n",
    "        if verbose:\n",
    "            latexprint(r\"\\text{This is the randomly permuted support }\\sigma\")\n",
    "            latexprint([\"{}: {}\".format(i,element) \n",
    "                        for i, element in enumerate(permuted_sigma)])\n",
    "        return permuted_sigma\n",
    "    # just give a list of length n to choose support\n",
    "    elif type(method) == list: \n",
    "        print('choose support type: given list')\n",
    "        assert len(method) == n, '''given support does not\n",
    "                                    have length n'''\n",
    "        sigma = [list(K)[i] for i in method]\n",
    "    else: # first_n\n",
    "        sigma = list(K)[:n]\n",
    "    if verbose:\n",
    "        print(f'{method} Support: \\n'\n",
    "              f'-------------\\n'\n",
    "              f'These are the elements in the support')\n",
    "        latexprint([f'{i}: {j}' \n",
    "                    for i,j in enumerate(sigma)])\n",
    "    return sigma"
   ]
  },
  {
   "cell_type": "markdown",
   "metadata": {},
   "source": [
    "The following piece of code creates the first of 3 matrices that are used to create the parity check matrix. This matrix looks at the modulus $g(x,z)$ and has the function of taking elements from the second matrix that together form the numerator of the inverse for each support element. For a more detailed explanation, consult the respective document. This matrix is always of the form\n",
    "\n",
    "\\begin{bmatrix}\n",
    "    1 & 0 & 0 &  \\dots & 0 \\\\\n",
    "    g_{t-1} & 1 & 0 &  \\dots & 0\\\\\n",
    "    g_{t-2} & g_{t-1} & 1 &\\dots & 0\\\\\n",
    "   \\vdots & \\vdots  & \\vdots & \\ddots & \\vdots\\\\\n",
    "   g_1 & g_2 & g_3 &  \\dots & 1\n",
    "\\end{bmatrix}\n",
    "\n",
    "\n",
    "In general, this means that all $g_i$ are in $\\mathbb{F}_{2^m}$, but this notebook only considers binary polynomials for $g(x,z)$, as mentioned before."
   ]
  },
  {
   "cell_type": "code",
   "execution_count": 7,
   "metadata": {
    "scrolled": true
   },
   "outputs": [],
   "source": [
    "# This function contains which elements \n",
    "# from the second matrices form the numerators of the inverses\n",
    "def generate_g_matrix(g, t, K, verbose):\n",
    "    # sparse = False means also include non zero coefficients\n",
    "    coefs = g.coefficients(sparse=False)[::-1] \n",
    "    result = []\n",
    "    for i in range(t):\n",
    "        subarray = []\n",
    "        for j in range(i+1):\n",
    "            subarray.append(coefs[i-j])\n",
    "        for k in range(t-i-1):\n",
    "            subarray.append(0)\n",
    "        result.append(subarray)\n",
    "    g_matrix = matrix(K, result)\n",
    "    if verbose > 1:\n",
    "        print(f'First Matrix of Check Matrix:\\n'\n",
    "              f'--------------------------------')\n",
    "        latexprint(latex(g_matrix))\n",
    "    return g_matrix"
   ]
  },
  {
   "cell_type": "markdown",
   "metadata": {},
   "source": [
    "The next cell generates the second of 3 afore-mentioned matrices. This matrix contains all the support elements and their increasing powers. This matrix is of the form\n",
    "\n",
    "\\begin{bmatrix}\n",
    " 1 & 1 & \\dots & 1\\\\\n",
    " \\sigma_0(z) &  \\sigma_1(z) & \\dots &  \\sigma_{n-1}(z)\\\\\n",
    " \\sigma_0(z)^2 & \\sigma_1(z)^2 & \\dots & \\sigma_{n-1}(z)^2\\\\\n",
    " \\vdots & \\vdots  & \\ddots & \\vdots & \\\\\n",
    " \\sigma_0(z)^{t-1} & \\sigma_1(z)^{t-1} & \\dots & \\sigma_{n-1}(z)^{t-1}\n",
    "\\end{bmatrix}"
   ]
  },
  {
   "cell_type": "code",
   "execution_count": 8,
   "metadata": {
    "scrolled": true
   },
   "outputs": [],
   "source": [
    "#This function applies \\sigma_i(z)^j to each entry of the matrix\n",
    "def create_zs_matrix(K, t, n, sigma, verbose):\n",
    "    zs = matrix(K, t, n, lambda i, j: sigma[j]^i)\n",
    "    if verbose > 1:\n",
    "        print(f'Second Matrix of Check Matrix:\\n'\n",
    "              f'--------------------------------')\n",
    "        latexprint(latex(zs))\n",
    "    return zs"
   ]
  },
  {
   "cell_type": "markdown",
   "metadata": {},
   "source": [
    "The following matrix is the last of the 3 matrices involved in the parity check matrix. This matrix handles the denominators of the inverses of the support elements. This matrix is of the form\n",
    "\n",
    "\\begin{bmatrix}\n",
    " \\frac{1}{g(\\sigma_0(z))} & 0 & 0 & 0\\\\\n",
    " 0 & \\frac{1}{g(\\sigma_1(z))} & 0 & 0\\\\\n",
    " 0 & 0 & \\ddots & 0\\\\\n",
    " 0 & 0 & 0 & \\frac{1}{g(\\sigma_{n-1}(z))}\n",
    "\\end{bmatrix}"
   ]
  },
  {
   "cell_type": "code",
   "execution_count": 9,
   "metadata": {
    "scrolled": false
   },
   "outputs": [],
   "source": [
    "def create_diagonal_matrix(K, g, sigma, verbose):\n",
    "    #this is the diagonal matrix with elements 1/g(sigma_i(z))\n",
    "    diagonal = diagonal_matrix(K, [g(element)^-1 \n",
    "                                   for element in sigma])\n",
    "    if verbose > 1:\n",
    "        print(f'Third Matrix of Check Matrix:\\n'\n",
    "              f'--------------------------------')\n",
    "        latexprint(latex(diagonal))\n",
    "    return diagonal"
   ]
  },
  {
   "cell_type": "markdown",
   "metadata": {},
   "source": [
    "Now we can calculate the parity check matrix by multiplying these matrices.\n",
    "\n",
    "Note: You can omit the g_matrix because it is invertible!\n",
    "\n",
    "**Here the g_matrix is not used!**\n",
    "\n",
    "Feel free to change that."
   ]
  },
  {
   "cell_type": "code",
   "execution_count": 10,
   "metadata": {},
   "outputs": [],
   "source": [
    "def create_parity_check_matrix_over_f2m(g, t, K, n,\n",
    "                                        sigma, verbose):\n",
    "    # This is the multiplication of the g matrix, \n",
    "    # matrix with z powers \n",
    "    # and the diagonal matrix with 1/g(\\sigma_i(z)),\n",
    "    # which results in the t*n parity check matrix in F_{2^m}\n",
    "    g_matrix = generate_g_matrix(g,t,K, verbose)\n",
    "    zs = create_zs_matrix(K, t, n, sigma, verbose)\n",
    "    diagonal = create_diagonal_matrix(K, g, sigma, verbose)\n",
    "    # alternative: g_matrix * zs * diagonal\n",
    "    parity_check_matrix_f2m = zs * diagonal \n",
    "    if verbose > 1:\n",
    "        print(f'Check Matrix over F_2^m with dimensions'\n",
    "              f'{parity_check_matrix_f2m.nrows()}x'\n",
    "              f'{parity_check_matrix_f2m.ncols()}:\\n'\n",
    "              f'--------------------------------')\n",
    "        latexprint(latex(parity_check_matrix_f2m))\n",
    "    return parity_check_matrix_f2m"
   ]
  },
  {
   "cell_type": "markdown",
   "metadata": {},
   "source": [
    "As we prefer working with binary matrices, we will convert the $t \\times n$ parity check matrix in $\\mathbb{F}_{2^m}$ to a $t*m \\times n$ binary parity check matrix by extending all elements vertically. The first binary value is the coefficient belonging to z^0. The second is the coefficient belonging to z^1, etc. In the paper, this is denoted as\n",
    "\n",
    "\n",
    "$$\\begin{equation}  \\label{matrix:binaryfinal}H = \\begin{bmatrix}    I_{0,0,0} &  I_{1,0,0} & \\dots & I_{n-1,0,0}\\\\   I_{0,0,1} &  I_{1,0,1} & \\dots & I_{n-1,0,1}\\\\    \\vdots & \\vdots & \\ddots & \\vdots\\\\    I_{0,0,m-1} &  I_{1,0,m-1} & \\dots & I_{n-1,0,m-1}  \\\\    I_{0,1,0} & I_{1,1,0} & \\dots & I_{n-1,1,0}\\\\    I_{0,1,1} & I_{1,1,1} & \\dots & I_{n-1,1,1}\\\\    \\vdots & \\vdots & \\ddots & \\vdots\\\\    I_{0,1,m-1} & I_{1,1,m-1} & \\dots & I_{n-1,1,m-1}\\\\    \\vdots & \\vdots & \\ddots & \\vdots\\\\    I_{0,t-1,0} & I_{1,t-1,0} & \\dots & I_{n-1,t-1,0}\\\\    I_{0,t-1,1} & I_{1,t-1,1} & \\dots & I_{n-1,t-1,1}\\\\    \\vdots & \\vdots & \\ddots & \\vdots\\\\    I_{0,t-1,m-1} &  I_{1,t-1,m-1} & \\dots & I_{n-1,t-1,m-1} \\\\  \\end{bmatrix}\\end{equation}$$"
   ]
  },
  {
   "cell_type": "code",
   "execution_count": 11,
   "metadata": {},
   "outputs": [],
   "source": [
    "#This function vertically extends the elements\n",
    "def f2m_to_binary_matrix(M_f2m, m, verbose):\n",
    "    resultlist = []\n",
    "    rows = [r.list() for r in list(M_f2m)]\n",
    "    for row in rows:\n",
    "        expandedrow = []\n",
    "        for element in row:\n",
    "            coefs = element.polynomial().coefficients(sparse=\n",
    "                                                      False)\n",
    "            coefs.extend((m - len(coefs))*[0])   \n",
    "            expandedrow.append(coefs)\n",
    "        expandedrow_T = list(map(list, zip(*expandedrow)))\n",
    "        resultlist.extend(expandedrow_T)\n",
    "    parity_check_matrix_f2 = matrix(GF(2), resultlist)\n",
    "    if verbose > 1:\n",
    "        print(f'The check matrix over F_2 has dimensions '\n",
    "              f'{parity_check_matrix_f2.nrows()}x'\n",
    "              f'{parity_check_matrix_f2.ncols()} and is  :\\n'\n",
    "              f'--------------------------------')\n",
    "        latexprint(latex(parity_check_matrix_f2))\n",
    "    return parity_check_matrix_f2\n",
    "\n",
    "def create_binary_check_matrix(g, t, K, n, sigma, m, verbose):\n",
    "    # just a function calling the sub functions \n",
    "    # to have a nicer interface\n",
    "    parity_check_matrix_f2m = create_parity_check_matrix_over_f2m(g,\n",
    "                                                                  t,\n",
    "                                                                  K,\n",
    "                                                                  n, \n",
    "                                                                  sigma,\n",
    "                                                                  verbose)\n",
    "    parity_check_matrix_f2 =  f2m_to_binary_matrix(parity_check_matrix_f2m,\n",
    "                                                   m, \n",
    "                                                   verbose)\n",
    "    return parity_check_matrix_f2"
   ]
  },
  {
   "cell_type": "markdown",
   "metadata": {},
   "source": [
    "Now that we have the parity check matrix, we want to construct the generator matrix. Recall that we need to convert our parity check matrix to the systematic form $\\begin{pmatrix} P_{(n-k) \\times k}^T | I_{n-k} \\end{pmatrix}$ to get the generator matrix $\\begin{pmatrix} I_k | P_{k \\times (n-k)}  \\end{pmatrix}$. However, since we start with the parity check matrix, it is easier to convert it to the form $\\begin{pmatrix} I_{n-k} | P_{(n-k) \\times k}^T\\end{pmatrix}$ using the row echelon function, which basically applies Gaussian elimination. Then our generator matrix becomes $\\begin{pmatrix} P_{k \\times (n-k)}| I_k   \\end{pmatrix}$"
   ]
  },
  {
   "cell_type": "code",
   "execution_count": 12,
   "metadata": {},
   "outputs": [],
   "source": [
    "def parity_check_matrix_standard_form(g, \n",
    "                                      t, \n",
    "                                      K, \n",
    "                                      n, \n",
    "                                      sigma, \n",
    "                                      m, \n",
    "                                      k, \n",
    "                                      verbose):\n",
    "    parity_check_matrix_f2 =  create_binary_check_matrix(g, \n",
    "                                                         t, \n",
    "                                                         K, \n",
    "                                                         n, \n",
    "                                                         sigma,\n",
    "                                                         m, \n",
    "                                                         verbose)\n",
    "    #This is the t*m by n parity check matrix in F_2 in systematic form\n",
    "    parity_check_matrix_f2_standard_form = parity_check_matrix_f2.echelon_form()\n",
    "    left_side = parity_check_matrix_f2_standard_form[0:, :n-k]\n",
    "    assert left_side == identity_matrix(n-k), '''the parity check matrix cannot be\n",
    "                                                 converted to systematic form. \n",
    "                                                 Please choose other parameters'''\n",
    "    if verbose:\n",
    "        print(f'Parity check matrix in echolon form:\\n'\n",
    "              f'-------------------------------------')\n",
    "        latexprint(r\"\\text{This is the parity check matrix}\")\n",
    "        latexprint(latex(parity_check_matrix_f2_standard_form))\n",
    "    return parity_check_matrix_f2_standard_form\n",
    "\n",
    "# Here we calculate the parity check part \n",
    "# of the parity check matrix \n",
    "# and use it to construct the generator matrix\n",
    "def parity_to_generator(parity, k, verbose):\n",
    "    P_T =parity[0:, -k:]\n",
    "    P = P_T.transpose()\n",
    "    generator_matrix = P.augment(identity_matrix(k))\n",
    "    if verbose:\n",
    "        latexprint(r\"\\text{This is the generator matrix}\")\n",
    "        latexprint(latex(generator_matrix))\n",
    "    return generator_matrix"
   ]
  },
  {
   "cell_type": "markdown",
   "metadata": {},
   "source": [
    "Now we have successfully constructed the binary Goppa code including the generator matrix and the parity check matrix. This means that we construct a message and the respective code word."
   ]
  },
  {
   "cell_type": "code",
   "execution_count": 13,
   "metadata": {
    "scrolled": true
   },
   "outputs": [],
   "source": [
    "# This is a helper function to create a message\n",
    "# of length k \n",
    "# for niederreiter set the function parameter k to n,\n",
    "# so the message is extended to length n\n",
    "def to_lengthk_message(b, k, verbose):\n",
    "    cur_len = len(b)\n",
    "    assert cur_len <= k, f'''the list {b} of bits you defined\n",
    "                            is longer than {k}. \n",
    "                            This should be {k} or less'''\n",
    "    b.extend([0] * (k - cur_len))\n",
    "    message = matrix(GF(2), b)\n",
    "    if verbose:\n",
    "        print(f'This is the message of length {k}'\n",
    "              f' that will be encoded')\n",
    "        latexprint(latex(message))\n",
    "    return message\n",
    "\n",
    "def encode_message(message, matrix, verbose, \n",
    "                   method='mceliece'):\n",
    "    if method == 'niederreiter':\n",
    "        codeword = matrix * message.transpose()\n",
    "        if verbose:\n",
    "            print(\"This is the encrypted message.\")\n",
    "            latexprint(latex(codeword))\n",
    "        return codeword\n",
    "    else: #mceliece\n",
    "        codeword = message * matrix\n",
    "        if verbose:\n",
    "            print('''This is the respective code word\n",
    "            of length {len(codeword}. \n",
    "            Note that the last {k} bits of the code word\n",
    "            are the message''')\n",
    "            latexprint(latex(codeword))\n",
    "        return codeword\n",
    "\n",
    "def check_syndrome(vector, parity_check_matrix_f2_standard_form,\n",
    "                   verbose, note=''):\n",
    "    # helper function for debugging\n",
    "    syndrome =  parity_check_matrix_f2_standard_form * vector.transpose()\n",
    "    if verbose > 1:\n",
    "        print(f'Syndrome of {note}')\n",
    "        latexprint(latex(syndrome.transpose()))\n",
    "    return syndrome"
   ]
  },
  {
   "cell_type": "markdown",
   "metadata": {},
   "source": [
    "Now we will introduce an error vector and add it to our code word. This results in an erroneous word w.\n",
    "\n",
    "$$ w = m \\cdot G + e $$"
   ]
  },
  {
   "cell_type": "code",
   "execution_count": 14,
   "metadata": {},
   "outputs": [],
   "source": [
    "def hamming_weight(v):\n",
    "    return len(v.coefficients())\n",
    "\n",
    "# This is a helper function to \n",
    "# easily create an error vector\n",
    "def create_errorvector(n, t, verbose, method='first'):\n",
    "    if method == 'dummy':\n",
    "        # this method is onnly kept because \n",
    "        # it was in original code\n",
    "        # probability of error depends on position\n",
    "        # early positions more likely to contain error\n",
    "        # first few position 50/50, later positions \n",
    "        # probability zero after t errors\n",
    "        result = []\n",
    "        counter = 0\n",
    "        for i in range(n):\n",
    "            rand = randint(0,1)\n",
    "            if rand == 1:\n",
    "                if counter < t:\n",
    "                    counter += 1\n",
    "                else:\n",
    "                    rand = 0\n",
    "            result.append(rand)\n",
    "    elif method == 'uniformally':\n",
    "        # each position has equal probability \n",
    "        # to contain error\n",
    "        selected_positions = random.sample(range(n), t)\n",
    "        result = [1 if i in selected_positions else 0 \n",
    "                  for i in range(n)]\n",
    "    elif type(method) == list:\n",
    "        print('error type list')\n",
    "        assert len(method)== n, '''given error does \n",
    "                                   not have length n'''\n",
    "        result = method\n",
    "    else: # first\n",
    "        # first t positions contain error\n",
    "        result = [1]*t + [0]*(n-t)\n",
    "    errorvector = matrix(GF(2), result)\n",
    "    assert hamming_weight(errorvector) <= t, '''You introduced \n",
    "                                                too many errors'''\n",
    "    if verbose:\n",
    "        print(f'This is the error vector of length {n}'\n",
    "              f' and weight {hamming_weight(errorvector)}'\n",
    "              f' we will introduce')\n",
    "        latexprint(latex(errorvector))\n",
    "    return errorvector"
   ]
  },
  {
   "cell_type": "code",
   "execution_count": 15,
   "metadata": {},
   "outputs": [],
   "source": [
    "def add_error(codeword, errorvector, verbose):\n",
    "    w = codeword + errorvector\n",
    "    if verbose == 1:\n",
    "        print(f'codeword')\n",
    "        latexprint(latex(w))\n",
    "    if verbose > 1:\n",
    "        print(f'codeword      {latexprint(latex(codeword))}\\n'\n",
    "              f'errorvector   {latexprint(latex(codeword))}\\n'\n",
    "              f'send vector {latexprint(latex(codeword))}\\n')\n",
    "    return w"
   ]
  },
  {
   "cell_type": "markdown",
   "metadata": {},
   "source": [
    "Now comes the trickiest part. We want to decode the erroneous word and retrieve the message. As the paper showed, we know that\n",
    "\n",
    "$$S_w(x,z) = \\begin{equation}    \\sum_{i = 0}^{n-1} \\frac{c_i + e_i}{x - \\sigma_i(z)} = \\sum_{i = 0}^{n-1} \\frac{c_i}{x - \\sigma_i(z)} + \\sum_{i = 0}^{n-1} \\frac{e_i}{x - \\sigma_i(z)} \\equiv 0 + \\sum_{i = 0}^{n-1} \\frac{e_i}{x - \\sigma_i(z)} \\text{ mod } g(x,z)\\end{equation}$$\n",
    "\n",
    "so let's reconstruct that first by looking at the bits in $w$. Note that we need knowledge of our support $\\sigma$ and the modulus $g(x,z)$ to do this.\n"
   ]
  },
  {
   "cell_type": "code",
   "execution_count": 16,
   "metadata": {},
   "outputs": [],
   "source": [
    "def construct_Sw(word,sigma, g, K):\n",
    "    G.<x> = K.extension(g)\n",
    "    w_list = word.list()\n",
    "    #here we reconstruct (c_i + e_i)/(x - sigma_i)\n",
    "    return sum([entry * (x - sigma[index])^-1 \n",
    "                for index, entry in enumerate(w_list)])\n",
    "\n",
    "def compare_syndrom_polynomial(Sw, errorvector, sigma, g, K):  \n",
    "    # only helper function for debugging and additinal explanation\n",
    "    Se = construct_Sw(errorvector, sigma, g, K)\n",
    "    latexprint(r\"\\text{This is } S_w(x,z) \\text{. For comparison,  }\")\n",
    "    latexprint(r\"S_e(x, z) \\text{ of the error vector is \")\n",
    "    latexprint(r\"printed below it to show they are equal}\")\n",
    "    latexprint(latex(Sw))\n",
    "    latexprint(latex(Se))"
   ]
  },
  {
   "cell_type": "markdown",
   "metadata": {},
   "source": [
    "Now that we have $S_w(x,z)$, we can calculate $V(x,z)$ such that\n",
    "\n",
    " $$V(x,z) = \\sqrt{x  + \\frac{1}{S_w(x,z)}}$$\n",
    " \n",
    "Note that for any element with coefficients $c_i$ in our field $\\mathbb{F}_{2^m}[x]$, $$(c_{t-1}x^{t-1} + \\dots + c_1x + c_0)^2 = c_{t-1}^2x^{2(t-1)} + \\dots + c_1^2x^2 + c_0^2$$\n",
    "\n",
    "Therefore, the square root of an element is\n",
    "$$\\sqrt{c_{t-1}x^{t-1} + \\dots + c_1x + c_0} = \\sqrt{c_t}\\sqrt{x^{t-1}} + \\dots + \\sqrt{c_1}\\sqrt{x} + \\sqrt{c_0}$$\n",
    "\n",
    "We use this observation to circumvent a limitation of Sage, namely that Sage does not support square roots of elements in our field $\\mathbb{F}_{2^m}[x]/g(x,z)$.\n"
   ]
  },
  {
   "cell_type": "code",
   "execution_count": 17,
   "metadata": {},
   "outputs": [],
   "source": [
    "def calculate_v(g, K, t, Sw, verbose):\n",
    "    #This helper field with indeterminate b is used \n",
    "    # to check for all x's if they are a square, \n",
    "    #as this functionality is not available for \n",
    "    # F_{2^m}[x]/g(x,z), but is available for F_{2^t}\n",
    "    G.<x> = K.extension(g)\n",
    "    _.<b> = GF(2)[]\n",
    "    SqrtField.<b> = GF(2^t, modulus = g(b))\n",
    "\n",
    "    #This helper function checks for all pairs of \n",
    "    # C_i*x^i if c_i is a square and x^i is a square, \n",
    "    #because only then c_i*x^i is a square\n",
    "    def is_square_f2mx(el):\n",
    "        coefs = list(el)\n",
    "        result = True\n",
    "        for index,coef in enumerate(coefs):\n",
    "            if coef != 0:\n",
    "                result = result and (b^index).is_square() and coef.is_square()\n",
    "        return result\n",
    "\n",
    "    #This helper function converts an element from helper\n",
    "    # field SqrtField back to F_{2^m}[x]/g(x)\n",
    "    def b_to_x(element):\n",
    "        xcoefs = element.polynomial().coefficients(sparse = False)\n",
    "        xvalue = 0\n",
    "        for exponent,xcoef in enumerate(xcoefs):\n",
    "            if xcoef != 0:\n",
    "                xvalue += x^exponent\n",
    "        return xvalue\n",
    "\n",
    "    #Using the observation from the previous cell, \n",
    "    # this function calculates the square root \n",
    "    # of an element in F_{2^m}[x]\n",
    "    #by taking the square root of each coefficient c_i \n",
    "    # and each x^i separately \n",
    "    # and then multiplying them afterwards\n",
    "    def sqrt_f2mx(element, Sw):\n",
    "        assert is_square_f2mx(element), \"not a square\"\n",
    "        result = 0\n",
    "        for index,coef in enumerate(list(element)):\n",
    "            if coef != 0:\n",
    "                bsquare_for_x = sqrt(b^index)\n",
    "                xsquare = b_to_x(bsquare_for_x)\n",
    "                coefsqrt = sqrt(coef)\n",
    "                result += coefsqrt*xsquare\n",
    "        return result\n",
    "    v = sqrt_f2mx(x + Sw^-1, Sw)\n",
    "    if verbose:\n",
    "        latexprint(r\"\\text{This is our polynomial }V(x,z)\")\n",
    "        latexprint(latex(v))\n",
    "    return v"
   ]
  },
  {
   "cell_type": "markdown",
   "metadata": {},
   "source": [
    "Now that we have $V(x,z)$, we can apply the extended Euclidean algorithm to get an equation of the form\n",
    "\n",
    "$$\\begin{equation}    A(x,z) = B(x,z)V(x,z) + H(x,z)g(x)\\end{equation}$$\n",
    "\n",
    "Here $A(x,z)$ and $B(x,z)$ have the following requirements.\n",
    "$$\\begin{equation}\\label{degrees}\\text{the degree of }A(x,z) \\leq \\left \\lfloor{\\frac{t}{2}}\\right \\rfloor \\text{ and }\\text{the degree of }B(x,z) \\leq \\left \\lfloor{\\frac{t-1}{2}}\\right \\rfloor\\end{equation}$$\n",
    "\n",
    "Then the error locator polynomial is\n",
    "\n",
    "$$\\begin{equation}\\label{errorlocator}    \\epsilon(x,z) = \\prod_{i, e_i \\neq 0} (x - \\sigma_i(z)) = A(x,z)^2 + x*B(x,z)^2\\end{equation}$$\n",
    "\n",
    "For an elaborate explanation, please consult the respective white paper that was mentioned in the introduction.\n"
   ]
  },
  {
   "cell_type": "code",
   "execution_count": 18,
   "metadata": {
    "scrolled": false
   },
   "outputs": [],
   "source": [
    "#This helper function returns the degree of an element\n",
    "def degree_poly(el):\n",
    "    as_list = list(el)\n",
    "    return len(as_list) - 1\n",
    "\n",
    "def calculate_error_locator_polynomial(g, \n",
    "                                       t, \n",
    "                                       K, \n",
    "                                       v, \n",
    "                                       verbose):\n",
    "    #The indeterminate h is used to denote a field \n",
    "    # that has modulus f(z) \n",
    "    # but not modulus g(x), also know as F_{2^m}[x],\n",
    "    #or in this case, F_{2^m}[h], \n",
    "    # because we shouldn't reduce mod g(x,z) \n",
    "    # during the extended Euclidean algorithm\n",
    "    G.<x> = K.extension(g)\n",
    "    _.<h> = K[]\n",
    "    \n",
    "    #This helper function converts an element from \n",
    "    # F_{2^m}[x]/g(x) to the helper field\n",
    "    def hpoly(el):\n",
    "        as_list = list(x - x + el)\n",
    "        return sum([h^exponent * entry \n",
    "                    for exponent,entry in enumerate(as_list)])\n",
    "\n",
    "    def error_locator_polynomial(v_xz):\n",
    "        a_degree = floor(t/2)\n",
    "        b_degree = floor((t-1)/2)\n",
    "        v_poly =  hpoly(v_xz)\n",
    "        g_poly = g(h)\n",
    "        remainder = [g_poly, v_poly]\n",
    "        v_mult = [0, 1]\n",
    "        g_mult = [1, 0]\n",
    "        a_hz = v_poly\n",
    "        #adding and subtracting h to force class type\n",
    "        b_hz = h - h + 1 \n",
    "        index = 2\n",
    "        while not (degree_poly(a_hz) <= a_degree and degree_poly(b_hz) <= b_degree):\n",
    "            a_hz = remainder[index - 2] % remainder[index - 1]\n",
    "            q = (remainder[index - 2] - a_hz) / remainder[index - 1]\n",
    "            #sometimes q has a fraction class, \n",
    "            # so this makes sure we can extract coefficients\n",
    "            q = q.numerator() \n",
    "            remainder.append(a_hz)\n",
    "            v_mult.append(v_mult[index - 2] - q * v_mult[index - 1])\n",
    "            g_mult.append(g_mult[index - 2] - q * g_mult[index - 1])\n",
    "            b_hz = v_mult[index] \n",
    "            index = index + 1\n",
    "        index = index - 1\n",
    "        result = a_hz^2 + h*(b_hz^2)\n",
    "        return result\n",
    "    e_hz = error_locator_polynomial(v)\n",
    "    if verbose:\n",
    "        print(f'The error locator polynomial is \\n'\n",
    "              f'-----------------------------------')\n",
    "        latexprint(latex(e_hz))\n",
    "        print(f'note that the degree of the error locator polynomial is,'\n",
    "              f'equal to the number of errors {t} we introduced')\n",
    "    return e_hz"
   ]
  },
  {
   "cell_type": "code",
   "execution_count": 19,
   "metadata": {},
   "outputs": [],
   "source": [
    "def calculate_error_locator_polynomial(g, \n",
    "                                       t, \n",
    "                                       K, \n",
    "                                       v, \n",
    "                                       verbose):\n",
    "    G.<x> = K.extension(g)\n",
    "    _.<h> = K[]\n",
    "    \n",
    "    def hpoly(el):\n",
    "        as_list = list(x - x + el)\n",
    "        return sum([h^exponent * entry \n",
    "                    for exponent,entry in enumerate(as_list)])\n",
    "\n",
    "    def error_locator_polynomial(v_xz):\n",
    "        a_degree = floor(t/2)\n",
    "        b_degree = floor((t-1)/2)\n",
    "        v_poly =  hpoly(v_xz)\n",
    "        g_poly = g(h)\n",
    "        remainder = [g_poly, v_poly]\n",
    "        v_mult = [0, 1]\n",
    "        g_mult = [1, 0]\n",
    "        a_hz = v_poly\n",
    "        b_hz = h - h + 1 \n",
    "        index = 2\n",
    "        while not (degree_poly(a_hz) <= a_degree and degree_poly(b_hz) <= b_degree):\n",
    "            a_hz = remainder[index - 2] % remainder[index - 1]\n",
    "            q = (remainder[index - 2] - a_hz) / remainder[index - 1]\n",
    "            q = q.numerator() \n",
    "            remainder.append(a_hz)\n",
    "            v_mult.append(v_mult[index - 2] - q * v_mult[index - 1])\n",
    "            g_mult.append(g_mult[index - 2] - q * g_mult[index - 1])\n",
    "            b_hz = v_mult[index] \n",
    "            index = index + 1\n",
    "        index = index - 1\n",
    "        result = a_hz^2 + h*(b_hz^2)\n",
    "        return result\n",
    "    e_hz = error_locator_polynomial(v)\n",
    "    return e_hz"
   ]
  },
  {
   "cell_type": "markdown",
   "metadata": {},
   "source": [
    "Now that we have constructed the error locator polynomial, we can reconstruct the error vector that was added to the code word. \n",
    "We do this by iterating over all the elements of our support $\\sigma$ and checking whether $\\epsilon(\\sigma_i(z), z) = 0$. For all $\\sigma_i(z)$ that this is true, we know that index $i$ of the error vector was $1$. Otherwise it was $0$.\n",
    "Once we have reconstructed the error vector, we can subtract it from the erroneous word to retrieve the code word and extract the message."
   ]
  },
  {
   "cell_type": "code",
   "execution_count": 20,
   "metadata": {},
   "outputs": [],
   "source": [
    "def reconstruct_error_vector(error_polynomial, \n",
    "                             sigma, \n",
    "                             verbose):\n",
    "    result_list = []\n",
    "    for element in sigma:\n",
    "        if error_polynomial(element) == 0:\n",
    "            result_list.append(1)\n",
    "        else:\n",
    "            result_list.append(0)\n",
    "    reconstructed_errorvector = matrix(GF(2), result_list)\n",
    "    if verbose:\n",
    "        # error vector comparison\n",
    "        print(f'\\nerror comparison \\n'\n",
    "              f'-----------------------------')\n",
    "        print(\"reconstructed error vector:\")\n",
    "        latexprint(latex(reconstructed_errorvector))\n",
    "    return reconstructed_errorvector\n",
    "\n",
    "def reconstruct_send_message(w, reconstructed_errorvector,\n",
    "                             k, verbose):\n",
    "    reconstructed_codeword = w - reconstructed_errorvector\n",
    "    retrieved_message = (matrix(GF(2), \n",
    "                        reconstructed_codeword.list()[-k:]))\n",
    "    if verbose:\n",
    "    # send word comparison\n",
    "        print(f'\\nsend vs reconstructed code word:\\n'\n",
    "              f'----------------------------')\n",
    "        print('reconstructed code word:')\n",
    "        latexprint(latex(reconstructed_codeword))\n",
    "        \n",
    "        print(f'\\nreconstruction of message\\n'\n",
    "              f'----------------------------')\n",
    "        print(f'the message is therefore the last {k}'\n",
    "              f' bits of the reconstructed code word')\n",
    "        latexprint(latex(retrieved_message))\n",
    "    return retrieved_message"
   ]
  },
  {
   "cell_type": "markdown",
   "metadata": {},
   "source": [
    "sometimes the parity check matrix is not able to be converted to systematic form\n",
    "then a different random support is chosen to make the matrix convertable\n",
    "\n",
    "this procedure is repeated max 'num_entries' times\n",
    "\n",
    "a warning is given if the initial method for the support was not random"
   ]
  },
  {
   "cell_type": "code",
   "execution_count": 21,
   "metadata": {},
   "outputs": [],
   "source": [
    "def repeat_choosing_support( num_retries, \n",
    "                            g, \n",
    "                            t, \n",
    "                            K, \n",
    "                            n, \n",
    "                            m, \n",
    "                            k, \n",
    "                            verbose, \n",
    "                            method):\n",
    "    # method: 'first_n', 'random_n', list of length n with indizes\n",
    "    sigma = choose_support(K, n, m, verbose, method)\n",
    "    for attempt_no in range(num_retries):\n",
    "        try:\n",
    "            parity_check_matrix_f2_standard_form = parity_check_matrix_standard_form(\n",
    "                g, t, K, n, sigma, m, k, verbose\n",
    "            )\n",
    "            return sigma, parity_check_matrix_f2_standard_form\n",
    "        except AssertionError as error:\n",
    "            if method != 'random':\n",
    "                warnings.warn(f'Parity check matrix not'\n",
    "                              f'convertable to standard form'\n",
    "                              f'- choose different support randomly')\n",
    "            if attempt_no < (num_retries - 1):\n",
    "                if verbose:\n",
    "                    print(f'Error: Could not convert parity check'\n",
    "                          f'matrix to standard form\\n'\n",
    "                          f'choose different random support')\n",
    "                sigma = choose_support(K, n, m, verbose, 'random_n')\n",
    "            else:\n",
    "                raise error\n",
    "    return sigma, parity_check_matrix_f2_standard_form"
   ]
  },
  {
   "cell_type": "markdown",
   "metadata": {},
   "source": [
    "Now that we have successfully created and used the binary Goppa code, we can turn it into the McEliece cryptographic system. Recall from the paper that to hide any code, we multiply the generator matrix by a random invertible matrix and permute it. The cipher text $T$ is then\n",
    "\n",
    "$$T =  mSGP + e$$\n",
    "\n",
    "where $m$ is the message, $S$ is a random invertible matrix, $G$ is the generator matrix. $P$ is the permutation matrix and $e$ is the error vector.\n",
    "However, this was the generalised approach for _all_ codes. We can use the properties of the binary Goppa code to achieve this without much effort. First of all, note that we can permute rows by permuting our support $\\sigma$, as the order of the elements in the support defines the order of the columns in the parity check matrix. This means that we can simply take a random permutation of the support elements to get this part done. However, if $n < 2^m$ we will give away information on the original support if we simply permute the elements we chose. Therefore, it is best to randomly permute the entire field $\\mathbb{F}_{2^m}$ and then take the first $n$ elements again.\n",
    "\n",
    "Secondly, we need to incorporate a random invertible matrix. This is implicitly done when we convert the parity check matrix to _systematic form_."
   ]
  },
  {
   "cell_type": "markdown",
   "metadata": {},
   "source": [
    "For the McEliece system in the optimized version the public key is\n",
    "+ The new generator matrix\n",
    "+ the error correction capability $t$\n",
    "\n",
    "And the private key is\n",
    "+ the permuted support $\\sigma$\n",
    "+ the modulus $g(x,z)$\n",
    "\n",
    "Note that the generator matrix always contains an identity matrix (either on the left or the right). Our public key is therefore everything but the identity matrix."
   ]
  },
  {
   "cell_type": "markdown",
   "metadata": {},
   "source": [
    "## McEliece crypto system optimized"
   ]
  },
  {
   "cell_type": "code",
   "execution_count": 22,
   "metadata": {},
   "outputs": [],
   "source": [
    "def mc_eliece_key_gen(m,\n",
    "                      t, \n",
    "                      verbose, \n",
    "                      choose_g='random_binary', \n",
    "                      choose_support='random_n'):\n",
    "    # define Goppa Code, calculate generator \n",
    "    # and parity check matrix\n",
    "    # choose g: 'random_binary', 'first_binary',\n",
    "    #            Integer i (choose i-th. binary irreducible polynomial)\n",
    "    # choose support: # 'first_n', \n",
    "    #                   'random_n', list of length n with indizes\n",
    "    # #---------------------\n",
    "    n = 2^m\n",
    "    k = n - t*m\n",
    "    check_parameters(m, t, n, k, verbose)\n",
    "    K = create_F_2m(m, verbose)\n",
    "    # 'random_binary', 'first_binary', ('random' does not work)\n",
    "    g = func_choose_g(K, t, verbose, choose_g) \n",
    "    sigma, parity_check_matrix_f2_standard_form = repeat_choosing_support(\n",
    "        8, g, t, K, n, m, k, verbose, choose_support )\n",
    "    generator_matrix = parity_to_generator(parity_check_matrix_f2_standard_form, \n",
    "                                           k, \n",
    "                                           verbose)\n",
    "    # store only part without identity matrix\n",
    "    k_pub = (generator_matrix[:, :(n-k)], t, m, k, n) \n",
    "    k_priv = (sigma, g, K)\n",
    "    if verbose:\n",
    "        if verbose > 1:\n",
    "            print(f'generator matrix print')\n",
    "            latexprint(latex(generator_matrix))\n",
    "            print(f'stored subset of generator matrix')\n",
    "            latexprint(latex(generator_matrix[:, :n-k]))\n",
    "        print(f'k_pub:\\n-----------')\n",
    "        latexprint(latex(k_pub))\n",
    "        print(f'k_priv:\\n-----------')\n",
    "        latexprint(latex(k_priv))\n",
    "    return k_pub, k_priv"
   ]
  },
  {
   "cell_type": "code",
   "execution_count": 23,
   "metadata": {},
   "outputs": [],
   "source": [
    "def mc_eliece_encrypt(short_message, \n",
    "                      k_pub, \n",
    "                      verbose2, \n",
    "                      choose_error='uniformally' ):\n",
    "    # choose_error='uniformally', 'dummy', \n",
    "    #              'first', list with error of length n\n",
    "    verbose = False\n",
    "    generator_matrix_without_identity_part, t, m, k, n = [elem for elem in k_pub]\n",
    "    generator_matrix = generator_matrix_without_identity_part.augment(\n",
    "        identity_matrix(k)\n",
    "    )\n",
    "    message = to_lengthk_message(short_message, k, verbose)\n",
    "    codeword = encode_message(message, \n",
    "                              generator_matrix, \n",
    "                              verbose, \n",
    "                              'mceliece')\n",
    "    # 'dummy', 'uniformally', 'first'\n",
    "    errorvector = create_errorvector(n, \n",
    "                                     t, \n",
    "                                     verbose, \n",
    "                                     choose_error) \n",
    "    w = add_error(codeword, errorvector, verbose)\n",
    "    if verbose2:\n",
    "        if verbose2 > 1:\n",
    "            print(f't = {t}, m = {m}, k = {k}, n = {n}')\n",
    "            print('generator matrix without identity part')\n",
    "            latexprint(latex(generator_matrix_without_identity_part))\n",
    "        print('generator matrix with identity part')\n",
    "        latexprint(latex(generator_matrix))\n",
    "        print('message')\n",
    "        latexprint(latex(message))\n",
    "        print('codeword')\n",
    "        latexprint(latex(codeword))\n",
    "        print('errorvector')\n",
    "        latexprint(latex(errorvector))\n",
    "        print('encrypted message')\n",
    "        latexprint(latex(w))\n",
    "    return w"
   ]
  },
  {
   "cell_type": "code",
   "execution_count": 24,
   "metadata": {},
   "outputs": [],
   "source": [
    "def mc_eliece_decrypt(vector, k_priv, verbose):\n",
    "    sigma, g, K = [elem for elem in k_priv]\n",
    "    t = g.degree()\n",
    "    m = Integer(math.log(len(K),2))\n",
    "    n = len(sigma)\n",
    "    k = n - t*m # n - tm\n",
    "    G.<x> = K.extension(g)\n",
    "    Sw = construct_Sw(vector, sigma, g, K)\n",
    "    v = calculate_v(g, K, t, Sw, verbose)\n",
    "    e_hz = calculate_error_locator_polynomial(g, \n",
    "                                              t, \n",
    "                                              K, \n",
    "                                              v, \n",
    "                                              verbose)\n",
    "    reconstructed_errorvector = reconstruct_error_vector(e_hz, \n",
    "                                                         sigma,\n",
    "                                                         verbose)\n",
    "    decoded_message = reconstruct_send_message(vector, \n",
    "                                               reconstructed_errorvector, \n",
    "                                               k, \n",
    "                                               verbose)\n",
    "    return decoded_message"
   ]
  },
  {
   "cell_type": "markdown",
   "metadata": {},
   "source": [
    "## Encrypt and Decrypt with McEliece\n",
    "\n",
    "here you can actually test the encryption and decryption of messages"
   ]
  },
  {
   "cell_type": "code",
   "execution_count": 25,
   "metadata": {
    "scrolled": false
   },
   "outputs": [
    {
     "name": "stdout",
     "output_type": "stream",
     "text": [
      "\n",
      "Parameter setting: \n",
      "---------------------------------\n",
      "m = 4\n",
      "t = 3\n",
      "n = 16\n",
      "k = 4 \n",
      "\n",
      "\n",
      "Creation of F_2^m:\n",
      "---------------------\n",
      "This is the chosen modulus f(z)\n"
     ]
    },
    {
     "data": {
      "text/latex": [
       "$\\displaystyle z^4 + z + 1$"
      ],
      "text/plain": [
       "<IPython.core.display.Math object>"
      ]
     },
     "metadata": {},
     "output_type": "display_data"
    },
    {
     "name": "stdout",
     "output_type": "stream",
     "text": [
      "This is an enumeration of the elementsof F_2^4\n"
     ]
    },
    {
     "data": {
      "text/latex": [
       "$\\displaystyle 0: 0$"
      ],
      "text/plain": [
       "<IPython.core.display.Math object>"
      ]
     },
     "metadata": {},
     "output_type": "display_data"
    },
    {
     "data": {
      "text/latex": [
       "$\\displaystyle 1: z$"
      ],
      "text/plain": [
       "<IPython.core.display.Math object>"
      ]
     },
     "metadata": {},
     "output_type": "display_data"
    },
    {
     "data": {
      "text/latex": [
       "$\\displaystyle 2: z^2$"
      ],
      "text/plain": [
       "<IPython.core.display.Math object>"
      ]
     },
     "metadata": {},
     "output_type": "display_data"
    },
    {
     "data": {
      "text/latex": [
       "$\\displaystyle 3: z^3$"
      ],
      "text/plain": [
       "<IPython.core.display.Math object>"
      ]
     },
     "metadata": {},
     "output_type": "display_data"
    },
    {
     "data": {
      "text/latex": [
       "$\\displaystyle 4: z + 1$"
      ],
      "text/plain": [
       "<IPython.core.display.Math object>"
      ]
     },
     "metadata": {},
     "output_type": "display_data"
    },
    {
     "data": {
      "text/latex": [
       "$\\displaystyle 5: z^2 + z$"
      ],
      "text/plain": [
       "<IPython.core.display.Math object>"
      ]
     },
     "metadata": {},
     "output_type": "display_data"
    },
    {
     "data": {
      "text/latex": [
       "$\\displaystyle 6: z^3 + z^2$"
      ],
      "text/plain": [
       "<IPython.core.display.Math object>"
      ]
     },
     "metadata": {},
     "output_type": "display_data"
    },
    {
     "data": {
      "text/latex": [
       "$\\displaystyle 7: z^3 + z + 1$"
      ],
      "text/plain": [
       "<IPython.core.display.Math object>"
      ]
     },
     "metadata": {},
     "output_type": "display_data"
    },
    {
     "data": {
      "text/latex": [
       "$\\displaystyle 8: z^2 + 1$"
      ],
      "text/plain": [
       "<IPython.core.display.Math object>"
      ]
     },
     "metadata": {},
     "output_type": "display_data"
    },
    {
     "data": {
      "text/latex": [
       "$\\displaystyle 9: z^3 + z$"
      ],
      "text/plain": [
       "<IPython.core.display.Math object>"
      ]
     },
     "metadata": {},
     "output_type": "display_data"
    },
    {
     "data": {
      "text/latex": [
       "$\\displaystyle 10: z^2 + z + 1$"
      ],
      "text/plain": [
       "<IPython.core.display.Math object>"
      ]
     },
     "metadata": {},
     "output_type": "display_data"
    },
    {
     "data": {
      "text/latex": [
       "$\\displaystyle 11: z^3 + z^2 + z$"
      ],
      "text/plain": [
       "<IPython.core.display.Math object>"
      ]
     },
     "metadata": {},
     "output_type": "display_data"
    },
    {
     "data": {
      "text/latex": [
       "$\\displaystyle 12: z^3 + z^2 + z + 1$"
      ],
      "text/plain": [
       "<IPython.core.display.Math object>"
      ]
     },
     "metadata": {},
     "output_type": "display_data"
    },
    {
     "data": {
      "text/latex": [
       "$\\displaystyle 13: z^3 + z^2 + 1$"
      ],
      "text/plain": [
       "<IPython.core.display.Math object>"
      ]
     },
     "metadata": {},
     "output_type": "display_data"
    },
    {
     "data": {
      "text/latex": [
       "$\\displaystyle 14: z^3 + 1$"
      ],
      "text/plain": [
       "<IPython.core.display.Math object>"
      ]
     },
     "metadata": {},
     "output_type": "display_data"
    },
    {
     "data": {
      "text/latex": [
       "$\\displaystyle 15: 1$"
      ],
      "text/plain": [
       "<IPython.core.display.Math object>"
      ]
     },
     "metadata": {},
     "output_type": "display_data"
    },
    {
     "name": "stdout",
     "output_type": "stream",
     "text": [
      "This is the chosen modulus g(x,z)\n"
     ]
    },
    {
     "data": {
      "text/latex": [
       "$\\displaystyle x^3 + x^2 + 1$"
      ],
      "text/plain": [
       "<IPython.core.display.Math object>"
      ]
     },
     "metadata": {},
     "output_type": "display_data"
    },
    {
     "data": {
      "text/latex": [
       "$\\displaystyle \\text{This is the randomly permuted support }\\sigma$"
      ],
      "text/plain": [
       "<IPython.core.display.Math object>"
      ]
     },
     "metadata": {},
     "output_type": "display_data"
    },
    {
     "data": {
      "text/latex": [
       "$\\displaystyle 0: z^3 + z^2 + 1$"
      ],
      "text/plain": [
       "<IPython.core.display.Math object>"
      ]
     },
     "metadata": {},
     "output_type": "display_data"
    },
    {
     "data": {
      "text/latex": [
       "$\\displaystyle 1: 1$"
      ],
      "text/plain": [
       "<IPython.core.display.Math object>"
      ]
     },
     "metadata": {},
     "output_type": "display_data"
    },
    {
     "data": {
      "text/latex": [
       "$\\displaystyle 2: z + 1$"
      ],
      "text/plain": [
       "<IPython.core.display.Math object>"
      ]
     },
     "metadata": {},
     "output_type": "display_data"
    },
    {
     "data": {
      "text/latex": [
       "$\\displaystyle 3: z^2$"
      ],
      "text/plain": [
       "<IPython.core.display.Math object>"
      ]
     },
     "metadata": {},
     "output_type": "display_data"
    },
    {
     "data": {
      "text/latex": [
       "$\\displaystyle 4: z^3 + z + 1$"
      ],
      "text/plain": [
       "<IPython.core.display.Math object>"
      ]
     },
     "metadata": {},
     "output_type": "display_data"
    },
    {
     "data": {
      "text/latex": [
       "$\\displaystyle 5: z^2 + z$"
      ],
      "text/plain": [
       "<IPython.core.display.Math object>"
      ]
     },
     "metadata": {},
     "output_type": "display_data"
    },
    {
     "data": {
      "text/latex": [
       "$\\displaystyle 6: z^3$"
      ],
      "text/plain": [
       "<IPython.core.display.Math object>"
      ]
     },
     "metadata": {},
     "output_type": "display_data"
    },
    {
     "data": {
      "text/latex": [
       "$\\displaystyle 7: z$"
      ],
      "text/plain": [
       "<IPython.core.display.Math object>"
      ]
     },
     "metadata": {},
     "output_type": "display_data"
    },
    {
     "data": {
      "text/latex": [
       "$\\displaystyle 8: 0$"
      ],
      "text/plain": [
       "<IPython.core.display.Math object>"
      ]
     },
     "metadata": {},
     "output_type": "display_data"
    },
    {
     "data": {
      "text/latex": [
       "$\\displaystyle 9: z^3 + z^2$"
      ],
      "text/plain": [
       "<IPython.core.display.Math object>"
      ]
     },
     "metadata": {},
     "output_type": "display_data"
    },
    {
     "data": {
      "text/latex": [
       "$\\displaystyle 10: z^3 + z$"
      ],
      "text/plain": [
       "<IPython.core.display.Math object>"
      ]
     },
     "metadata": {},
     "output_type": "display_data"
    },
    {
     "data": {
      "text/latex": [
       "$\\displaystyle 11: z^3 + z^2 + z + 1$"
      ],
      "text/plain": [
       "<IPython.core.display.Math object>"
      ]
     },
     "metadata": {},
     "output_type": "display_data"
    },
    {
     "data": {
      "text/latex": [
       "$\\displaystyle 12: z^3 + z^2 + z$"
      ],
      "text/plain": [
       "<IPython.core.display.Math object>"
      ]
     },
     "metadata": {},
     "output_type": "display_data"
    },
    {
     "data": {
      "text/latex": [
       "$\\displaystyle 13: z^3 + 1$"
      ],
      "text/plain": [
       "<IPython.core.display.Math object>"
      ]
     },
     "metadata": {},
     "output_type": "display_data"
    },
    {
     "data": {
      "text/latex": [
       "$\\displaystyle 14: z^2 + 1$"
      ],
      "text/plain": [
       "<IPython.core.display.Math object>"
      ]
     },
     "metadata": {},
     "output_type": "display_data"
    },
    {
     "data": {
      "text/latex": [
       "$\\displaystyle 15: z^2 + z + 1$"
      ],
      "text/plain": [
       "<IPython.core.display.Math object>"
      ]
     },
     "metadata": {},
     "output_type": "display_data"
    },
    {
     "name": "stdout",
     "output_type": "stream",
     "text": [
      "Error: Could not convert parity checkmatrix to standard form\n",
      "choose different random support\n"
     ]
    },
    {
     "name": "stderr",
     "output_type": "stream",
     "text": [
      "/tmp/ipykernel_41962/2544655209.py:20: UserWarning: Parity check matrix notconvertable to standard form- choose different support randomly\n",
      "  warnings.warn(f'Parity check matrix not'\n"
     ]
    },
    {
     "data": {
      "text/latex": [
       "$\\displaystyle \\text{This is the randomly permuted support }\\sigma$"
      ],
      "text/plain": [
       "<IPython.core.display.Math object>"
      ]
     },
     "metadata": {},
     "output_type": "display_data"
    },
    {
     "data": {
      "text/latex": [
       "$\\displaystyle 0: z^2 + 1$"
      ],
      "text/plain": [
       "<IPython.core.display.Math object>"
      ]
     },
     "metadata": {},
     "output_type": "display_data"
    },
    {
     "data": {
      "text/latex": [
       "$\\displaystyle 1: z$"
      ],
      "text/plain": [
       "<IPython.core.display.Math object>"
      ]
     },
     "metadata": {},
     "output_type": "display_data"
    },
    {
     "data": {
      "text/latex": [
       "$\\displaystyle 2: z^3 + z + 1$"
      ],
      "text/plain": [
       "<IPython.core.display.Math object>"
      ]
     },
     "metadata": {},
     "output_type": "display_data"
    },
    {
     "data": {
      "text/latex": [
       "$\\displaystyle 3: z^3 + 1$"
      ],
      "text/plain": [
       "<IPython.core.display.Math object>"
      ]
     },
     "metadata": {},
     "output_type": "display_data"
    },
    {
     "data": {
      "text/latex": [
       "$\\displaystyle 4: z^3 + z^2 + 1$"
      ],
      "text/plain": [
       "<IPython.core.display.Math object>"
      ]
     },
     "metadata": {},
     "output_type": "display_data"
    },
    {
     "data": {
      "text/latex": [
       "$\\displaystyle 5: z^2$"
      ],
      "text/plain": [
       "<IPython.core.display.Math object>"
      ]
     },
     "metadata": {},
     "output_type": "display_data"
    },
    {
     "data": {
      "text/latex": [
       "$\\displaystyle 6: z^3 + z^2$"
      ],
      "text/plain": [
       "<IPython.core.display.Math object>"
      ]
     },
     "metadata": {},
     "output_type": "display_data"
    },
    {
     "data": {
      "text/latex": [
       "$\\displaystyle 7: z + 1$"
      ],
      "text/plain": [
       "<IPython.core.display.Math object>"
      ]
     },
     "metadata": {},
     "output_type": "display_data"
    },
    {
     "data": {
      "text/latex": [
       "$\\displaystyle 8: 1$"
      ],
      "text/plain": [
       "<IPython.core.display.Math object>"
      ]
     },
     "metadata": {},
     "output_type": "display_data"
    },
    {
     "data": {
      "text/latex": [
       "$\\displaystyle 9: 0$"
      ],
      "text/plain": [
       "<IPython.core.display.Math object>"
      ]
     },
     "metadata": {},
     "output_type": "display_data"
    },
    {
     "data": {
      "text/latex": [
       "$\\displaystyle 10: z^3 + z$"
      ],
      "text/plain": [
       "<IPython.core.display.Math object>"
      ]
     },
     "metadata": {},
     "output_type": "display_data"
    },
    {
     "data": {
      "text/latex": [
       "$\\displaystyle 11: z^2 + z$"
      ],
      "text/plain": [
       "<IPython.core.display.Math object>"
      ]
     },
     "metadata": {},
     "output_type": "display_data"
    },
    {
     "data": {
      "text/latex": [
       "$\\displaystyle 12: z^3$"
      ],
      "text/plain": [
       "<IPython.core.display.Math object>"
      ]
     },
     "metadata": {},
     "output_type": "display_data"
    },
    {
     "data": {
      "text/latex": [
       "$\\displaystyle 13: z^3 + z^2 + z$"
      ],
      "text/plain": [
       "<IPython.core.display.Math object>"
      ]
     },
     "metadata": {},
     "output_type": "display_data"
    },
    {
     "data": {
      "text/latex": [
       "$\\displaystyle 14: z^3 + z^2 + z + 1$"
      ],
      "text/plain": [
       "<IPython.core.display.Math object>"
      ]
     },
     "metadata": {},
     "output_type": "display_data"
    },
    {
     "data": {
      "text/latex": [
       "$\\displaystyle 15: z^2 + z + 1$"
      ],
      "text/plain": [
       "<IPython.core.display.Math object>"
      ]
     },
     "metadata": {},
     "output_type": "display_data"
    },
    {
     "name": "stdout",
     "output_type": "stream",
     "text": [
      "Error: Could not convert parity checkmatrix to standard form\n",
      "choose different random support\n"
     ]
    },
    {
     "name": "stderr",
     "output_type": "stream",
     "text": [
      "/tmp/ipykernel_41962/2544655209.py:20: UserWarning: Parity check matrix notconvertable to standard form- choose different support randomly\n",
      "  warnings.warn(f'Parity check matrix not'\n"
     ]
    },
    {
     "data": {
      "text/latex": [
       "$\\displaystyle \\text{This is the randomly permuted support }\\sigma$"
      ],
      "text/plain": [
       "<IPython.core.display.Math object>"
      ]
     },
     "metadata": {},
     "output_type": "display_data"
    },
    {
     "data": {
      "text/latex": [
       "$\\displaystyle 0: z^2 + z + 1$"
      ],
      "text/plain": [
       "<IPython.core.display.Math object>"
      ]
     },
     "metadata": {},
     "output_type": "display_data"
    },
    {
     "data": {
      "text/latex": [
       "$\\displaystyle 1: z^2 + 1$"
      ],
      "text/plain": [
       "<IPython.core.display.Math object>"
      ]
     },
     "metadata": {},
     "output_type": "display_data"
    },
    {
     "data": {
      "text/latex": [
       "$\\displaystyle 2: z^3 + 1$"
      ],
      "text/plain": [
       "<IPython.core.display.Math object>"
      ]
     },
     "metadata": {},
     "output_type": "display_data"
    },
    {
     "data": {
      "text/latex": [
       "$\\displaystyle 3: z^3$"
      ],
      "text/plain": [
       "<IPython.core.display.Math object>"
      ]
     },
     "metadata": {},
     "output_type": "display_data"
    },
    {
     "data": {
      "text/latex": [
       "$\\displaystyle 4: 0$"
      ],
      "text/plain": [
       "<IPython.core.display.Math object>"
      ]
     },
     "metadata": {},
     "output_type": "display_data"
    },
    {
     "data": {
      "text/latex": [
       "$\\displaystyle 5: 1$"
      ],
      "text/plain": [
       "<IPython.core.display.Math object>"
      ]
     },
     "metadata": {},
     "output_type": "display_data"
    },
    {
     "data": {
      "text/latex": [
       "$\\displaystyle 6: z^3 + z^2 + z + 1$"
      ],
      "text/plain": [
       "<IPython.core.display.Math object>"
      ]
     },
     "metadata": {},
     "output_type": "display_data"
    },
    {
     "data": {
      "text/latex": [
       "$\\displaystyle 7: z^3 + z$"
      ],
      "text/plain": [
       "<IPython.core.display.Math object>"
      ]
     },
     "metadata": {},
     "output_type": "display_data"
    },
    {
     "data": {
      "text/latex": [
       "$\\displaystyle 8: z^3 + z^2$"
      ],
      "text/plain": [
       "<IPython.core.display.Math object>"
      ]
     },
     "metadata": {},
     "output_type": "display_data"
    },
    {
     "data": {
      "text/latex": [
       "$\\displaystyle 9: z^3 + z^2 + 1$"
      ],
      "text/plain": [
       "<IPython.core.display.Math object>"
      ]
     },
     "metadata": {},
     "output_type": "display_data"
    },
    {
     "data": {
      "text/latex": [
       "$\\displaystyle 10: z$"
      ],
      "text/plain": [
       "<IPython.core.display.Math object>"
      ]
     },
     "metadata": {},
     "output_type": "display_data"
    },
    {
     "data": {
      "text/latex": [
       "$\\displaystyle 11: z^3 + z + 1$"
      ],
      "text/plain": [
       "<IPython.core.display.Math object>"
      ]
     },
     "metadata": {},
     "output_type": "display_data"
    },
    {
     "data": {
      "text/latex": [
       "$\\displaystyle 12: z + 1$"
      ],
      "text/plain": [
       "<IPython.core.display.Math object>"
      ]
     },
     "metadata": {},
     "output_type": "display_data"
    },
    {
     "data": {
      "text/latex": [
       "$\\displaystyle 13: z^3 + z^2 + z$"
      ],
      "text/plain": [
       "<IPython.core.display.Math object>"
      ]
     },
     "metadata": {},
     "output_type": "display_data"
    },
    {
     "data": {
      "text/latex": [
       "$\\displaystyle 14: z^2 + z$"
      ],
      "text/plain": [
       "<IPython.core.display.Math object>"
      ]
     },
     "metadata": {},
     "output_type": "display_data"
    },
    {
     "data": {
      "text/latex": [
       "$\\displaystyle 15: z^2$"
      ],
      "text/plain": [
       "<IPython.core.display.Math object>"
      ]
     },
     "metadata": {},
     "output_type": "display_data"
    },
    {
     "name": "stdout",
     "output_type": "stream",
     "text": [
      "Parity check matrix in echolon form:\n",
      "-------------------------------------\n"
     ]
    },
    {
     "data": {
      "text/latex": [
       "$\\displaystyle \\text{This is the parity check matrix}$"
      ],
      "text/plain": [
       "<IPython.core.display.Math object>"
      ]
     },
     "metadata": {},
     "output_type": "display_data"
    },
    {
     "data": {
      "text/latex": [
       "$\\displaystyle \\left(\\begin{array}{rrrrrrrrrrrrrrrr}\n",
       "1 & 0 & 0 & 0 & 0 & 0 & 0 & 0 & 0 & 0 & 0 & 0 & 1 & 0 & 1 & 1 \\\\\n",
       "0 & 1 & 0 & 0 & 0 & 0 & 0 & 0 & 0 & 0 & 0 & 0 & 0 & 0 & 0 & 1 \\\\\n",
       "0 & 0 & 1 & 0 & 0 & 0 & 0 & 0 & 0 & 0 & 0 & 0 & 0 & 1 & 0 & 0 \\\\\n",
       "0 & 0 & 0 & 1 & 0 & 0 & 0 & 0 & 0 & 0 & 0 & 0 & 1 & 1 & 1 & 0 \\\\\n",
       "0 & 0 & 0 & 0 & 1 & 0 & 0 & 0 & 0 & 0 & 0 & 0 & 0 & 1 & 0 & 1 \\\\\n",
       "0 & 0 & 0 & 0 & 0 & 1 & 0 & 0 & 0 & 0 & 0 & 0 & 0 & 0 & 1 & 1 \\\\\n",
       "0 & 0 & 0 & 0 & 0 & 0 & 1 & 0 & 0 & 0 & 0 & 0 & 1 & 1 & 1 & 0 \\\\\n",
       "0 & 0 & 0 & 0 & 0 & 0 & 0 & 1 & 0 & 0 & 0 & 0 & 0 & 1 & 1 & 1 \\\\\n",
       "0 & 0 & 0 & 0 & 0 & 0 & 0 & 0 & 1 & 0 & 0 & 0 & 0 & 1 & 1 & 1 \\\\\n",
       "0 & 0 & 0 & 0 & 0 & 0 & 0 & 0 & 0 & 1 & 0 & 0 & 1 & 1 & 0 & 1 \\\\\n",
       "0 & 0 & 0 & 0 & 0 & 0 & 0 & 0 & 0 & 0 & 1 & 0 & 1 & 0 & 0 & 0 \\\\\n",
       "0 & 0 & 0 & 0 & 0 & 0 & 0 & 0 & 0 & 0 & 0 & 1 & 1 & 1 & 0 & 1\n",
       "\\end{array}\\right)$"
      ],
      "text/plain": [
       "<IPython.core.display.Math object>"
      ]
     },
     "metadata": {},
     "output_type": "display_data"
    },
    {
     "data": {
      "text/latex": [
       "$\\displaystyle \\text{This is the generator matrix}$"
      ],
      "text/plain": [
       "<IPython.core.display.Math object>"
      ]
     },
     "metadata": {},
     "output_type": "display_data"
    },
    {
     "data": {
      "text/latex": [
       "$\\displaystyle \\left(\\begin{array}{rrrrrrrrrrrrrrrr}\n",
       "1 & 0 & 0 & 1 & 0 & 0 & 1 & 0 & 0 & 1 & 1 & 1 & 1 & 0 & 0 & 0 \\\\\n",
       "0 & 0 & 1 & 1 & 1 & 0 & 1 & 1 & 1 & 1 & 0 & 1 & 0 & 1 & 0 & 0 \\\\\n",
       "1 & 0 & 0 & 1 & 0 & 1 & 1 & 1 & 1 & 0 & 0 & 0 & 0 & 0 & 1 & 0 \\\\\n",
       "1 & 1 & 0 & 0 & 1 & 1 & 0 & 1 & 1 & 1 & 0 & 1 & 0 & 0 & 0 & 1\n",
       "\\end{array}\\right)$"
      ],
      "text/plain": [
       "<IPython.core.display.Math object>"
      ]
     },
     "metadata": {},
     "output_type": "display_data"
    },
    {
     "name": "stdout",
     "output_type": "stream",
     "text": [
      "k_pub:\n",
      "-----------\n"
     ]
    },
    {
     "data": {
      "text/latex": [
       "$\\displaystyle \\left(\\left(\\begin{array}{rrrrrrrrrrrr}\n",
       "1 & 0 & 0 & 1 & 0 & 0 & 1 & 0 & 0 & 1 & 1 & 1 \\\\\n",
       "0 & 0 & 1 & 1 & 1 & 0 & 1 & 1 & 1 & 1 & 0 & 1 \\\\\n",
       "1 & 0 & 0 & 1 & 0 & 1 & 1 & 1 & 1 & 0 & 0 & 0 \\\\\n",
       "1 & 1 & 0 & 0 & 1 & 1 & 0 & 1 & 1 & 1 & 0 & 1\n",
       "\\end{array}\\right), 3, 4, 4, 16\\right)$"
      ],
      "text/plain": [
       "<IPython.core.display.Math object>"
      ]
     },
     "metadata": {},
     "output_type": "display_data"
    },
    {
     "name": "stdout",
     "output_type": "stream",
     "text": [
      "k_priv:\n",
      "-----------\n"
     ]
    },
    {
     "data": {
      "text/latex": [
       "$\\displaystyle \\left(\\left[z^{2} + z + 1, z^{2} + 1, z^{3} + 1, z^{3}, 0, 1, z^{3} + z^{2} + z + 1, z^{3} + z, z^{3} + z^{2}, z^{3} + z^{2} + 1, z, z^{3} + z + 1, z + 1, z^{3} + z^{2} + z, z^{2} + z, z^{2}\\right], x^{3} + x^{2} + 1, \\Bold{F}_{2^{4}}\\right)$"
      ],
      "text/plain": [
       "<IPython.core.display.Math object>"
      ]
     },
     "metadata": {},
     "output_type": "display_data"
    },
    {
     "name": "stdout",
     "output_type": "stream",
     "text": [
      "generator matrix with identity part\n"
     ]
    },
    {
     "data": {
      "text/latex": [
       "$\\displaystyle \\left(\\begin{array}{rrrrrrrrrrrrrrrr}\n",
       "1 & 0 & 0 & 1 & 0 & 0 & 1 & 0 & 0 & 1 & 1 & 1 & 1 & 0 & 0 & 0 \\\\\n",
       "0 & 0 & 1 & 1 & 1 & 0 & 1 & 1 & 1 & 1 & 0 & 1 & 0 & 1 & 0 & 0 \\\\\n",
       "1 & 0 & 0 & 1 & 0 & 1 & 1 & 1 & 1 & 0 & 0 & 0 & 0 & 0 & 1 & 0 \\\\\n",
       "1 & 1 & 0 & 0 & 1 & 1 & 0 & 1 & 1 & 1 & 0 & 1 & 0 & 0 & 0 & 1\n",
       "\\end{array}\\right)$"
      ],
      "text/plain": [
       "<IPython.core.display.Math object>"
      ]
     },
     "metadata": {},
     "output_type": "display_data"
    },
    {
     "name": "stdout",
     "output_type": "stream",
     "text": [
      "message\n"
     ]
    },
    {
     "data": {
      "text/latex": [
       "$\\displaystyle \\left(\\begin{array}{rrrr}\n",
       "1 & 1 & 0 & 0\n",
       "\\end{array}\\right)$"
      ],
      "text/plain": [
       "<IPython.core.display.Math object>"
      ]
     },
     "metadata": {},
     "output_type": "display_data"
    },
    {
     "name": "stdout",
     "output_type": "stream",
     "text": [
      "codeword\n"
     ]
    },
    {
     "data": {
      "text/latex": [
       "$\\displaystyle \\left(\\begin{array}{rrrrrrrrrrrrrrrr}\n",
       "1 & 0 & 1 & 0 & 1 & 0 & 0 & 1 & 1 & 0 & 1 & 0 & 1 & 1 & 0 & 0\n",
       "\\end{array}\\right)$"
      ],
      "text/plain": [
       "<IPython.core.display.Math object>"
      ]
     },
     "metadata": {},
     "output_type": "display_data"
    },
    {
     "name": "stdout",
     "output_type": "stream",
     "text": [
      "errorvector\n"
     ]
    },
    {
     "data": {
      "text/latex": [
       "$\\displaystyle \\left(\\begin{array}{rrrrrrrrrrrrrrrr}\n",
       "1 & 0 & 0 & 0 & 0 & 0 & 0 & 0 & 1 & 0 & 0 & 0 & 0 & 0 & 1 & 0\n",
       "\\end{array}\\right)$"
      ],
      "text/plain": [
       "<IPython.core.display.Math object>"
      ]
     },
     "metadata": {},
     "output_type": "display_data"
    },
    {
     "name": "stdout",
     "output_type": "stream",
     "text": [
      "encrypted message\n"
     ]
    },
    {
     "data": {
      "text/latex": [
       "$\\displaystyle \\left(\\begin{array}{rrrrrrrrrrrrrrrr}\n",
       "0 & 0 & 1 & 0 & 1 & 0 & 0 & 1 & 0 & 0 & 1 & 0 & 1 & 1 & 1 & 0\n",
       "\\end{array}\\right)$"
      ],
      "text/plain": [
       "<IPython.core.display.Math object>"
      ]
     },
     "metadata": {},
     "output_type": "display_data"
    },
    {
     "data": {
      "text/latex": [
       "$\\displaystyle \\text{This is our polynomial }V(x,z)$"
      ],
      "text/plain": [
       "<IPython.core.display.Math object>"
      ]
     },
     "metadata": {},
     "output_type": "display_data"
    },
    {
     "data": {
      "text/latex": [
       "$\\displaystyle \\left(z + 1\\right) x^{2} + \\left(z^{3} + z + 1\\right) x + z^{2} + 1$"
      ],
      "text/plain": [
       "<IPython.core.display.Math object>"
      ]
     },
     "metadata": {},
     "output_type": "display_data"
    },
    {
     "name": "stdout",
     "output_type": "stream",
     "text": [
      "\n",
      "error comparison \n",
      "-----------------------------\n",
      "reconstructed error vector:\n"
     ]
    },
    {
     "data": {
      "text/latex": [
       "$\\displaystyle \\left(\\begin{array}{rrrrrrrrrrrrrrrr}\n",
       "1 & 0 & 0 & 0 & 0 & 0 & 0 & 0 & 1 & 0 & 0 & 0 & 0 & 0 & 1 & 0\n",
       "\\end{array}\\right)$"
      ],
      "text/plain": [
       "<IPython.core.display.Math object>"
      ]
     },
     "metadata": {},
     "output_type": "display_data"
    },
    {
     "name": "stdout",
     "output_type": "stream",
     "text": [
      "\n",
      "send vs reconstructed code word:\n",
      "----------------------------\n",
      "reconstructed code word:\n"
     ]
    },
    {
     "data": {
      "text/latex": [
       "$\\displaystyle \\left(\\begin{array}{rrrrrrrrrrrrrrrr}\n",
       "1 & 0 & 1 & 0 & 1 & 0 & 0 & 1 & 1 & 0 & 1 & 0 & 1 & 1 & 0 & 0\n",
       "\\end{array}\\right)$"
      ],
      "text/plain": [
       "<IPython.core.display.Math object>"
      ]
     },
     "metadata": {},
     "output_type": "display_data"
    },
    {
     "name": "stdout",
     "output_type": "stream",
     "text": [
      "\n",
      "reconstruction of message\n",
      "----------------------------\n",
      "the message is therefore the last 4 bits of the reconstructed code word\n"
     ]
    },
    {
     "data": {
      "text/latex": [
       "$\\displaystyle \\left(\\begin{array}{rrrr}\n",
       "1 & 1 & 0 & 0\n",
       "\\end{array}\\right)$"
      ],
      "text/plain": [
       "<IPython.core.display.Math object>"
      ]
     },
     "metadata": {},
     "output_type": "display_data"
    }
   ],
   "source": [
    "verbose = 1\n",
    "\n",
    "# choose g: 'random_binary', 'first_binary', \n",
    "#            Integer i (choose i-th. binary irreducible polynomial)\n",
    "# choose support: # 'first_n', 'random_n', \n",
    "#                    list of length n with indizes\n",
    "k_pub, k_priv = mc_eliece_key_gen(4, \n",
    "                                  3, \n",
    "                                  verbose, \n",
    "                                  'random_binary', \n",
    "                                  'random_n')\n",
    "message = [1,1]\n",
    "# choose_error='uniformally', 'dummy', 'first', \n",
    "#               list with error of length n\n",
    "encrypted_message = mc_eliece_encrypt(message, \n",
    "                                      k_pub, \n",
    "                                      verbose, \n",
    "                                      'uniformally')\n",
    "decrypted_message = mc_eliece_decrypt(encrypted_message, \n",
    "                                      k_priv, \n",
    "                                      verbose)"
   ]
  },
  {
   "cell_type": "markdown",
   "metadata": {},
   "source": [
    "## Niederreiter crypto system optimized\n",
    "\n",
    "analog to the McEliece system the niederreiter version is implemented"
   ]
  },
  {
   "cell_type": "code",
   "execution_count": 26,
   "metadata": {},
   "outputs": [],
   "source": [
    "def niederreiter_key_gen(m, t, verbose, \n",
    "                         choose_g='random_binary', \n",
    "                         choose_support='random_n'):\n",
    "    # define Goppa Code, calculate generator \n",
    "    # and parity check matrix\n",
    "    # choose g: 'random_binary', 'first_binary', \n",
    "    #            Integer i (choose i-th. binary irreducible polynomial)\n",
    "    # choose support: # 'first_n', 'random_n', \n",
    "    #                 list of length n with indizes\n",
    "    # #-----------------------------------------------------------------\n",
    "    n = 2^m\n",
    "    k = n - t*m\n",
    "    check_parameters(m, t, n, k, verbose)\n",
    "    K = create_F_2m(m, verbose)\n",
    "    # 'random_binary', 'first_binary', ('random' does not work)\n",
    "    g = func_choose_g(K, t, verbose, choose_g) \n",
    "    sigma, parity_check_matrix_f2_standard_form = repeat_choosing_support(\n",
    "        12, g, t, K, n, m, k, verbose, choose_support \n",
    "    )\n",
    "    # store only part without identity matrix\n",
    "    k_pub = (parity_check_matrix_f2_standard_form[:, -k:], t, m, k, n) \n",
    "    k_priv = (sigma, g, K)\n",
    "    if verbose:\n",
    "        if verbose > 1:\n",
    "            print(f'parity check matrix print')\n",
    "            latexprint(latex(parity_check_matrix_f2_standard_form))\n",
    "            print(f'stored subset of parity check matrix')\n",
    "            latexprint(latex(parity_check_matrix_f2_standard_form[:, -k:]))\n",
    "        print(f'k_pub:\\n-----------')\n",
    "        latexprint(latex(k_pub))\n",
    "        print(f'k_priv:\\n-----------')\n",
    "        latexprint(latex(k_priv))\n",
    "    return k_pub, k_priv"
   ]
  },
  {
   "cell_type": "code",
   "execution_count": 27,
   "metadata": {},
   "outputs": [],
   "source": [
    "def niederreiter_encrypt(short_message, \n",
    "                         k_pub, \n",
    "                         verbose2):\n",
    "    verbose = False\n",
    "    parity_check_matrix_without_identity_part, t, m, k, n = [elem for elem in k_pub]\n",
    "    parity_check_matrix = identity_matrix(n-k).augment(\n",
    "        parity_check_matrix_without_identity_part\n",
    "    )\n",
    "    message = to_lengthk_message(short_message, \n",
    "                                 n, \n",
    "                                 verbose)\n",
    "    assert hamming_weight(message) <=t, 'Message does not have weight <= t'\n",
    "    codeword = encode_message(message, \n",
    "                              parity_check_matrix, \n",
    "                              verbose, \n",
    "                              'niederreiter')\n",
    "    w = codeword\n",
    "    if verbose2:\n",
    "        if verbose2 > 1:\n",
    "            print(f't = {t}, m = {m}, k = {k}, n = {n}')\n",
    "            print('parity check matrix without identity part')\n",
    "            latexprint(latex(parity_check_matrix_without_identity_part))\n",
    "        print('parity check matrix with identity part')\n",
    "        latexprint(latex(parity_check_matrix))\n",
    "        print('message')\n",
    "        latexprint(latex(message))\n",
    "        print('encrypted message')\n",
    "        latexprint(latex(w.transpose()))\n",
    "    return w"
   ]
  },
  {
   "cell_type": "code",
   "execution_count": 28,
   "metadata": {},
   "outputs": [],
   "source": [
    "def niederreiter_decrypt(vector, k_priv, verbose):\n",
    "    sigma, g, K = [elem for elem in k_priv]\n",
    "    t = g.degree()\n",
    "    m = Integer(math.log(len(K),2))\n",
    "    n = len(sigma)\n",
    "    k = n - t*m # n - tm\n",
    "    G.<x> = K.extension(g)\n",
    "    Sw = construct_Sw(vector, sigma, g, K)\n",
    "    v = calculate_v(g, K, t, Sw, verbose)\n",
    "    e_hz = calculate_error_locator_polynomial(g, \n",
    "                                              t,\n",
    "                                              K, \n",
    "                                              v, \n",
    "                                              verbose)\n",
    "    reconstructed_errorvector = reconstruct_error_vector(e_hz, \n",
    "                                                         sigma, \n",
    "                                                         verbose)\n",
    "    if verbose:\n",
    "        print(f'\\nsend vs reconstructed code word:\\n'\n",
    "              f'----------------------------')\n",
    "        print('reconstructed message:')\n",
    "        latexprint(latex(reconstructed_errorvector))\n",
    "    return reconstructed_errorvector"
   ]
  },
  {
   "cell_type": "markdown",
   "metadata": {},
   "source": [
    "## Encrypt and Decrypt with Niederreiter"
   ]
  },
  {
   "cell_type": "code",
   "execution_count": 29,
   "metadata": {
    "scrolled": false
   },
   "outputs": [
    {
     "name": "stdout",
     "output_type": "stream",
     "text": [
      "\n",
      "Parameter setting: \n",
      "---------------------------------\n",
      "m = 4\n",
      "t = 3\n",
      "n = 16\n",
      "k = 4 \n",
      "\n",
      "\n",
      "Creation of F_2^m:\n",
      "---------------------\n",
      "This is the chosen modulus f(z)\n"
     ]
    },
    {
     "data": {
      "text/latex": [
       "$\\displaystyle z^4 + z + 1$"
      ],
      "text/plain": [
       "<IPython.core.display.Math object>"
      ]
     },
     "metadata": {},
     "output_type": "display_data"
    },
    {
     "name": "stdout",
     "output_type": "stream",
     "text": [
      "This is an enumeration of the elementsof F_2^4\n"
     ]
    },
    {
     "data": {
      "text/latex": [
       "$\\displaystyle 0: 0$"
      ],
      "text/plain": [
       "<IPython.core.display.Math object>"
      ]
     },
     "metadata": {},
     "output_type": "display_data"
    },
    {
     "data": {
      "text/latex": [
       "$\\displaystyle 1: z$"
      ],
      "text/plain": [
       "<IPython.core.display.Math object>"
      ]
     },
     "metadata": {},
     "output_type": "display_data"
    },
    {
     "data": {
      "text/latex": [
       "$\\displaystyle 2: z^2$"
      ],
      "text/plain": [
       "<IPython.core.display.Math object>"
      ]
     },
     "metadata": {},
     "output_type": "display_data"
    },
    {
     "data": {
      "text/latex": [
       "$\\displaystyle 3: z^3$"
      ],
      "text/plain": [
       "<IPython.core.display.Math object>"
      ]
     },
     "metadata": {},
     "output_type": "display_data"
    },
    {
     "data": {
      "text/latex": [
       "$\\displaystyle 4: z + 1$"
      ],
      "text/plain": [
       "<IPython.core.display.Math object>"
      ]
     },
     "metadata": {},
     "output_type": "display_data"
    },
    {
     "data": {
      "text/latex": [
       "$\\displaystyle 5: z^2 + z$"
      ],
      "text/plain": [
       "<IPython.core.display.Math object>"
      ]
     },
     "metadata": {},
     "output_type": "display_data"
    },
    {
     "data": {
      "text/latex": [
       "$\\displaystyle 6: z^3 + z^2$"
      ],
      "text/plain": [
       "<IPython.core.display.Math object>"
      ]
     },
     "metadata": {},
     "output_type": "display_data"
    },
    {
     "data": {
      "text/latex": [
       "$\\displaystyle 7: z^3 + z + 1$"
      ],
      "text/plain": [
       "<IPython.core.display.Math object>"
      ]
     },
     "metadata": {},
     "output_type": "display_data"
    },
    {
     "data": {
      "text/latex": [
       "$\\displaystyle 8: z^2 + 1$"
      ],
      "text/plain": [
       "<IPython.core.display.Math object>"
      ]
     },
     "metadata": {},
     "output_type": "display_data"
    },
    {
     "data": {
      "text/latex": [
       "$\\displaystyle 9: z^3 + z$"
      ],
      "text/plain": [
       "<IPython.core.display.Math object>"
      ]
     },
     "metadata": {},
     "output_type": "display_data"
    },
    {
     "data": {
      "text/latex": [
       "$\\displaystyle 10: z^2 + z + 1$"
      ],
      "text/plain": [
       "<IPython.core.display.Math object>"
      ]
     },
     "metadata": {},
     "output_type": "display_data"
    },
    {
     "data": {
      "text/latex": [
       "$\\displaystyle 11: z^3 + z^2 + z$"
      ],
      "text/plain": [
       "<IPython.core.display.Math object>"
      ]
     },
     "metadata": {},
     "output_type": "display_data"
    },
    {
     "data": {
      "text/latex": [
       "$\\displaystyle 12: z^3 + z^2 + z + 1$"
      ],
      "text/plain": [
       "<IPython.core.display.Math object>"
      ]
     },
     "metadata": {},
     "output_type": "display_data"
    },
    {
     "data": {
      "text/latex": [
       "$\\displaystyle 13: z^3 + z^2 + 1$"
      ],
      "text/plain": [
       "<IPython.core.display.Math object>"
      ]
     },
     "metadata": {},
     "output_type": "display_data"
    },
    {
     "data": {
      "text/latex": [
       "$\\displaystyle 14: z^3 + 1$"
      ],
      "text/plain": [
       "<IPython.core.display.Math object>"
      ]
     },
     "metadata": {},
     "output_type": "display_data"
    },
    {
     "data": {
      "text/latex": [
       "$\\displaystyle 15: 1$"
      ],
      "text/plain": [
       "<IPython.core.display.Math object>"
      ]
     },
     "metadata": {},
     "output_type": "display_data"
    },
    {
     "name": "stdout",
     "output_type": "stream",
     "text": [
      "This is the chosen modulus g(x,z)\n"
     ]
    },
    {
     "data": {
      "text/latex": [
       "$\\displaystyle x^3 + x^2 + 1$"
      ],
      "text/plain": [
       "<IPython.core.display.Math object>"
      ]
     },
     "metadata": {},
     "output_type": "display_data"
    },
    {
     "data": {
      "text/latex": [
       "$\\displaystyle \\text{This is the randomly permuted support }\\sigma$"
      ],
      "text/plain": [
       "<IPython.core.display.Math object>"
      ]
     },
     "metadata": {},
     "output_type": "display_data"
    },
    {
     "data": {
      "text/latex": [
       "$\\displaystyle 0: z + 1$"
      ],
      "text/plain": [
       "<IPython.core.display.Math object>"
      ]
     },
     "metadata": {},
     "output_type": "display_data"
    },
    {
     "data": {
      "text/latex": [
       "$\\displaystyle 1: z^3 + z^2$"
      ],
      "text/plain": [
       "<IPython.core.display.Math object>"
      ]
     },
     "metadata": {},
     "output_type": "display_data"
    },
    {
     "data": {
      "text/latex": [
       "$\\displaystyle 2: z^3$"
      ],
      "text/plain": [
       "<IPython.core.display.Math object>"
      ]
     },
     "metadata": {},
     "output_type": "display_data"
    },
    {
     "data": {
      "text/latex": [
       "$\\displaystyle 3: 1$"
      ],
      "text/plain": [
       "<IPython.core.display.Math object>"
      ]
     },
     "metadata": {},
     "output_type": "display_data"
    },
    {
     "data": {
      "text/latex": [
       "$\\displaystyle 4: z^3 + z + 1$"
      ],
      "text/plain": [
       "<IPython.core.display.Math object>"
      ]
     },
     "metadata": {},
     "output_type": "display_data"
    },
    {
     "data": {
      "text/latex": [
       "$\\displaystyle 5: z^3 + z$"
      ],
      "text/plain": [
       "<IPython.core.display.Math object>"
      ]
     },
     "metadata": {},
     "output_type": "display_data"
    },
    {
     "data": {
      "text/latex": [
       "$\\displaystyle 6: z$"
      ],
      "text/plain": [
       "<IPython.core.display.Math object>"
      ]
     },
     "metadata": {},
     "output_type": "display_data"
    },
    {
     "data": {
      "text/latex": [
       "$\\displaystyle 7: z^2 + z$"
      ],
      "text/plain": [
       "<IPython.core.display.Math object>"
      ]
     },
     "metadata": {},
     "output_type": "display_data"
    },
    {
     "data": {
      "text/latex": [
       "$\\displaystyle 8: z^3 + z^2 + z$"
      ],
      "text/plain": [
       "<IPython.core.display.Math object>"
      ]
     },
     "metadata": {},
     "output_type": "display_data"
    },
    {
     "data": {
      "text/latex": [
       "$\\displaystyle 9: z^2 + 1$"
      ],
      "text/plain": [
       "<IPython.core.display.Math object>"
      ]
     },
     "metadata": {},
     "output_type": "display_data"
    },
    {
     "data": {
      "text/latex": [
       "$\\displaystyle 10: 0$"
      ],
      "text/plain": [
       "<IPython.core.display.Math object>"
      ]
     },
     "metadata": {},
     "output_type": "display_data"
    },
    {
     "data": {
      "text/latex": [
       "$\\displaystyle 11: z^2 + z + 1$"
      ],
      "text/plain": [
       "<IPython.core.display.Math object>"
      ]
     },
     "metadata": {},
     "output_type": "display_data"
    },
    {
     "data": {
      "text/latex": [
       "$\\displaystyle 12: z^3 + z^2 + 1$"
      ],
      "text/plain": [
       "<IPython.core.display.Math object>"
      ]
     },
     "metadata": {},
     "output_type": "display_data"
    },
    {
     "data": {
      "text/latex": [
       "$\\displaystyle 13: z^3 + z^2 + z + 1$"
      ],
      "text/plain": [
       "<IPython.core.display.Math object>"
      ]
     },
     "metadata": {},
     "output_type": "display_data"
    },
    {
     "data": {
      "text/latex": [
       "$\\displaystyle 14: z^3 + 1$"
      ],
      "text/plain": [
       "<IPython.core.display.Math object>"
      ]
     },
     "metadata": {},
     "output_type": "display_data"
    },
    {
     "data": {
      "text/latex": [
       "$\\displaystyle 15: z^2$"
      ],
      "text/plain": [
       "<IPython.core.display.Math object>"
      ]
     },
     "metadata": {},
     "output_type": "display_data"
    },
    {
     "name": "stdout",
     "output_type": "stream",
     "text": [
      "Parity check matrix in echolon form:\n",
      "-------------------------------------\n"
     ]
    },
    {
     "data": {
      "text/latex": [
       "$\\displaystyle \\text{This is the parity check matrix}$"
      ],
      "text/plain": [
       "<IPython.core.display.Math object>"
      ]
     },
     "metadata": {},
     "output_type": "display_data"
    },
    {
     "data": {
      "text/latex": [
       "$\\displaystyle \\left(\\begin{array}{rrrrrrrrrrrrrrrr}\n",
       "1 & 0 & 0 & 0 & 0 & 0 & 0 & 0 & 0 & 0 & 0 & 0 & 1 & 0 & 1 & 1 \\\\\n",
       "0 & 1 & 0 & 0 & 0 & 0 & 0 & 0 & 0 & 0 & 0 & 0 & 1 & 1 & 1 & 0 \\\\\n",
       "0 & 0 & 1 & 0 & 0 & 0 & 0 & 0 & 0 & 0 & 0 & 0 & 0 & 1 & 0 & 0 \\\\\n",
       "0 & 0 & 0 & 1 & 0 & 0 & 0 & 0 & 0 & 0 & 0 & 0 & 1 & 1 & 0 & 0 \\\\\n",
       "0 & 0 & 0 & 0 & 1 & 0 & 0 & 0 & 0 & 0 & 0 & 0 & 1 & 0 & 0 & 0 \\\\\n",
       "0 & 0 & 0 & 0 & 0 & 1 & 0 & 0 & 0 & 0 & 0 & 0 & 1 & 1 & 1 & 0 \\\\\n",
       "0 & 0 & 0 & 0 & 0 & 0 & 1 & 0 & 0 & 0 & 0 & 0 & 1 & 0 & 1 & 1 \\\\\n",
       "0 & 0 & 0 & 0 & 0 & 0 & 0 & 1 & 0 & 0 & 0 & 0 & 1 & 1 & 0 & 1 \\\\\n",
       "0 & 0 & 0 & 0 & 0 & 0 & 0 & 0 & 1 & 0 & 0 & 0 & 0 & 0 & 1 & 0 \\\\\n",
       "0 & 0 & 0 & 0 & 0 & 0 & 0 & 0 & 0 & 1 & 0 & 0 & 0 & 0 & 0 & 1 \\\\\n",
       "0 & 0 & 0 & 0 & 0 & 0 & 0 & 0 & 0 & 0 & 1 & 0 & 0 & 0 & 1 & 1 \\\\\n",
       "0 & 0 & 0 & 0 & 0 & 0 & 0 & 0 & 0 & 0 & 0 & 1 & 0 & 1 & 1 & 1\n",
       "\\end{array}\\right)$"
      ],
      "text/plain": [
       "<IPython.core.display.Math object>"
      ]
     },
     "metadata": {},
     "output_type": "display_data"
    },
    {
     "name": "stdout",
     "output_type": "stream",
     "text": [
      "k_pub:\n",
      "-----------\n"
     ]
    },
    {
     "data": {
      "text/latex": [
       "$\\displaystyle \\left(\\left(\\begin{array}{rrrr}\n",
       "1 & 0 & 1 & 1 \\\\\n",
       "1 & 1 & 1 & 0 \\\\\n",
       "0 & 1 & 0 & 0 \\\\\n",
       "1 & 1 & 0 & 0 \\\\\n",
       "1 & 0 & 0 & 0 \\\\\n",
       "1 & 1 & 1 & 0 \\\\\n",
       "1 & 0 & 1 & 1 \\\\\n",
       "1 & 1 & 0 & 1 \\\\\n",
       "0 & 0 & 1 & 0 \\\\\n",
       "0 & 0 & 0 & 1 \\\\\n",
       "0 & 0 & 1 & 1 \\\\\n",
       "0 & 1 & 1 & 1\n",
       "\\end{array}\\right), 3, 4, 4, 16\\right)$"
      ],
      "text/plain": [
       "<IPython.core.display.Math object>"
      ]
     },
     "metadata": {},
     "output_type": "display_data"
    },
    {
     "name": "stdout",
     "output_type": "stream",
     "text": [
      "k_priv:\n",
      "-----------\n"
     ]
    },
    {
     "data": {
      "text/latex": [
       "$\\displaystyle \\left(\\left[z + 1, z^{3} + z^{2}, z^{3}, 1, z^{3} + z + 1, z^{3} + z, z, z^{2} + z, z^{3} + z^{2} + z, z^{2} + 1, 0, z^{2} + z + 1, z^{3} + z^{2} + 1, z^{3} + z^{2} + z + 1, z^{3} + 1, z^{2}\\right], x^{3} + x^{2} + 1, \\Bold{F}_{2^{4}}\\right)$"
      ],
      "text/plain": [
       "<IPython.core.display.Math object>"
      ]
     },
     "metadata": {},
     "output_type": "display_data"
    },
    {
     "name": "stdout",
     "output_type": "stream",
     "text": [
      "parity check matrix with identity part\n"
     ]
    },
    {
     "data": {
      "text/latex": [
       "$\\displaystyle \\left(\\begin{array}{rrrrrrrrrrrrrrrr}\n",
       "1 & 0 & 0 & 0 & 0 & 0 & 0 & 0 & 0 & 0 & 0 & 0 & 1 & 0 & 1 & 1 \\\\\n",
       "0 & 1 & 0 & 0 & 0 & 0 & 0 & 0 & 0 & 0 & 0 & 0 & 1 & 1 & 1 & 0 \\\\\n",
       "0 & 0 & 1 & 0 & 0 & 0 & 0 & 0 & 0 & 0 & 0 & 0 & 0 & 1 & 0 & 0 \\\\\n",
       "0 & 0 & 0 & 1 & 0 & 0 & 0 & 0 & 0 & 0 & 0 & 0 & 1 & 1 & 0 & 0 \\\\\n",
       "0 & 0 & 0 & 0 & 1 & 0 & 0 & 0 & 0 & 0 & 0 & 0 & 1 & 0 & 0 & 0 \\\\\n",
       "0 & 0 & 0 & 0 & 0 & 1 & 0 & 0 & 0 & 0 & 0 & 0 & 1 & 1 & 1 & 0 \\\\\n",
       "0 & 0 & 0 & 0 & 0 & 0 & 1 & 0 & 0 & 0 & 0 & 0 & 1 & 0 & 1 & 1 \\\\\n",
       "0 & 0 & 0 & 0 & 0 & 0 & 0 & 1 & 0 & 0 & 0 & 0 & 1 & 1 & 0 & 1 \\\\\n",
       "0 & 0 & 0 & 0 & 0 & 0 & 0 & 0 & 1 & 0 & 0 & 0 & 0 & 0 & 1 & 0 \\\\\n",
       "0 & 0 & 0 & 0 & 0 & 0 & 0 & 0 & 0 & 1 & 0 & 0 & 0 & 0 & 0 & 1 \\\\\n",
       "0 & 0 & 0 & 0 & 0 & 0 & 0 & 0 & 0 & 0 & 1 & 0 & 0 & 0 & 1 & 1 \\\\\n",
       "0 & 0 & 0 & 0 & 0 & 0 & 0 & 0 & 0 & 0 & 0 & 1 & 0 & 1 & 1 & 1\n",
       "\\end{array}\\right)$"
      ],
      "text/plain": [
       "<IPython.core.display.Math object>"
      ]
     },
     "metadata": {},
     "output_type": "display_data"
    },
    {
     "name": "stdout",
     "output_type": "stream",
     "text": [
      "message\n"
     ]
    },
    {
     "data": {
      "text/latex": [
       "$\\displaystyle \\left(\\begin{array}{rrrrrrrrrrrrrrrr}\n",
       "0 & 0 & 0 & 0 & 0 & 0 & 0 & 0 & 0 & 0 & 0 & 0 & 1 & 1 & 0 & 0\n",
       "\\end{array}\\right)$"
      ],
      "text/plain": [
       "<IPython.core.display.Math object>"
      ]
     },
     "metadata": {},
     "output_type": "display_data"
    },
    {
     "name": "stdout",
     "output_type": "stream",
     "text": [
      "encrypted message\n"
     ]
    },
    {
     "data": {
      "text/latex": [
       "$\\displaystyle \\left(\\begin{array}{rrrrrrrrrrrr}\n",
       "1 & 0 & 1 & 0 & 1 & 0 & 1 & 0 & 0 & 0 & 0 & 1\n",
       "\\end{array}\\right)$"
      ],
      "text/plain": [
       "<IPython.core.display.Math object>"
      ]
     },
     "metadata": {},
     "output_type": "display_data"
    },
    {
     "data": {
      "text/latex": [
       "$\\displaystyle \\text{This is our polynomial }V(x,z)$"
      ],
      "text/plain": [
       "<IPython.core.display.Math object>"
      ]
     },
     "metadata": {},
     "output_type": "display_data"
    },
    {
     "data": {
      "text/latex": [
       "$\\displaystyle \\left(z^{3} + z + 1\\right) x + z^{3} + z^{2} + z + 1$"
      ],
      "text/plain": [
       "<IPython.core.display.Math object>"
      ]
     },
     "metadata": {},
     "output_type": "display_data"
    },
    {
     "name": "stdout",
     "output_type": "stream",
     "text": [
      "\n",
      "error comparison \n",
      "-----------------------------\n",
      "reconstructed error vector:\n"
     ]
    },
    {
     "data": {
      "text/latex": [
       "$\\displaystyle \\left(\\begin{array}{rrrrrrrrrrrrrrrr}\n",
       "0 & 0 & 0 & 0 & 0 & 0 & 0 & 0 & 0 & 0 & 0 & 0 & 1 & 1 & 0 & 0\n",
       "\\end{array}\\right)$"
      ],
      "text/plain": [
       "<IPython.core.display.Math object>"
      ]
     },
     "metadata": {},
     "output_type": "display_data"
    },
    {
     "name": "stdout",
     "output_type": "stream",
     "text": [
      "\n",
      "send vs reconstructed code word:\n",
      "----------------------------\n",
      "reconstructed message:\n"
     ]
    },
    {
     "data": {
      "text/latex": [
       "$\\displaystyle \\left(\\begin{array}{rrrrrrrrrrrrrrrr}\n",
       "0 & 0 & 0 & 0 & 0 & 0 & 0 & 0 & 0 & 0 & 0 & 0 & 1 & 1 & 0 & 0\n",
       "\\end{array}\\right)$"
      ],
      "text/plain": [
       "<IPython.core.display.Math object>"
      ]
     },
     "metadata": {},
     "output_type": "display_data"
    }
   ],
   "source": [
    "verbose = 1\n",
    "# choose g: 'random_binary', 'first_binary', \n",
    "#           Integer i (choose i-th. binary irreducible polynomial)\n",
    "# choose support: # 'first_n', 'random_n', list of length n with indizes\n",
    "k_pub, k_priv = niederreiter_key_gen(4, \n",
    "                                     3, \n",
    "                                     verbose, \n",
    "                                     'random_binary', \n",
    "                                     'random_n')\n",
    "message = [0,0,0,0,0,0,0,0,0,0,0,0,1,1,0,0]\n",
    "encrypted_message = niederreiter_encrypt(message, \n",
    "                                         k_pub, \n",
    "                                         verbose)\n",
    "decrypted_message = niederreiter_decrypt(encrypted_message, \n",
    "                                         k_priv, \n",
    "                                         verbose)"
   ]
  },
  {
   "cell_type": "markdown",
   "metadata": {},
   "source": [
    "## create reproducable deterministic example\n",
    "\n",
    "for reproducability  a deterministic example is created to be published\n",
    "\n",
    "a deterministic example also allows to compare the systems for different support, goppa polynomials or messages"
   ]
  },
  {
   "cell_type": "markdown",
   "metadata": {},
   "source": [
    "#### McEliece"
   ]
  },
  {
   "cell_type": "code",
   "execution_count": 30,
   "metadata": {
    "scrolled": false
   },
   "outputs": [
    {
     "name": "stdout",
     "output_type": "stream",
     "text": [
      "\n",
      "Parameter setting: \n",
      "---------------------------------\n",
      "m = 4\n",
      "t = 3\n",
      "n = 16\n",
      "k = 4 \n",
      "\n",
      "\n",
      "Creation of F_2^m:\n",
      "---------------------\n",
      "<class 'list'>\n",
      "These are the 3viable moduli of degree 4\n"
     ]
    },
    {
     "data": {
      "text/latex": [
       "$\\displaystyle \\left[z^{4} + z + 1, z^{4} + z^{3} + 1, z^{4} + z^{3} + z^{2} + z + 1\\right]$"
      ],
      "text/plain": [
       "<IPython.core.display.Math object>"
      ]
     },
     "metadata": {},
     "output_type": "display_data"
    },
    {
     "name": "stdout",
     "output_type": "stream",
     "text": [
      "This is the chosen modulus f(z)\n"
     ]
    },
    {
     "data": {
      "text/latex": [
       "$\\displaystyle z^4 + z + 1$"
      ],
      "text/plain": [
       "<IPython.core.display.Math object>"
      ]
     },
     "metadata": {},
     "output_type": "display_data"
    },
    {
     "name": "stdout",
     "output_type": "stream",
     "text": [
      "This is an enumeration of the elementsof F_2^4\n"
     ]
    },
    {
     "data": {
      "text/latex": [
       "$\\displaystyle 0: 0$"
      ],
      "text/plain": [
       "<IPython.core.display.Math object>"
      ]
     },
     "metadata": {},
     "output_type": "display_data"
    },
    {
     "data": {
      "text/latex": [
       "$\\displaystyle 1: z$"
      ],
      "text/plain": [
       "<IPython.core.display.Math object>"
      ]
     },
     "metadata": {},
     "output_type": "display_data"
    },
    {
     "data": {
      "text/latex": [
       "$\\displaystyle 2: z^2$"
      ],
      "text/plain": [
       "<IPython.core.display.Math object>"
      ]
     },
     "metadata": {},
     "output_type": "display_data"
    },
    {
     "data": {
      "text/latex": [
       "$\\displaystyle 3: z^3$"
      ],
      "text/plain": [
       "<IPython.core.display.Math object>"
      ]
     },
     "metadata": {},
     "output_type": "display_data"
    },
    {
     "data": {
      "text/latex": [
       "$\\displaystyle 4: z + 1$"
      ],
      "text/plain": [
       "<IPython.core.display.Math object>"
      ]
     },
     "metadata": {},
     "output_type": "display_data"
    },
    {
     "data": {
      "text/latex": [
       "$\\displaystyle 5: z^2 + z$"
      ],
      "text/plain": [
       "<IPython.core.display.Math object>"
      ]
     },
     "metadata": {},
     "output_type": "display_data"
    },
    {
     "data": {
      "text/latex": [
       "$\\displaystyle 6: z^3 + z^2$"
      ],
      "text/plain": [
       "<IPython.core.display.Math object>"
      ]
     },
     "metadata": {},
     "output_type": "display_data"
    },
    {
     "data": {
      "text/latex": [
       "$\\displaystyle 7: z^3 + z + 1$"
      ],
      "text/plain": [
       "<IPython.core.display.Math object>"
      ]
     },
     "metadata": {},
     "output_type": "display_data"
    },
    {
     "data": {
      "text/latex": [
       "$\\displaystyle 8: z^2 + 1$"
      ],
      "text/plain": [
       "<IPython.core.display.Math object>"
      ]
     },
     "metadata": {},
     "output_type": "display_data"
    },
    {
     "data": {
      "text/latex": [
       "$\\displaystyle 9: z^3 + z$"
      ],
      "text/plain": [
       "<IPython.core.display.Math object>"
      ]
     },
     "metadata": {},
     "output_type": "display_data"
    },
    {
     "data": {
      "text/latex": [
       "$\\displaystyle 10: z^2 + z + 1$"
      ],
      "text/plain": [
       "<IPython.core.display.Math object>"
      ]
     },
     "metadata": {},
     "output_type": "display_data"
    },
    {
     "data": {
      "text/latex": [
       "$\\displaystyle 11: z^3 + z^2 + z$"
      ],
      "text/plain": [
       "<IPython.core.display.Math object>"
      ]
     },
     "metadata": {},
     "output_type": "display_data"
    },
    {
     "data": {
      "text/latex": [
       "$\\displaystyle 12: z^3 + z^2 + z + 1$"
      ],
      "text/plain": [
       "<IPython.core.display.Math object>"
      ]
     },
     "metadata": {},
     "output_type": "display_data"
    },
    {
     "data": {
      "text/latex": [
       "$\\displaystyle 13: z^3 + z^2 + 1$"
      ],
      "text/plain": [
       "<IPython.core.display.Math object>"
      ]
     },
     "metadata": {},
     "output_type": "display_data"
    },
    {
     "data": {
      "text/latex": [
       "$\\displaystyle 14: z^3 + 1$"
      ],
      "text/plain": [
       "<IPython.core.display.Math object>"
      ]
     },
     "metadata": {},
     "output_type": "display_data"
    },
    {
     "data": {
      "text/latex": [
       "$\\displaystyle 15: 1$"
      ],
      "text/plain": [
       "<IPython.core.display.Math object>"
      ]
     },
     "metadata": {},
     "output_type": "display_data"
    },
    {
     "name": "stdout",
     "output_type": "stream",
     "text": [
      "choose g type Integer\n",
      "These are 5 examples of possiblegoppa polynomials (moduli of degree 3) with coefficients in z, which we will not use\n"
     ]
    },
    {
     "data": {
      "text/latex": [
       "$\\displaystyle (z^3 + z^2)*x^3 + (z + 1)*x^2 + (z^3 + z^2 + z + 1)*x + z^3 + z^2 + z$"
      ],
      "text/plain": [
       "<IPython.core.display.Math object>"
      ]
     },
     "metadata": {},
     "output_type": "display_data"
    },
    {
     "data": {
      "text/latex": [
       "$\\displaystyle x^3 + z^3*x^2 + (z^3 + z)*x + 1$"
      ],
      "text/plain": [
       "<IPython.core.display.Math object>"
      ]
     },
     "metadata": {},
     "output_type": "display_data"
    },
    {
     "data": {
      "text/latex": [
       "$\\displaystyle z^3*x^3 + z^3*x^2 + (z^3 + z^2 + z + 1)*x + z$"
      ],
      "text/plain": [
       "<IPython.core.display.Math object>"
      ]
     },
     "metadata": {},
     "output_type": "display_data"
    },
    {
     "data": {
      "text/latex": [
       "$\\displaystyle (z^2 + z + 1)*x^3 + (z^3 + z^2 + z + 1)*x^2 + (z^3 + 1)*x + z^3 + z$"
      ],
      "text/plain": [
       "<IPython.core.display.Math object>"
      ]
     },
     "metadata": {},
     "output_type": "display_data"
    },
    {
     "data": {
      "text/latex": [
       "$\\displaystyle z^2*x^3 + x^2 + (z^3 + z^2)*x + z^2$"
      ],
      "text/plain": [
       "<IPython.core.display.Math object>"
      ]
     },
     "metadata": {},
     "output_type": "display_data"
    },
    {
     "name": "stdout",
     "output_type": "stream",
     "text": [
      "These are the viable moduli of degree 3 with binary coefficients\n"
     ]
    },
    {
     "data": {
      "text/latex": [
       "$\\displaystyle x^3 + x + 1$"
      ],
      "text/plain": [
       "<IPython.core.display.Math object>"
      ]
     },
     "metadata": {},
     "output_type": "display_data"
    },
    {
     "data": {
      "text/latex": [
       "$\\displaystyle x^3 + x^2 + 1$"
      ],
      "text/plain": [
       "<IPython.core.display.Math object>"
      ]
     },
     "metadata": {},
     "output_type": "display_data"
    },
    {
     "name": "stdout",
     "output_type": "stream",
     "text": [
      "This is the chosen modulus g(x,z)\n"
     ]
    },
    {
     "data": {
      "text/latex": [
       "$\\displaystyle x^3 + x + 1$"
      ],
      "text/plain": [
       "<IPython.core.display.Math object>"
      ]
     },
     "metadata": {},
     "output_type": "display_data"
    },
    {
     "name": "stdout",
     "output_type": "stream",
     "text": [
      "choose support type: given list\n",
      "[0, 1, 2, 3, 4, 5, 6, 7, 8, 9, 10, 11, 12, 13, 14, 15] Support: \n",
      "-------------\n",
      "These are the elements in the support\n"
     ]
    },
    {
     "data": {
      "text/latex": [
       "$\\displaystyle 0: 0$"
      ],
      "text/plain": [
       "<IPython.core.display.Math object>"
      ]
     },
     "metadata": {},
     "output_type": "display_data"
    },
    {
     "data": {
      "text/latex": [
       "$\\displaystyle 1: z$"
      ],
      "text/plain": [
       "<IPython.core.display.Math object>"
      ]
     },
     "metadata": {},
     "output_type": "display_data"
    },
    {
     "data": {
      "text/latex": [
       "$\\displaystyle 2: z^2$"
      ],
      "text/plain": [
       "<IPython.core.display.Math object>"
      ]
     },
     "metadata": {},
     "output_type": "display_data"
    },
    {
     "data": {
      "text/latex": [
       "$\\displaystyle 3: z^3$"
      ],
      "text/plain": [
       "<IPython.core.display.Math object>"
      ]
     },
     "metadata": {},
     "output_type": "display_data"
    },
    {
     "data": {
      "text/latex": [
       "$\\displaystyle 4: z + 1$"
      ],
      "text/plain": [
       "<IPython.core.display.Math object>"
      ]
     },
     "metadata": {},
     "output_type": "display_data"
    },
    {
     "data": {
      "text/latex": [
       "$\\displaystyle 5: z^2 + z$"
      ],
      "text/plain": [
       "<IPython.core.display.Math object>"
      ]
     },
     "metadata": {},
     "output_type": "display_data"
    },
    {
     "data": {
      "text/latex": [
       "$\\displaystyle 6: z^3 + z^2$"
      ],
      "text/plain": [
       "<IPython.core.display.Math object>"
      ]
     },
     "metadata": {},
     "output_type": "display_data"
    },
    {
     "data": {
      "text/latex": [
       "$\\displaystyle 7: z^3 + z + 1$"
      ],
      "text/plain": [
       "<IPython.core.display.Math object>"
      ]
     },
     "metadata": {},
     "output_type": "display_data"
    },
    {
     "data": {
      "text/latex": [
       "$\\displaystyle 8: z^2 + 1$"
      ],
      "text/plain": [
       "<IPython.core.display.Math object>"
      ]
     },
     "metadata": {},
     "output_type": "display_data"
    },
    {
     "data": {
      "text/latex": [
       "$\\displaystyle 9: z^3 + z$"
      ],
      "text/plain": [
       "<IPython.core.display.Math object>"
      ]
     },
     "metadata": {},
     "output_type": "display_data"
    },
    {
     "data": {
      "text/latex": [
       "$\\displaystyle 10: z^2 + z + 1$"
      ],
      "text/plain": [
       "<IPython.core.display.Math object>"
      ]
     },
     "metadata": {},
     "output_type": "display_data"
    },
    {
     "data": {
      "text/latex": [
       "$\\displaystyle 11: z^3 + z^2 + z$"
      ],
      "text/plain": [
       "<IPython.core.display.Math object>"
      ]
     },
     "metadata": {},
     "output_type": "display_data"
    },
    {
     "data": {
      "text/latex": [
       "$\\displaystyle 12: z^3 + z^2 + z + 1$"
      ],
      "text/plain": [
       "<IPython.core.display.Math object>"
      ]
     },
     "metadata": {},
     "output_type": "display_data"
    },
    {
     "data": {
      "text/latex": [
       "$\\displaystyle 13: z^3 + z^2 + 1$"
      ],
      "text/plain": [
       "<IPython.core.display.Math object>"
      ]
     },
     "metadata": {},
     "output_type": "display_data"
    },
    {
     "data": {
      "text/latex": [
       "$\\displaystyle 14: z^3 + 1$"
      ],
      "text/plain": [
       "<IPython.core.display.Math object>"
      ]
     },
     "metadata": {},
     "output_type": "display_data"
    },
    {
     "data": {
      "text/latex": [
       "$\\displaystyle 15: 1$"
      ],
      "text/plain": [
       "<IPython.core.display.Math object>"
      ]
     },
     "metadata": {},
     "output_type": "display_data"
    },
    {
     "name": "stdout",
     "output_type": "stream",
     "text": [
      "First Matrix of Check Matrix:\n",
      "--------------------------------\n"
     ]
    },
    {
     "data": {
      "text/latex": [
       "$\\displaystyle \\left(\\begin{array}{rrr}\n",
       "1 & 0 & 0 \\\\\n",
       "0 & 1 & 0 \\\\\n",
       "1 & 0 & 1\n",
       "\\end{array}\\right)$"
      ],
      "text/plain": [
       "<IPython.core.display.Math object>"
      ]
     },
     "metadata": {},
     "output_type": "display_data"
    },
    {
     "name": "stdout",
     "output_type": "stream",
     "text": [
      "Second Matrix of Check Matrix:\n",
      "--------------------------------\n"
     ]
    },
    {
     "data": {
      "text/latex": [
       "$\\displaystyle \\left(\\begin{array}{rrrrrrrrrrrrrrrr}\n",
       "1 & 1 & 1 & 1 & 1 & 1 & 1 & 1 & 1 & 1 & 1 & 1 & 1 & 1 & 1 & 1 \\\\\n",
       "0 & z & z^{2} & z^{3} & z + 1 & z^{2} + z & z^{3} + z^{2} & z^{3} + z + 1 & z^{2} + 1 & z^{3} + z & z^{2} + z + 1 & z^{3} + z^{2} + z & z^{3} + z^{2} + z + 1 & z^{3} + z^{2} + 1 & z^{3} + 1 & 1 \\\\\n",
       "0 & z^{2} & z + 1 & z^{3} + z^{2} & z^{2} + 1 & z^{2} + z + 1 & z^{3} + z^{2} + z + 1 & z^{3} + 1 & z & z^{3} & z^{2} + z & z^{3} + z + 1 & z^{3} + z & z^{3} + z^{2} + z & z^{3} + z^{2} + 1 & 1\n",
       "\\end{array}\\right)$"
      ],
      "text/plain": [
       "<IPython.core.display.Math object>"
      ]
     },
     "metadata": {},
     "output_type": "display_data"
    },
    {
     "name": "stdout",
     "output_type": "stream",
     "text": [
      "Third Matrix of Check Matrix:\n",
      "--------------------------------\n"
     ]
    },
    {
     "data": {
      "text/latex": [
       "$\\displaystyle \\left(\\begin{array}{rrrrrrrrrrrrrrrr}\n",
       "1 & 0 & 0 & 0 & 0 & 0 & 0 & 0 & 0 & 0 & 0 & 0 & 0 & 0 & 0 & 0 \\\\\n",
       "0 & z^{2} + 1 & 0 & 0 & 0 & 0 & 0 & 0 & 0 & 0 & 0 & 0 & 0 & 0 & 0 & 0 \\\\\n",
       "0 & 0 & z & 0 & 0 & 0 & 0 & 0 & 0 & 0 & 0 & 0 & 0 & 0 & 0 & 0 \\\\\n",
       "0 & 0 & 0 & z^{3} + z^{2} + z & 0 & 0 & 0 & 0 & 0 & 0 & 0 & 0 & 0 & 0 & 0 & 0 \\\\\n",
       "0 & 0 & 0 & 0 & z^{2} & 0 & 0 & 0 & 0 & 0 & 0 & 0 & 0 & 0 & 0 & 0 \\\\\n",
       "0 & 0 & 0 & 0 & 0 & z^{2} + z + 1 & 0 & 0 & 0 & 0 & 0 & 0 & 0 & 0 & 0 & 0 \\\\\n",
       "0 & 0 & 0 & 0 & 0 & 0 & z^{3} + z + 1 & 0 & 0 & 0 & 0 & 0 & 0 & 0 & 0 & 0 \\\\\n",
       "0 & 0 & 0 & 0 & 0 & 0 & 0 & z^{2} + z + 1 & 0 & 0 & 0 & 0 & 0 & 0 & 0 & 0 \\\\\n",
       "0 & 0 & 0 & 0 & 0 & 0 & 0 & 0 & z + 1 & 0 & 0 & 0 & 0 & 0 & 0 & 0 \\\\\n",
       "0 & 0 & 0 & 0 & 0 & 0 & 0 & 0 & 0 & z^{3} + z^{2} + 1 & 0 & 0 & 0 & 0 & 0 & 0 \\\\\n",
       "0 & 0 & 0 & 0 & 0 & 0 & 0 & 0 & 0 & 0 & z^{2} + z & 0 & 0 & 0 & 0 & 0 \\\\\n",
       "0 & 0 & 0 & 0 & 0 & 0 & 0 & 0 & 0 & 0 & 0 & z^{2} + z & 0 & 0 & 0 & 0 \\\\\n",
       "0 & 0 & 0 & 0 & 0 & 0 & 0 & 0 & 0 & 0 & 0 & 0 & z^{3} + 1 & 0 & 0 & 0 \\\\\n",
       "0 & 0 & 0 & 0 & 0 & 0 & 0 & 0 & 0 & 0 & 0 & 0 & 0 & z^{2} + z + 1 & 0 & 0 \\\\\n",
       "0 & 0 & 0 & 0 & 0 & 0 & 0 & 0 & 0 & 0 & 0 & 0 & 0 & 0 & z^{2} + z & 0 \\\\\n",
       "0 & 0 & 0 & 0 & 0 & 0 & 0 & 0 & 0 & 0 & 0 & 0 & 0 & 0 & 0 & 1\n",
       "\\end{array}\\right)$"
      ],
      "text/plain": [
       "<IPython.core.display.Math object>"
      ]
     },
     "metadata": {},
     "output_type": "display_data"
    },
    {
     "name": "stdout",
     "output_type": "stream",
     "text": [
      "Check Matrix over F_2^m with dimensions3x16:\n",
      "--------------------------------\n"
     ]
    },
    {
     "data": {
      "text/latex": [
       "$\\displaystyle \\left(\\begin{array}{rrrrrrrrrrrrrrrr}\n",
       "1 & z^{2} + 1 & z & z^{3} + z^{2} + z & z^{2} & z^{2} + z + 1 & z^{3} + z + 1 & z^{2} + z + 1 & z + 1 & z^{3} + z^{2} + 1 & z^{2} + z & z^{2} + z & z^{3} + 1 & z^{2} + z + 1 & z^{2} + z & 1 \\\\\n",
       "0 & z^{3} + z & z^{3} & z^{3} + 1 & z^{3} + z^{2} & 1 & z^{3} + z^{2} + 1 & z^{2} & z^{3} + z^{2} + z + 1 & z^{3} + z + 1 & 1 & z & z^{3} + z^{2} + z & z^{2} + 1 & z + 1 & 1 \\\\\n",
       "0 & z^{2} + z + 1 & z^{2} + z & z^{2} & z^{2} + z + 1 & z^{2} + z & z + 1 & z^{3} + z & z^{2} + z & z & z^{2} + z + 1 & z^{3} + z^{2} + z + 1 & z^{2} + 1 & z^{3} + z^{2} & z^{3} & 1\n",
       "\\end{array}\\right)$"
      ],
      "text/plain": [
       "<IPython.core.display.Math object>"
      ]
     },
     "metadata": {},
     "output_type": "display_data"
    },
    {
     "name": "stdout",
     "output_type": "stream",
     "text": [
      "The check matrix over F_2 has dimensions 12x16 and is  :\n",
      "--------------------------------\n"
     ]
    },
    {
     "data": {
      "text/latex": [
       "$\\displaystyle \\left(\\begin{array}{rrrrrrrrrrrrrrrr}\n",
       "1 & 1 & 0 & 0 & 0 & 1 & 1 & 1 & 1 & 1 & 0 & 0 & 1 & 1 & 0 & 1 \\\\\n",
       "0 & 0 & 1 & 1 & 0 & 1 & 1 & 1 & 1 & 0 & 1 & 1 & 0 & 1 & 1 & 0 \\\\\n",
       "0 & 1 & 0 & 1 & 1 & 1 & 0 & 1 & 0 & 1 & 1 & 1 & 0 & 1 & 1 & 0 \\\\\n",
       "0 & 0 & 0 & 1 & 0 & 0 & 1 & 0 & 0 & 1 & 0 & 0 & 1 & 0 & 0 & 0 \\\\\n",
       "0 & 0 & 0 & 1 & 0 & 1 & 1 & 0 & 1 & 1 & 1 & 0 & 0 & 1 & 1 & 1 \\\\\n",
       "0 & 1 & 0 & 0 & 0 & 0 & 0 & 0 & 1 & 1 & 0 & 1 & 1 & 0 & 1 & 0 \\\\\n",
       "0 & 0 & 0 & 0 & 1 & 0 & 1 & 1 & 1 & 0 & 0 & 0 & 1 & 1 & 0 & 0 \\\\\n",
       "0 & 1 & 1 & 1 & 1 & 0 & 1 & 0 & 1 & 1 & 0 & 0 & 1 & 0 & 0 & 0 \\\\\n",
       "0 & 1 & 0 & 0 & 1 & 0 & 1 & 0 & 0 & 0 & 1 & 1 & 1 & 0 & 0 & 1 \\\\\n",
       "0 & 1 & 1 & 0 & 1 & 1 & 1 & 1 & 1 & 1 & 1 & 1 & 0 & 0 & 0 & 0 \\\\\n",
       "0 & 1 & 1 & 1 & 1 & 1 & 0 & 0 & 1 & 0 & 1 & 1 & 1 & 1 & 0 & 0 \\\\\n",
       "0 & 0 & 0 & 0 & 0 & 0 & 0 & 1 & 0 & 0 & 0 & 1 & 0 & 1 & 1 & 0\n",
       "\\end{array}\\right)$"
      ],
      "text/plain": [
       "<IPython.core.display.Math object>"
      ]
     },
     "metadata": {},
     "output_type": "display_data"
    },
    {
     "name": "stdout",
     "output_type": "stream",
     "text": [
      "Parity check matrix in echolon form:\n",
      "-------------------------------------\n"
     ]
    },
    {
     "data": {
      "text/latex": [
       "$\\displaystyle \\text{This is the parity check matrix}$"
      ],
      "text/plain": [
       "<IPython.core.display.Math object>"
      ]
     },
     "metadata": {},
     "output_type": "display_data"
    },
    {
     "data": {
      "text/latex": [
       "$\\displaystyle \\left(\\begin{array}{rrrrrrrrrrrrrrrr}\n",
       "1 & 0 & 0 & 0 & 0 & 0 & 0 & 0 & 0 & 0 & 0 & 0 & 1 & 1 & 0 & 0 \\\\\n",
       "0 & 1 & 0 & 0 & 0 & 0 & 0 & 0 & 0 & 0 & 0 & 0 & 1 & 1 & 1 & 1 \\\\\n",
       "0 & 0 & 1 & 0 & 0 & 0 & 0 & 0 & 0 & 0 & 0 & 0 & 1 & 0 & 0 & 1 \\\\\n",
       "0 & 0 & 0 & 1 & 0 & 0 & 0 & 0 & 0 & 0 & 0 & 0 & 1 & 0 & 0 & 0 \\\\\n",
       "0 & 0 & 0 & 0 & 1 & 0 & 0 & 0 & 0 & 0 & 0 & 0 & 1 & 1 & 1 & 1 \\\\\n",
       "0 & 0 & 0 & 0 & 0 & 1 & 0 & 0 & 0 & 0 & 0 & 0 & 0 & 0 & 1 & 1 \\\\\n",
       "0 & 0 & 0 & 0 & 0 & 0 & 1 & 0 & 0 & 0 & 0 & 0 & 1 & 1 & 1 & 0 \\\\\n",
       "0 & 0 & 0 & 0 & 0 & 0 & 0 & 1 & 0 & 0 & 0 & 0 & 0 & 1 & 0 & 0 \\\\\n",
       "0 & 0 & 0 & 0 & 0 & 0 & 0 & 0 & 1 & 0 & 0 & 0 & 1 & 0 & 0 & 1 \\\\\n",
       "0 & 0 & 0 & 0 & 0 & 0 & 0 & 0 & 0 & 1 & 0 & 0 & 1 & 1 & 1 & 0 \\\\\n",
       "0 & 0 & 0 & 0 & 0 & 0 & 0 & 0 & 0 & 0 & 1 & 0 & 0 & 1 & 0 & 1 \\\\\n",
       "0 & 0 & 0 & 0 & 0 & 0 & 0 & 0 & 0 & 0 & 0 & 1 & 0 & 0 & 1 & 0\n",
       "\\end{array}\\right)$"
      ],
      "text/plain": [
       "<IPython.core.display.Math object>"
      ]
     },
     "metadata": {},
     "output_type": "display_data"
    },
    {
     "data": {
      "text/latex": [
       "$\\displaystyle \\text{This is the generator matrix}$"
      ],
      "text/plain": [
       "<IPython.core.display.Math object>"
      ]
     },
     "metadata": {},
     "output_type": "display_data"
    },
    {
     "data": {
      "text/latex": [
       "$\\displaystyle \\left(\\begin{array}{rrrrrrrrrrrrrrrr}\n",
       "1 & 1 & 1 & 1 & 1 & 0 & 1 & 0 & 1 & 1 & 0 & 0 & 1 & 0 & 0 & 0 \\\\\n",
       "1 & 1 & 0 & 0 & 1 & 0 & 1 & 1 & 0 & 1 & 1 & 0 & 0 & 1 & 0 & 0 \\\\\n",
       "0 & 1 & 0 & 0 & 1 & 1 & 1 & 0 & 0 & 1 & 0 & 1 & 0 & 0 & 1 & 0 \\\\\n",
       "0 & 1 & 1 & 0 & 1 & 1 & 0 & 0 & 1 & 0 & 1 & 0 & 0 & 0 & 0 & 1\n",
       "\\end{array}\\right)$"
      ],
      "text/plain": [
       "<IPython.core.display.Math object>"
      ]
     },
     "metadata": {},
     "output_type": "display_data"
    },
    {
     "name": "stdout",
     "output_type": "stream",
     "text": [
      "generator matrix print\n"
     ]
    },
    {
     "data": {
      "text/latex": [
       "$\\displaystyle \\left(\\begin{array}{rrrrrrrrrrrrrrrr}\n",
       "1 & 1 & 1 & 1 & 1 & 0 & 1 & 0 & 1 & 1 & 0 & 0 & 1 & 0 & 0 & 0 \\\\\n",
       "1 & 1 & 0 & 0 & 1 & 0 & 1 & 1 & 0 & 1 & 1 & 0 & 0 & 1 & 0 & 0 \\\\\n",
       "0 & 1 & 0 & 0 & 1 & 1 & 1 & 0 & 0 & 1 & 0 & 1 & 0 & 0 & 1 & 0 \\\\\n",
       "0 & 1 & 1 & 0 & 1 & 1 & 0 & 0 & 1 & 0 & 1 & 0 & 0 & 0 & 0 & 1\n",
       "\\end{array}\\right)$"
      ],
      "text/plain": [
       "<IPython.core.display.Math object>"
      ]
     },
     "metadata": {},
     "output_type": "display_data"
    },
    {
     "name": "stdout",
     "output_type": "stream",
     "text": [
      "stored subset of generator matrix\n"
     ]
    },
    {
     "data": {
      "text/latex": [
       "$\\displaystyle \\left(\\begin{array}{rrrrrrrrrrrr}\n",
       "1 & 1 & 1 & 1 & 1 & 0 & 1 & 0 & 1 & 1 & 0 & 0 \\\\\n",
       "1 & 1 & 0 & 0 & 1 & 0 & 1 & 1 & 0 & 1 & 1 & 0 \\\\\n",
       "0 & 1 & 0 & 0 & 1 & 1 & 1 & 0 & 0 & 1 & 0 & 1 \\\\\n",
       "0 & 1 & 1 & 0 & 1 & 1 & 0 & 0 & 1 & 0 & 1 & 0\n",
       "\\end{array}\\right)$"
      ],
      "text/plain": [
       "<IPython.core.display.Math object>"
      ]
     },
     "metadata": {},
     "output_type": "display_data"
    },
    {
     "name": "stdout",
     "output_type": "stream",
     "text": [
      "k_pub:\n",
      "-----------\n"
     ]
    },
    {
     "data": {
      "text/latex": [
       "$\\displaystyle \\left(\\left(\\begin{array}{rrrrrrrrrrrr}\n",
       "1 & 1 & 1 & 1 & 1 & 0 & 1 & 0 & 1 & 1 & 0 & 0 \\\\\n",
       "1 & 1 & 0 & 0 & 1 & 0 & 1 & 1 & 0 & 1 & 1 & 0 \\\\\n",
       "0 & 1 & 0 & 0 & 1 & 1 & 1 & 0 & 0 & 1 & 0 & 1 \\\\\n",
       "0 & 1 & 1 & 0 & 1 & 1 & 0 & 0 & 1 & 0 & 1 & 0\n",
       "\\end{array}\\right), 3, 4, 4, 16\\right)$"
      ],
      "text/plain": [
       "<IPython.core.display.Math object>"
      ]
     },
     "metadata": {},
     "output_type": "display_data"
    },
    {
     "name": "stdout",
     "output_type": "stream",
     "text": [
      "k_priv:\n",
      "-----------\n"
     ]
    },
    {
     "data": {
      "text/latex": [
       "$\\displaystyle \\left(\\left[0, z, z^{2}, z^{3}, z + 1, z^{2} + z, z^{3} + z^{2}, z^{3} + z + 1, z^{2} + 1, z^{3} + z, z^{2} + z + 1, z^{3} + z^{2} + z, z^{3} + z^{2} + z + 1, z^{3} + z^{2} + 1, z^{3} + 1, 1\\right], x^{3} + x + 1, \\Bold{F}_{2^{4}}\\right)$"
      ],
      "text/plain": [
       "<IPython.core.display.Math object>"
      ]
     },
     "metadata": {},
     "output_type": "display_data"
    },
    {
     "name": "stdout",
     "output_type": "stream",
     "text": [
      "error type list\n",
      "t = 3, m = 4, k = 4, n = 16\n",
      "generator matrix without identity part\n"
     ]
    },
    {
     "data": {
      "text/latex": [
       "$\\displaystyle \\left(\\begin{array}{rrrrrrrrrrrr}\n",
       "1 & 1 & 1 & 1 & 1 & 0 & 1 & 0 & 1 & 1 & 0 & 0 \\\\\n",
       "1 & 1 & 0 & 0 & 1 & 0 & 1 & 1 & 0 & 1 & 1 & 0 \\\\\n",
       "0 & 1 & 0 & 0 & 1 & 1 & 1 & 0 & 0 & 1 & 0 & 1 \\\\\n",
       "0 & 1 & 1 & 0 & 1 & 1 & 0 & 0 & 1 & 0 & 1 & 0\n",
       "\\end{array}\\right)$"
      ],
      "text/plain": [
       "<IPython.core.display.Math object>"
      ]
     },
     "metadata": {},
     "output_type": "display_data"
    },
    {
     "name": "stdout",
     "output_type": "stream",
     "text": [
      "generator matrix with identity part\n"
     ]
    },
    {
     "data": {
      "text/latex": [
       "$\\displaystyle \\left(\\begin{array}{rrrrrrrrrrrrrrrr}\n",
       "1 & 1 & 1 & 1 & 1 & 0 & 1 & 0 & 1 & 1 & 0 & 0 & 1 & 0 & 0 & 0 \\\\\n",
       "1 & 1 & 0 & 0 & 1 & 0 & 1 & 1 & 0 & 1 & 1 & 0 & 0 & 1 & 0 & 0 \\\\\n",
       "0 & 1 & 0 & 0 & 1 & 1 & 1 & 0 & 0 & 1 & 0 & 1 & 0 & 0 & 1 & 0 \\\\\n",
       "0 & 1 & 1 & 0 & 1 & 1 & 0 & 0 & 1 & 0 & 1 & 0 & 0 & 0 & 0 & 1\n",
       "\\end{array}\\right)$"
      ],
      "text/plain": [
       "<IPython.core.display.Math object>"
      ]
     },
     "metadata": {},
     "output_type": "display_data"
    },
    {
     "name": "stdout",
     "output_type": "stream",
     "text": [
      "message\n"
     ]
    },
    {
     "data": {
      "text/latex": [
       "$\\displaystyle \\left(\\begin{array}{rrrr}\n",
       "1 & 1 & 1 & 0\n",
       "\\end{array}\\right)$"
      ],
      "text/plain": [
       "<IPython.core.display.Math object>"
      ]
     },
     "metadata": {},
     "output_type": "display_data"
    },
    {
     "name": "stdout",
     "output_type": "stream",
     "text": [
      "codeword\n"
     ]
    },
    {
     "data": {
      "text/latex": [
       "$\\displaystyle \\left(\\begin{array}{rrrrrrrrrrrrrrrr}\n",
       "0 & 1 & 1 & 1 & 1 & 1 & 1 & 1 & 1 & 1 & 1 & 1 & 1 & 1 & 1 & 0\n",
       "\\end{array}\\right)$"
      ],
      "text/plain": [
       "<IPython.core.display.Math object>"
      ]
     },
     "metadata": {},
     "output_type": "display_data"
    },
    {
     "name": "stdout",
     "output_type": "stream",
     "text": [
      "errorvector\n"
     ]
    },
    {
     "data": {
      "text/latex": [
       "$\\displaystyle \\left(\\begin{array}{rrrrrrrrrrrrrrrr}\n",
       "1 & 1 & 0 & 0 & 0 & 0 & 1 & 0 & 0 & 0 & 0 & 0 & 0 & 0 & 0 & 0\n",
       "\\end{array}\\right)$"
      ],
      "text/plain": [
       "<IPython.core.display.Math object>"
      ]
     },
     "metadata": {},
     "output_type": "display_data"
    },
    {
     "name": "stdout",
     "output_type": "stream",
     "text": [
      "encrypted message\n"
     ]
    },
    {
     "data": {
      "text/latex": [
       "$\\displaystyle \\left(\\begin{array}{rrrrrrrrrrrrrrrr}\n",
       "1 & 0 & 1 & 1 & 1 & 1 & 0 & 1 & 1 & 1 & 1 & 1 & 1 & 1 & 1 & 0\n",
       "\\end{array}\\right)$"
      ],
      "text/plain": [
       "<IPython.core.display.Math object>"
      ]
     },
     "metadata": {},
     "output_type": "display_data"
    },
    {
     "data": {
      "text/latex": [
       "$\\displaystyle \\text{This is our polynomial }V(x,z)$"
      ],
      "text/plain": [
       "<IPython.core.display.Math object>"
      ]
     },
     "metadata": {},
     "output_type": "display_data"
    },
    {
     "data": {
      "text/latex": [
       "$\\displaystyle \\left(z^{3} + 1\\right) x^{2} + \\left(z^{2} + z + 1\\right) x + z^{3}$"
      ],
      "text/plain": [
       "<IPython.core.display.Math object>"
      ]
     },
     "metadata": {},
     "output_type": "display_data"
    },
    {
     "name": "stdout",
     "output_type": "stream",
     "text": [
      "\n",
      "error comparison \n",
      "-----------------------------\n",
      "reconstructed error vector:\n"
     ]
    },
    {
     "data": {
      "text/latex": [
       "$\\displaystyle \\left(\\begin{array}{rrrrrrrrrrrrrrrr}\n",
       "1 & 1 & 0 & 0 & 0 & 0 & 1 & 0 & 0 & 0 & 0 & 0 & 0 & 0 & 0 & 0\n",
       "\\end{array}\\right)$"
      ],
      "text/plain": [
       "<IPython.core.display.Math object>"
      ]
     },
     "metadata": {},
     "output_type": "display_data"
    },
    {
     "name": "stdout",
     "output_type": "stream",
     "text": [
      "\n",
      "send vs reconstructed code word:\n",
      "----------------------------\n",
      "reconstructed code word:\n"
     ]
    },
    {
     "data": {
      "text/latex": [
       "$\\displaystyle \\left(\\begin{array}{rrrrrrrrrrrrrrrr}\n",
       "0 & 1 & 1 & 1 & 1 & 1 & 1 & 1 & 1 & 1 & 1 & 1 & 1 & 1 & 1 & 0\n",
       "\\end{array}\\right)$"
      ],
      "text/plain": [
       "<IPython.core.display.Math object>"
      ]
     },
     "metadata": {},
     "output_type": "display_data"
    },
    {
     "name": "stdout",
     "output_type": "stream",
     "text": [
      "\n",
      "reconstruction of message\n",
      "----------------------------\n",
      "the message is therefore the last 4 bits of the reconstructed code word\n"
     ]
    },
    {
     "data": {
      "text/latex": [
       "$\\displaystyle \\left(\\begin{array}{rrrr}\n",
       "1 & 1 & 1 & 0\n",
       "\\end{array}\\right)$"
      ],
      "text/plain": [
       "<IPython.core.display.Math object>"
      ]
     },
     "metadata": {},
     "output_type": "display_data"
    }
   ],
   "source": [
    "verbose = 2\n",
    "\n",
    "# choose g: 'random_binary', 'first_binary', \n",
    "#            Integer i (choose i-th. binary irreducible polynomial)\n",
    "# choose support: # 'first_n', \n",
    "#                  'random_n', \n",
    "#                   list of length n with indizes\n",
    "k_pub, k_priv = mc_eliece_key_gen(4, \n",
    "                                  3, \n",
    "                                  verbose, \n",
    "                                  0, \n",
    "                                  [i for i in range(2^4)])\n",
    "message = [1,1,1]\n",
    "# choose_error='uniformally', 'dummy', \n",
    "#              'first', list with error of length n\n",
    "encrypted_message = mc_eliece_encrypt(message, \n",
    "                                      k_pub, \n",
    "                                      verbose, \n",
    "                                      [1,1,0,0,0,0,1,0,0,0,0,0,0,0,0,0])\n",
    "decrypted_message = mc_eliece_decrypt(encrypted_message,\n",
    "                                      k_priv, \n",
    "                                      verbose)"
   ]
  },
  {
   "cell_type": "markdown",
   "metadata": {},
   "source": [
    "#### McEliece change support order and review changes"
   ]
  },
  {
   "cell_type": "code",
   "execution_count": 31,
   "metadata": {
    "scrolled": false
   },
   "outputs": [
    {
     "name": "stdout",
     "output_type": "stream",
     "text": [
      "\n",
      "Parameter setting: \n",
      "---------------------------------\n",
      "m = 4\n",
      "t = 3\n",
      "n = 16\n",
      "k = 4 \n",
      "\n",
      "\n",
      "Creation of F_2^m:\n",
      "---------------------\n",
      "<class 'list'>\n",
      "These are the 3viable moduli of degree 4\n"
     ]
    },
    {
     "data": {
      "text/latex": [
       "$\\displaystyle \\left[z^{4} + z + 1, z^{4} + z^{3} + 1, z^{4} + z^{3} + z^{2} + z + 1\\right]$"
      ],
      "text/plain": [
       "<IPython.core.display.Math object>"
      ]
     },
     "metadata": {},
     "output_type": "display_data"
    },
    {
     "name": "stdout",
     "output_type": "stream",
     "text": [
      "This is the chosen modulus f(z)\n"
     ]
    },
    {
     "data": {
      "text/latex": [
       "$\\displaystyle z^4 + z + 1$"
      ],
      "text/plain": [
       "<IPython.core.display.Math object>"
      ]
     },
     "metadata": {},
     "output_type": "display_data"
    },
    {
     "name": "stdout",
     "output_type": "stream",
     "text": [
      "This is an enumeration of the elementsof F_2^4\n"
     ]
    },
    {
     "data": {
      "text/latex": [
       "$\\displaystyle 0: 0$"
      ],
      "text/plain": [
       "<IPython.core.display.Math object>"
      ]
     },
     "metadata": {},
     "output_type": "display_data"
    },
    {
     "data": {
      "text/latex": [
       "$\\displaystyle 1: z$"
      ],
      "text/plain": [
       "<IPython.core.display.Math object>"
      ]
     },
     "metadata": {},
     "output_type": "display_data"
    },
    {
     "data": {
      "text/latex": [
       "$\\displaystyle 2: z^2$"
      ],
      "text/plain": [
       "<IPython.core.display.Math object>"
      ]
     },
     "metadata": {},
     "output_type": "display_data"
    },
    {
     "data": {
      "text/latex": [
       "$\\displaystyle 3: z^3$"
      ],
      "text/plain": [
       "<IPython.core.display.Math object>"
      ]
     },
     "metadata": {},
     "output_type": "display_data"
    },
    {
     "data": {
      "text/latex": [
       "$\\displaystyle 4: z + 1$"
      ],
      "text/plain": [
       "<IPython.core.display.Math object>"
      ]
     },
     "metadata": {},
     "output_type": "display_data"
    },
    {
     "data": {
      "text/latex": [
       "$\\displaystyle 5: z^2 + z$"
      ],
      "text/plain": [
       "<IPython.core.display.Math object>"
      ]
     },
     "metadata": {},
     "output_type": "display_data"
    },
    {
     "data": {
      "text/latex": [
       "$\\displaystyle 6: z^3 + z^2$"
      ],
      "text/plain": [
       "<IPython.core.display.Math object>"
      ]
     },
     "metadata": {},
     "output_type": "display_data"
    },
    {
     "data": {
      "text/latex": [
       "$\\displaystyle 7: z^3 + z + 1$"
      ],
      "text/plain": [
       "<IPython.core.display.Math object>"
      ]
     },
     "metadata": {},
     "output_type": "display_data"
    },
    {
     "data": {
      "text/latex": [
       "$\\displaystyle 8: z^2 + 1$"
      ],
      "text/plain": [
       "<IPython.core.display.Math object>"
      ]
     },
     "metadata": {},
     "output_type": "display_data"
    },
    {
     "data": {
      "text/latex": [
       "$\\displaystyle 9: z^3 + z$"
      ],
      "text/plain": [
       "<IPython.core.display.Math object>"
      ]
     },
     "metadata": {},
     "output_type": "display_data"
    },
    {
     "data": {
      "text/latex": [
       "$\\displaystyle 10: z^2 + z + 1$"
      ],
      "text/plain": [
       "<IPython.core.display.Math object>"
      ]
     },
     "metadata": {},
     "output_type": "display_data"
    },
    {
     "data": {
      "text/latex": [
       "$\\displaystyle 11: z^3 + z^2 + z$"
      ],
      "text/plain": [
       "<IPython.core.display.Math object>"
      ]
     },
     "metadata": {},
     "output_type": "display_data"
    },
    {
     "data": {
      "text/latex": [
       "$\\displaystyle 12: z^3 + z^2 + z + 1$"
      ],
      "text/plain": [
       "<IPython.core.display.Math object>"
      ]
     },
     "metadata": {},
     "output_type": "display_data"
    },
    {
     "data": {
      "text/latex": [
       "$\\displaystyle 13: z^3 + z^2 + 1$"
      ],
      "text/plain": [
       "<IPython.core.display.Math object>"
      ]
     },
     "metadata": {},
     "output_type": "display_data"
    },
    {
     "data": {
      "text/latex": [
       "$\\displaystyle 14: z^3 + 1$"
      ],
      "text/plain": [
       "<IPython.core.display.Math object>"
      ]
     },
     "metadata": {},
     "output_type": "display_data"
    },
    {
     "data": {
      "text/latex": [
       "$\\displaystyle 15: 1$"
      ],
      "text/plain": [
       "<IPython.core.display.Math object>"
      ]
     },
     "metadata": {},
     "output_type": "display_data"
    },
    {
     "name": "stdout",
     "output_type": "stream",
     "text": [
      "choose g type Integer\n",
      "These are 5 examples of possiblegoppa polynomials (moduli of degree 3) with coefficients in z, which we will not use\n"
     ]
    },
    {
     "data": {
      "text/latex": [
       "$\\displaystyle z^2*x^3 + (z^3 + z^2 + z)*x + z + 1$"
      ],
      "text/plain": [
       "<IPython.core.display.Math object>"
      ]
     },
     "metadata": {},
     "output_type": "display_data"
    },
    {
     "data": {
      "text/latex": [
       "$\\displaystyle (z^3 + z^2)*x^3 + z^2*x^2 + (z^2 + z)*x + z^3 + 1$"
      ],
      "text/plain": [
       "<IPython.core.display.Math object>"
      ]
     },
     "metadata": {},
     "output_type": "display_data"
    },
    {
     "data": {
      "text/latex": [
       "$\\displaystyle z*x^3 + (z^3 + z)*x^2 + (z^3 + 1)*x + z^3 + z$"
      ],
      "text/plain": [
       "<IPython.core.display.Math object>"
      ]
     },
     "metadata": {},
     "output_type": "display_data"
    },
    {
     "data": {
      "text/latex": [
       "$\\displaystyle (z + 1)*x^3 + z*x^2 + (z^2 + z)*x + 1$"
      ],
      "text/plain": [
       "<IPython.core.display.Math object>"
      ]
     },
     "metadata": {},
     "output_type": "display_data"
    },
    {
     "data": {
      "text/latex": [
       "$\\displaystyle (z^2 + z)*x^3 + z^3*x^2 + x + z^2 + z$"
      ],
      "text/plain": [
       "<IPython.core.display.Math object>"
      ]
     },
     "metadata": {},
     "output_type": "display_data"
    },
    {
     "name": "stdout",
     "output_type": "stream",
     "text": [
      "These are the viable moduli of degree 3 with binary coefficients\n"
     ]
    },
    {
     "data": {
      "text/latex": [
       "$\\displaystyle x^3 + x + 1$"
      ],
      "text/plain": [
       "<IPython.core.display.Math object>"
      ]
     },
     "metadata": {},
     "output_type": "display_data"
    },
    {
     "data": {
      "text/latex": [
       "$\\displaystyle x^3 + x^2 + 1$"
      ],
      "text/plain": [
       "<IPython.core.display.Math object>"
      ]
     },
     "metadata": {},
     "output_type": "display_data"
    },
    {
     "name": "stdout",
     "output_type": "stream",
     "text": [
      "This is the chosen modulus g(x,z)\n"
     ]
    },
    {
     "data": {
      "text/latex": [
       "$\\displaystyle x^3 + x + 1$"
      ],
      "text/plain": [
       "<IPython.core.display.Math object>"
      ]
     },
     "metadata": {},
     "output_type": "display_data"
    },
    {
     "name": "stdout",
     "output_type": "stream",
     "text": [
      "choose support type: given list\n",
      "[1, 0, 2, 3, 4, 5, 6, 7, 8, 9, 10, 11, 12, 13, 14, 15] Support: \n",
      "-------------\n",
      "These are the elements in the support\n"
     ]
    },
    {
     "data": {
      "text/latex": [
       "$\\displaystyle 0: z$"
      ],
      "text/plain": [
       "<IPython.core.display.Math object>"
      ]
     },
     "metadata": {},
     "output_type": "display_data"
    },
    {
     "data": {
      "text/latex": [
       "$\\displaystyle 1: 0$"
      ],
      "text/plain": [
       "<IPython.core.display.Math object>"
      ]
     },
     "metadata": {},
     "output_type": "display_data"
    },
    {
     "data": {
      "text/latex": [
       "$\\displaystyle 2: z^2$"
      ],
      "text/plain": [
       "<IPython.core.display.Math object>"
      ]
     },
     "metadata": {},
     "output_type": "display_data"
    },
    {
     "data": {
      "text/latex": [
       "$\\displaystyle 3: z^3$"
      ],
      "text/plain": [
       "<IPython.core.display.Math object>"
      ]
     },
     "metadata": {},
     "output_type": "display_data"
    },
    {
     "data": {
      "text/latex": [
       "$\\displaystyle 4: z + 1$"
      ],
      "text/plain": [
       "<IPython.core.display.Math object>"
      ]
     },
     "metadata": {},
     "output_type": "display_data"
    },
    {
     "data": {
      "text/latex": [
       "$\\displaystyle 5: z^2 + z$"
      ],
      "text/plain": [
       "<IPython.core.display.Math object>"
      ]
     },
     "metadata": {},
     "output_type": "display_data"
    },
    {
     "data": {
      "text/latex": [
       "$\\displaystyle 6: z^3 + z^2$"
      ],
      "text/plain": [
       "<IPython.core.display.Math object>"
      ]
     },
     "metadata": {},
     "output_type": "display_data"
    },
    {
     "data": {
      "text/latex": [
       "$\\displaystyle 7: z^3 + z + 1$"
      ],
      "text/plain": [
       "<IPython.core.display.Math object>"
      ]
     },
     "metadata": {},
     "output_type": "display_data"
    },
    {
     "data": {
      "text/latex": [
       "$\\displaystyle 8: z^2 + 1$"
      ],
      "text/plain": [
       "<IPython.core.display.Math object>"
      ]
     },
     "metadata": {},
     "output_type": "display_data"
    },
    {
     "data": {
      "text/latex": [
       "$\\displaystyle 9: z^3 + z$"
      ],
      "text/plain": [
       "<IPython.core.display.Math object>"
      ]
     },
     "metadata": {},
     "output_type": "display_data"
    },
    {
     "data": {
      "text/latex": [
       "$\\displaystyle 10: z^2 + z + 1$"
      ],
      "text/plain": [
       "<IPython.core.display.Math object>"
      ]
     },
     "metadata": {},
     "output_type": "display_data"
    },
    {
     "data": {
      "text/latex": [
       "$\\displaystyle 11: z^3 + z^2 + z$"
      ],
      "text/plain": [
       "<IPython.core.display.Math object>"
      ]
     },
     "metadata": {},
     "output_type": "display_data"
    },
    {
     "data": {
      "text/latex": [
       "$\\displaystyle 12: z^3 + z^2 + z + 1$"
      ],
      "text/plain": [
       "<IPython.core.display.Math object>"
      ]
     },
     "metadata": {},
     "output_type": "display_data"
    },
    {
     "data": {
      "text/latex": [
       "$\\displaystyle 13: z^3 + z^2 + 1$"
      ],
      "text/plain": [
       "<IPython.core.display.Math object>"
      ]
     },
     "metadata": {},
     "output_type": "display_data"
    },
    {
     "data": {
      "text/latex": [
       "$\\displaystyle 14: z^3 + 1$"
      ],
      "text/plain": [
       "<IPython.core.display.Math object>"
      ]
     },
     "metadata": {},
     "output_type": "display_data"
    },
    {
     "data": {
      "text/latex": [
       "$\\displaystyle 15: 1$"
      ],
      "text/plain": [
       "<IPython.core.display.Math object>"
      ]
     },
     "metadata": {},
     "output_type": "display_data"
    },
    {
     "name": "stdout",
     "output_type": "stream",
     "text": [
      "First Matrix of Check Matrix:\n",
      "--------------------------------\n"
     ]
    },
    {
     "data": {
      "text/latex": [
       "$\\displaystyle \\left(\\begin{array}{rrr}\n",
       "1 & 0 & 0 \\\\\n",
       "0 & 1 & 0 \\\\\n",
       "1 & 0 & 1\n",
       "\\end{array}\\right)$"
      ],
      "text/plain": [
       "<IPython.core.display.Math object>"
      ]
     },
     "metadata": {},
     "output_type": "display_data"
    },
    {
     "name": "stdout",
     "output_type": "stream",
     "text": [
      "Second Matrix of Check Matrix:\n",
      "--------------------------------\n"
     ]
    },
    {
     "data": {
      "text/latex": [
       "$\\displaystyle \\left(\\begin{array}{rrrrrrrrrrrrrrrr}\n",
       "1 & 1 & 1 & 1 & 1 & 1 & 1 & 1 & 1 & 1 & 1 & 1 & 1 & 1 & 1 & 1 \\\\\n",
       "z & 0 & z^{2} & z^{3} & z + 1 & z^{2} + z & z^{3} + z^{2} & z^{3} + z + 1 & z^{2} + 1 & z^{3} + z & z^{2} + z + 1 & z^{3} + z^{2} + z & z^{3} + z^{2} + z + 1 & z^{3} + z^{2} + 1 & z^{3} + 1 & 1 \\\\\n",
       "z^{2} & 0 & z + 1 & z^{3} + z^{2} & z^{2} + 1 & z^{2} + z + 1 & z^{3} + z^{2} + z + 1 & z^{3} + 1 & z & z^{3} & z^{2} + z & z^{3} + z + 1 & z^{3} + z & z^{3} + z^{2} + z & z^{3} + z^{2} + 1 & 1\n",
       "\\end{array}\\right)$"
      ],
      "text/plain": [
       "<IPython.core.display.Math object>"
      ]
     },
     "metadata": {},
     "output_type": "display_data"
    },
    {
     "name": "stdout",
     "output_type": "stream",
     "text": [
      "Third Matrix of Check Matrix:\n",
      "--------------------------------\n"
     ]
    },
    {
     "data": {
      "text/latex": [
       "$\\displaystyle \\left(\\begin{array}{rrrrrrrrrrrrrrrr}\n",
       "z^{2} + 1 & 0 & 0 & 0 & 0 & 0 & 0 & 0 & 0 & 0 & 0 & 0 & 0 & 0 & 0 & 0 \\\\\n",
       "0 & 1 & 0 & 0 & 0 & 0 & 0 & 0 & 0 & 0 & 0 & 0 & 0 & 0 & 0 & 0 \\\\\n",
       "0 & 0 & z & 0 & 0 & 0 & 0 & 0 & 0 & 0 & 0 & 0 & 0 & 0 & 0 & 0 \\\\\n",
       "0 & 0 & 0 & z^{3} + z^{2} + z & 0 & 0 & 0 & 0 & 0 & 0 & 0 & 0 & 0 & 0 & 0 & 0 \\\\\n",
       "0 & 0 & 0 & 0 & z^{2} & 0 & 0 & 0 & 0 & 0 & 0 & 0 & 0 & 0 & 0 & 0 \\\\\n",
       "0 & 0 & 0 & 0 & 0 & z^{2} + z + 1 & 0 & 0 & 0 & 0 & 0 & 0 & 0 & 0 & 0 & 0 \\\\\n",
       "0 & 0 & 0 & 0 & 0 & 0 & z^{3} + z + 1 & 0 & 0 & 0 & 0 & 0 & 0 & 0 & 0 & 0 \\\\\n",
       "0 & 0 & 0 & 0 & 0 & 0 & 0 & z^{2} + z + 1 & 0 & 0 & 0 & 0 & 0 & 0 & 0 & 0 \\\\\n",
       "0 & 0 & 0 & 0 & 0 & 0 & 0 & 0 & z + 1 & 0 & 0 & 0 & 0 & 0 & 0 & 0 \\\\\n",
       "0 & 0 & 0 & 0 & 0 & 0 & 0 & 0 & 0 & z^{3} + z^{2} + 1 & 0 & 0 & 0 & 0 & 0 & 0 \\\\\n",
       "0 & 0 & 0 & 0 & 0 & 0 & 0 & 0 & 0 & 0 & z^{2} + z & 0 & 0 & 0 & 0 & 0 \\\\\n",
       "0 & 0 & 0 & 0 & 0 & 0 & 0 & 0 & 0 & 0 & 0 & z^{2} + z & 0 & 0 & 0 & 0 \\\\\n",
       "0 & 0 & 0 & 0 & 0 & 0 & 0 & 0 & 0 & 0 & 0 & 0 & z^{3} + 1 & 0 & 0 & 0 \\\\\n",
       "0 & 0 & 0 & 0 & 0 & 0 & 0 & 0 & 0 & 0 & 0 & 0 & 0 & z^{2} + z + 1 & 0 & 0 \\\\\n",
       "0 & 0 & 0 & 0 & 0 & 0 & 0 & 0 & 0 & 0 & 0 & 0 & 0 & 0 & z^{2} + z & 0 \\\\\n",
       "0 & 0 & 0 & 0 & 0 & 0 & 0 & 0 & 0 & 0 & 0 & 0 & 0 & 0 & 0 & 1\n",
       "\\end{array}\\right)$"
      ],
      "text/plain": [
       "<IPython.core.display.Math object>"
      ]
     },
     "metadata": {},
     "output_type": "display_data"
    },
    {
     "name": "stdout",
     "output_type": "stream",
     "text": [
      "Check Matrix over F_2^m with dimensions3x16:\n",
      "--------------------------------\n"
     ]
    },
    {
     "data": {
      "text/latex": [
       "$\\displaystyle \\left(\\begin{array}{rrrrrrrrrrrrrrrr}\n",
       "z^{2} + 1 & 1 & z & z^{3} + z^{2} + z & z^{2} & z^{2} + z + 1 & z^{3} + z + 1 & z^{2} + z + 1 & z + 1 & z^{3} + z^{2} + 1 & z^{2} + z & z^{2} + z & z^{3} + 1 & z^{2} + z + 1 & z^{2} + z & 1 \\\\\n",
       "z^{3} + z & 0 & z^{3} & z^{3} + 1 & z^{3} + z^{2} & 1 & z^{3} + z^{2} + 1 & z^{2} & z^{3} + z^{2} + z + 1 & z^{3} + z + 1 & 1 & z & z^{3} + z^{2} + z & z^{2} + 1 & z + 1 & 1 \\\\\n",
       "z^{2} + z + 1 & 0 & z^{2} + z & z^{2} & z^{2} + z + 1 & z^{2} + z & z + 1 & z^{3} + z & z^{2} + z & z & z^{2} + z + 1 & z^{3} + z^{2} + z + 1 & z^{2} + 1 & z^{3} + z^{2} & z^{3} & 1\n",
       "\\end{array}\\right)$"
      ],
      "text/plain": [
       "<IPython.core.display.Math object>"
      ]
     },
     "metadata": {},
     "output_type": "display_data"
    },
    {
     "name": "stdout",
     "output_type": "stream",
     "text": [
      "The check matrix over F_2 has dimensions 12x16 and is  :\n",
      "--------------------------------\n"
     ]
    },
    {
     "data": {
      "text/latex": [
       "$\\displaystyle \\left(\\begin{array}{rrrrrrrrrrrrrrrr}\n",
       "1 & 1 & 0 & 0 & 0 & 1 & 1 & 1 & 1 & 1 & 0 & 0 & 1 & 1 & 0 & 1 \\\\\n",
       "0 & 0 & 1 & 1 & 0 & 1 & 1 & 1 & 1 & 0 & 1 & 1 & 0 & 1 & 1 & 0 \\\\\n",
       "1 & 0 & 0 & 1 & 1 & 1 & 0 & 1 & 0 & 1 & 1 & 1 & 0 & 1 & 1 & 0 \\\\\n",
       "0 & 0 & 0 & 1 & 0 & 0 & 1 & 0 & 0 & 1 & 0 & 0 & 1 & 0 & 0 & 0 \\\\\n",
       "0 & 0 & 0 & 1 & 0 & 1 & 1 & 0 & 1 & 1 & 1 & 0 & 0 & 1 & 1 & 1 \\\\\n",
       "1 & 0 & 0 & 0 & 0 & 0 & 0 & 0 & 1 & 1 & 0 & 1 & 1 & 0 & 1 & 0 \\\\\n",
       "0 & 0 & 0 & 0 & 1 & 0 & 1 & 1 & 1 & 0 & 0 & 0 & 1 & 1 & 0 & 0 \\\\\n",
       "1 & 0 & 1 & 1 & 1 & 0 & 1 & 0 & 1 & 1 & 0 & 0 & 1 & 0 & 0 & 0 \\\\\n",
       "1 & 0 & 0 & 0 & 1 & 0 & 1 & 0 & 0 & 0 & 1 & 1 & 1 & 0 & 0 & 1 \\\\\n",
       "1 & 0 & 1 & 0 & 1 & 1 & 1 & 1 & 1 & 1 & 1 & 1 & 0 & 0 & 0 & 0 \\\\\n",
       "1 & 0 & 1 & 1 & 1 & 1 & 0 & 0 & 1 & 0 & 1 & 1 & 1 & 1 & 0 & 0 \\\\\n",
       "0 & 0 & 0 & 0 & 0 & 0 & 0 & 1 & 0 & 0 & 0 & 1 & 0 & 1 & 1 & 0\n",
       "\\end{array}\\right)$"
      ],
      "text/plain": [
       "<IPython.core.display.Math object>"
      ]
     },
     "metadata": {},
     "output_type": "display_data"
    },
    {
     "name": "stdout",
     "output_type": "stream",
     "text": [
      "Parity check matrix in echolon form:\n",
      "-------------------------------------\n"
     ]
    },
    {
     "data": {
      "text/latex": [
       "$\\displaystyle \\text{This is the parity check matrix}$"
      ],
      "text/plain": [
       "<IPython.core.display.Math object>"
      ]
     },
     "metadata": {},
     "output_type": "display_data"
    },
    {
     "data": {
      "text/latex": [
       "$\\displaystyle \\left(\\begin{array}{rrrrrrrrrrrrrrrr}\n",
       "1 & 0 & 0 & 0 & 0 & 0 & 0 & 0 & 0 & 0 & 0 & 0 & 1 & 1 & 1 & 1 \\\\\n",
       "0 & 1 & 0 & 0 & 0 & 0 & 0 & 0 & 0 & 0 & 0 & 0 & 1 & 1 & 0 & 0 \\\\\n",
       "0 & 0 & 1 & 0 & 0 & 0 & 0 & 0 & 0 & 0 & 0 & 0 & 1 & 0 & 0 & 1 \\\\\n",
       "0 & 0 & 0 & 1 & 0 & 0 & 0 & 0 & 0 & 0 & 0 & 0 & 1 & 0 & 0 & 0 \\\\\n",
       "0 & 0 & 0 & 0 & 1 & 0 & 0 & 0 & 0 & 0 & 0 & 0 & 1 & 1 & 1 & 1 \\\\\n",
       "0 & 0 & 0 & 0 & 0 & 1 & 0 & 0 & 0 & 0 & 0 & 0 & 0 & 0 & 1 & 1 \\\\\n",
       "0 & 0 & 0 & 0 & 0 & 0 & 1 & 0 & 0 & 0 & 0 & 0 & 1 & 1 & 1 & 0 \\\\\n",
       "0 & 0 & 0 & 0 & 0 & 0 & 0 & 1 & 0 & 0 & 0 & 0 & 0 & 1 & 0 & 0 \\\\\n",
       "0 & 0 & 0 & 0 & 0 & 0 & 0 & 0 & 1 & 0 & 0 & 0 & 1 & 0 & 0 & 1 \\\\\n",
       "0 & 0 & 0 & 0 & 0 & 0 & 0 & 0 & 0 & 1 & 0 & 0 & 1 & 1 & 1 & 0 \\\\\n",
       "0 & 0 & 0 & 0 & 0 & 0 & 0 & 0 & 0 & 0 & 1 & 0 & 0 & 1 & 0 & 1 \\\\\n",
       "0 & 0 & 0 & 0 & 0 & 0 & 0 & 0 & 0 & 0 & 0 & 1 & 0 & 0 & 1 & 0\n",
       "\\end{array}\\right)$"
      ],
      "text/plain": [
       "<IPython.core.display.Math object>"
      ]
     },
     "metadata": {},
     "output_type": "display_data"
    },
    {
     "data": {
      "text/latex": [
       "$\\displaystyle \\text{This is the generator matrix}$"
      ],
      "text/plain": [
       "<IPython.core.display.Math object>"
      ]
     },
     "metadata": {},
     "output_type": "display_data"
    },
    {
     "data": {
      "text/latex": [
       "$\\displaystyle \\left(\\begin{array}{rrrrrrrrrrrrrrrr}\n",
       "1 & 1 & 1 & 1 & 1 & 0 & 1 & 0 & 1 & 1 & 0 & 0 & 1 & 0 & 0 & 0 \\\\\n",
       "1 & 1 & 0 & 0 & 1 & 0 & 1 & 1 & 0 & 1 & 1 & 0 & 0 & 1 & 0 & 0 \\\\\n",
       "1 & 0 & 0 & 0 & 1 & 1 & 1 & 0 & 0 & 1 & 0 & 1 & 0 & 0 & 1 & 0 \\\\\n",
       "1 & 0 & 1 & 0 & 1 & 1 & 0 & 0 & 1 & 0 & 1 & 0 & 0 & 0 & 0 & 1\n",
       "\\end{array}\\right)$"
      ],
      "text/plain": [
       "<IPython.core.display.Math object>"
      ]
     },
     "metadata": {},
     "output_type": "display_data"
    },
    {
     "name": "stdout",
     "output_type": "stream",
     "text": [
      "generator matrix print\n"
     ]
    },
    {
     "data": {
      "text/latex": [
       "$\\displaystyle \\left(\\begin{array}{rrrrrrrrrrrrrrrr}\n",
       "1 & 1 & 1 & 1 & 1 & 0 & 1 & 0 & 1 & 1 & 0 & 0 & 1 & 0 & 0 & 0 \\\\\n",
       "1 & 1 & 0 & 0 & 1 & 0 & 1 & 1 & 0 & 1 & 1 & 0 & 0 & 1 & 0 & 0 \\\\\n",
       "1 & 0 & 0 & 0 & 1 & 1 & 1 & 0 & 0 & 1 & 0 & 1 & 0 & 0 & 1 & 0 \\\\\n",
       "1 & 0 & 1 & 0 & 1 & 1 & 0 & 0 & 1 & 0 & 1 & 0 & 0 & 0 & 0 & 1\n",
       "\\end{array}\\right)$"
      ],
      "text/plain": [
       "<IPython.core.display.Math object>"
      ]
     },
     "metadata": {},
     "output_type": "display_data"
    },
    {
     "name": "stdout",
     "output_type": "stream",
     "text": [
      "stored subset of generator matrix\n"
     ]
    },
    {
     "data": {
      "text/latex": [
       "$\\displaystyle \\left(\\begin{array}{rrrrrrrrrrrr}\n",
       "1 & 1 & 1 & 1 & 1 & 0 & 1 & 0 & 1 & 1 & 0 & 0 \\\\\n",
       "1 & 1 & 0 & 0 & 1 & 0 & 1 & 1 & 0 & 1 & 1 & 0 \\\\\n",
       "1 & 0 & 0 & 0 & 1 & 1 & 1 & 0 & 0 & 1 & 0 & 1 \\\\\n",
       "1 & 0 & 1 & 0 & 1 & 1 & 0 & 0 & 1 & 0 & 1 & 0\n",
       "\\end{array}\\right)$"
      ],
      "text/plain": [
       "<IPython.core.display.Math object>"
      ]
     },
     "metadata": {},
     "output_type": "display_data"
    },
    {
     "name": "stdout",
     "output_type": "stream",
     "text": [
      "k_pub:\n",
      "-----------\n"
     ]
    },
    {
     "data": {
      "text/latex": [
       "$\\displaystyle \\left(\\left(\\begin{array}{rrrrrrrrrrrr}\n",
       "1 & 1 & 1 & 1 & 1 & 0 & 1 & 0 & 1 & 1 & 0 & 0 \\\\\n",
       "1 & 1 & 0 & 0 & 1 & 0 & 1 & 1 & 0 & 1 & 1 & 0 \\\\\n",
       "1 & 0 & 0 & 0 & 1 & 1 & 1 & 0 & 0 & 1 & 0 & 1 \\\\\n",
       "1 & 0 & 1 & 0 & 1 & 1 & 0 & 0 & 1 & 0 & 1 & 0\n",
       "\\end{array}\\right), 3, 4, 4, 16\\right)$"
      ],
      "text/plain": [
       "<IPython.core.display.Math object>"
      ]
     },
     "metadata": {},
     "output_type": "display_data"
    },
    {
     "name": "stdout",
     "output_type": "stream",
     "text": [
      "k_priv:\n",
      "-----------\n"
     ]
    },
    {
     "data": {
      "text/latex": [
       "$\\displaystyle \\left(\\left[z, 0, z^{2}, z^{3}, z + 1, z^{2} + z, z^{3} + z^{2}, z^{3} + z + 1, z^{2} + 1, z^{3} + z, z^{2} + z + 1, z^{3} + z^{2} + z, z^{3} + z^{2} + z + 1, z^{3} + z^{2} + 1, z^{3} + 1, 1\\right], x^{3} + x + 1, \\Bold{F}_{2^{4}}\\right)$"
      ],
      "text/plain": [
       "<IPython.core.display.Math object>"
      ]
     },
     "metadata": {},
     "output_type": "display_data"
    },
    {
     "name": "stdout",
     "output_type": "stream",
     "text": [
      "error type list\n",
      "t = 3, m = 4, k = 4, n = 16\n",
      "generator matrix without identity part\n"
     ]
    },
    {
     "data": {
      "text/latex": [
       "$\\displaystyle \\left(\\begin{array}{rrrrrrrrrrrr}\n",
       "1 & 1 & 1 & 1 & 1 & 0 & 1 & 0 & 1 & 1 & 0 & 0 \\\\\n",
       "1 & 1 & 0 & 0 & 1 & 0 & 1 & 1 & 0 & 1 & 1 & 0 \\\\\n",
       "1 & 0 & 0 & 0 & 1 & 1 & 1 & 0 & 0 & 1 & 0 & 1 \\\\\n",
       "1 & 0 & 1 & 0 & 1 & 1 & 0 & 0 & 1 & 0 & 1 & 0\n",
       "\\end{array}\\right)$"
      ],
      "text/plain": [
       "<IPython.core.display.Math object>"
      ]
     },
     "metadata": {},
     "output_type": "display_data"
    },
    {
     "name": "stdout",
     "output_type": "stream",
     "text": [
      "generator matrix with identity part\n"
     ]
    },
    {
     "data": {
      "text/latex": [
       "$\\displaystyle \\left(\\begin{array}{rrrrrrrrrrrrrrrr}\n",
       "1 & 1 & 1 & 1 & 1 & 0 & 1 & 0 & 1 & 1 & 0 & 0 & 1 & 0 & 0 & 0 \\\\\n",
       "1 & 1 & 0 & 0 & 1 & 0 & 1 & 1 & 0 & 1 & 1 & 0 & 0 & 1 & 0 & 0 \\\\\n",
       "1 & 0 & 0 & 0 & 1 & 1 & 1 & 0 & 0 & 1 & 0 & 1 & 0 & 0 & 1 & 0 \\\\\n",
       "1 & 0 & 1 & 0 & 1 & 1 & 0 & 0 & 1 & 0 & 1 & 0 & 0 & 0 & 0 & 1\n",
       "\\end{array}\\right)$"
      ],
      "text/plain": [
       "<IPython.core.display.Math object>"
      ]
     },
     "metadata": {},
     "output_type": "display_data"
    },
    {
     "name": "stdout",
     "output_type": "stream",
     "text": [
      "message\n"
     ]
    },
    {
     "data": {
      "text/latex": [
       "$\\displaystyle \\left(\\begin{array}{rrrr}\n",
       "1 & 1 & 1 & 0\n",
       "\\end{array}\\right)$"
      ],
      "text/plain": [
       "<IPython.core.display.Math object>"
      ]
     },
     "metadata": {},
     "output_type": "display_data"
    },
    {
     "name": "stdout",
     "output_type": "stream",
     "text": [
      "codeword\n"
     ]
    },
    {
     "data": {
      "text/latex": [
       "$\\displaystyle \\left(\\begin{array}{rrrrrrrrrrrrrrrr}\n",
       "1 & 0 & 1 & 1 & 1 & 1 & 1 & 1 & 1 & 1 & 1 & 1 & 1 & 1 & 1 & 0\n",
       "\\end{array}\\right)$"
      ],
      "text/plain": [
       "<IPython.core.display.Math object>"
      ]
     },
     "metadata": {},
     "output_type": "display_data"
    },
    {
     "name": "stdout",
     "output_type": "stream",
     "text": [
      "errorvector\n"
     ]
    },
    {
     "data": {
      "text/latex": [
       "$\\displaystyle \\left(\\begin{array}{rrrrrrrrrrrrrrrr}\n",
       "1 & 1 & 0 & 0 & 0 & 0 & 1 & 0 & 0 & 0 & 0 & 0 & 0 & 0 & 0 & 0\n",
       "\\end{array}\\right)$"
      ],
      "text/plain": [
       "<IPython.core.display.Math object>"
      ]
     },
     "metadata": {},
     "output_type": "display_data"
    },
    {
     "name": "stdout",
     "output_type": "stream",
     "text": [
      "encrypted message\n"
     ]
    },
    {
     "data": {
      "text/latex": [
       "$\\displaystyle \\left(\\begin{array}{rrrrrrrrrrrrrrrr}\n",
       "0 & 1 & 1 & 1 & 1 & 1 & 0 & 1 & 1 & 1 & 1 & 1 & 1 & 1 & 1 & 0\n",
       "\\end{array}\\right)$"
      ],
      "text/plain": [
       "<IPython.core.display.Math object>"
      ]
     },
     "metadata": {},
     "output_type": "display_data"
    },
    {
     "data": {
      "text/latex": [
       "$\\displaystyle \\text{This is our polynomial }V(x,z)$"
      ],
      "text/plain": [
       "<IPython.core.display.Math object>"
      ]
     },
     "metadata": {},
     "output_type": "display_data"
    },
    {
     "data": {
      "text/latex": [
       "$\\displaystyle \\left(z^{3} + 1\\right) x^{2} + \\left(z^{2} + z + 1\\right) x + z^{3}$"
      ],
      "text/plain": [
       "<IPython.core.display.Math object>"
      ]
     },
     "metadata": {},
     "output_type": "display_data"
    },
    {
     "name": "stdout",
     "output_type": "stream",
     "text": [
      "\n",
      "error comparison \n",
      "-----------------------------\n",
      "reconstructed error vector:\n"
     ]
    },
    {
     "data": {
      "text/latex": [
       "$\\displaystyle \\left(\\begin{array}{rrrrrrrrrrrrrrrr}\n",
       "1 & 1 & 0 & 0 & 0 & 0 & 1 & 0 & 0 & 0 & 0 & 0 & 0 & 0 & 0 & 0\n",
       "\\end{array}\\right)$"
      ],
      "text/plain": [
       "<IPython.core.display.Math object>"
      ]
     },
     "metadata": {},
     "output_type": "display_data"
    },
    {
     "name": "stdout",
     "output_type": "stream",
     "text": [
      "\n",
      "send vs reconstructed code word:\n",
      "----------------------------\n",
      "reconstructed code word:\n"
     ]
    },
    {
     "data": {
      "text/latex": [
       "$\\displaystyle \\left(\\begin{array}{rrrrrrrrrrrrrrrr}\n",
       "1 & 0 & 1 & 1 & 1 & 1 & 1 & 1 & 1 & 1 & 1 & 1 & 1 & 1 & 1 & 0\n",
       "\\end{array}\\right)$"
      ],
      "text/plain": [
       "<IPython.core.display.Math object>"
      ]
     },
     "metadata": {},
     "output_type": "display_data"
    },
    {
     "name": "stdout",
     "output_type": "stream",
     "text": [
      "\n",
      "reconstruction of message\n",
      "----------------------------\n",
      "the message is therefore the last 4 bits of the reconstructed code word\n"
     ]
    },
    {
     "data": {
      "text/latex": [
       "$\\displaystyle \\left(\\begin{array}{rrrr}\n",
       "1 & 1 & 1 & 0\n",
       "\\end{array}\\right)$"
      ],
      "text/plain": [
       "<IPython.core.display.Math object>"
      ]
     },
     "metadata": {},
     "output_type": "display_data"
    }
   ],
   "source": [
    "verbose = 2\n",
    "\n",
    "# choose g: 'random_binary', 'first_binary',\n",
    "#            Integer i (choose i-th. binary irreducible polynomial)\n",
    "# choose support: # 'first_n', 'random_n', \n",
    "#                    list of length n with indizes\n",
    "\n",
    "# change order of support\n",
    "k_pub, k_priv = mc_eliece_key_gen(4, \n",
    "                                  3, \n",
    "                                  verbose, \n",
    "                                  0, \n",
    "                                  [1,0] + [i for i in range(2,2^4)])\n",
    "message = [1,1,1]\n",
    "# choose_error='uniformally', 'dummy', 'first', \n",
    "#               list with error of length n\n",
    "encrypted_message = mc_eliece_encrypt(message, \n",
    "                                      k_pub, \n",
    "                                      verbose, \n",
    "                                      [1,1,0,0,0,0,1,0,0,0,0,0,0,0,0,0])\n",
    "decrypted_message = mc_eliece_decrypt(encrypted_message, \n",
    "                                      k_priv, \n",
    "                                      verbose)"
   ]
  },
  {
   "cell_type": "markdown",
   "metadata": {},
   "source": [
    "#### Niederreiter"
   ]
  },
  {
   "cell_type": "code",
   "execution_count": 32,
   "metadata": {
    "scrolled": false
   },
   "outputs": [
    {
     "name": "stdout",
     "output_type": "stream",
     "text": [
      "\n",
      "Parameter setting: \n",
      "---------------------------------\n",
      "m = 4\n",
      "t = 3\n",
      "n = 16\n",
      "k = 4 \n",
      "\n",
      "\n",
      "Creation of F_2^m:\n",
      "---------------------\n",
      "<class 'list'>\n",
      "These are the 3viable moduli of degree 4\n"
     ]
    },
    {
     "data": {
      "text/latex": [
       "$\\displaystyle \\left[z^{4} + z + 1, z^{4} + z^{3} + 1, z^{4} + z^{3} + z^{2} + z + 1\\right]$"
      ],
      "text/plain": [
       "<IPython.core.display.Math object>"
      ]
     },
     "metadata": {},
     "output_type": "display_data"
    },
    {
     "name": "stdout",
     "output_type": "stream",
     "text": [
      "This is the chosen modulus f(z)\n"
     ]
    },
    {
     "data": {
      "text/latex": [
       "$\\displaystyle z^4 + z + 1$"
      ],
      "text/plain": [
       "<IPython.core.display.Math object>"
      ]
     },
     "metadata": {},
     "output_type": "display_data"
    },
    {
     "name": "stdout",
     "output_type": "stream",
     "text": [
      "This is an enumeration of the elementsof F_2^4\n"
     ]
    },
    {
     "data": {
      "text/latex": [
       "$\\displaystyle 0: 0$"
      ],
      "text/plain": [
       "<IPython.core.display.Math object>"
      ]
     },
     "metadata": {},
     "output_type": "display_data"
    },
    {
     "data": {
      "text/latex": [
       "$\\displaystyle 1: z$"
      ],
      "text/plain": [
       "<IPython.core.display.Math object>"
      ]
     },
     "metadata": {},
     "output_type": "display_data"
    },
    {
     "data": {
      "text/latex": [
       "$\\displaystyle 2: z^2$"
      ],
      "text/plain": [
       "<IPython.core.display.Math object>"
      ]
     },
     "metadata": {},
     "output_type": "display_data"
    },
    {
     "data": {
      "text/latex": [
       "$\\displaystyle 3: z^3$"
      ],
      "text/plain": [
       "<IPython.core.display.Math object>"
      ]
     },
     "metadata": {},
     "output_type": "display_data"
    },
    {
     "data": {
      "text/latex": [
       "$\\displaystyle 4: z + 1$"
      ],
      "text/plain": [
       "<IPython.core.display.Math object>"
      ]
     },
     "metadata": {},
     "output_type": "display_data"
    },
    {
     "data": {
      "text/latex": [
       "$\\displaystyle 5: z^2 + z$"
      ],
      "text/plain": [
       "<IPython.core.display.Math object>"
      ]
     },
     "metadata": {},
     "output_type": "display_data"
    },
    {
     "data": {
      "text/latex": [
       "$\\displaystyle 6: z^3 + z^2$"
      ],
      "text/plain": [
       "<IPython.core.display.Math object>"
      ]
     },
     "metadata": {},
     "output_type": "display_data"
    },
    {
     "data": {
      "text/latex": [
       "$\\displaystyle 7: z^3 + z + 1$"
      ],
      "text/plain": [
       "<IPython.core.display.Math object>"
      ]
     },
     "metadata": {},
     "output_type": "display_data"
    },
    {
     "data": {
      "text/latex": [
       "$\\displaystyle 8: z^2 + 1$"
      ],
      "text/plain": [
       "<IPython.core.display.Math object>"
      ]
     },
     "metadata": {},
     "output_type": "display_data"
    },
    {
     "data": {
      "text/latex": [
       "$\\displaystyle 9: z^3 + z$"
      ],
      "text/plain": [
       "<IPython.core.display.Math object>"
      ]
     },
     "metadata": {},
     "output_type": "display_data"
    },
    {
     "data": {
      "text/latex": [
       "$\\displaystyle 10: z^2 + z + 1$"
      ],
      "text/plain": [
       "<IPython.core.display.Math object>"
      ]
     },
     "metadata": {},
     "output_type": "display_data"
    },
    {
     "data": {
      "text/latex": [
       "$\\displaystyle 11: z^3 + z^2 + z$"
      ],
      "text/plain": [
       "<IPython.core.display.Math object>"
      ]
     },
     "metadata": {},
     "output_type": "display_data"
    },
    {
     "data": {
      "text/latex": [
       "$\\displaystyle 12: z^3 + z^2 + z + 1$"
      ],
      "text/plain": [
       "<IPython.core.display.Math object>"
      ]
     },
     "metadata": {},
     "output_type": "display_data"
    },
    {
     "data": {
      "text/latex": [
       "$\\displaystyle 13: z^3 + z^2 + 1$"
      ],
      "text/plain": [
       "<IPython.core.display.Math object>"
      ]
     },
     "metadata": {},
     "output_type": "display_data"
    },
    {
     "data": {
      "text/latex": [
       "$\\displaystyle 14: z^3 + 1$"
      ],
      "text/plain": [
       "<IPython.core.display.Math object>"
      ]
     },
     "metadata": {},
     "output_type": "display_data"
    },
    {
     "data": {
      "text/latex": [
       "$\\displaystyle 15: 1$"
      ],
      "text/plain": [
       "<IPython.core.display.Math object>"
      ]
     },
     "metadata": {},
     "output_type": "display_data"
    },
    {
     "name": "stdout",
     "output_type": "stream",
     "text": [
      "choose g type Integer\n",
      "These are 5 examples of possiblegoppa polynomials (moduli of degree 3) with coefficients in z, which we will not use\n"
     ]
    },
    {
     "data": {
      "text/latex": [
       "$\\displaystyle (z^3 + z)*x^3 + x^2 + z^3*x + z^3 + 1$"
      ],
      "text/plain": [
       "<IPython.core.display.Math object>"
      ]
     },
     "metadata": {},
     "output_type": "display_data"
    },
    {
     "data": {
      "text/latex": [
       "$\\displaystyle z^2*x^3 + (z^2 + z + 1)*x^2 + x + z + 1$"
      ],
      "text/plain": [
       "<IPython.core.display.Math object>"
      ]
     },
     "metadata": {},
     "output_type": "display_data"
    },
    {
     "data": {
      "text/latex": [
       "$\\displaystyle (z^3 + z^2 + z)*x^3 + x^2 + (z + 1)*x + z^2 + z + 1$"
      ],
      "text/plain": [
       "<IPython.core.display.Math object>"
      ]
     },
     "metadata": {},
     "output_type": "display_data"
    },
    {
     "data": {
      "text/latex": [
       "$\\displaystyle (z^3 + z^2 + 1)*x^3 + x^2 + x + z^3 + 1$"
      ],
      "text/plain": [
       "<IPython.core.display.Math object>"
      ]
     },
     "metadata": {},
     "output_type": "display_data"
    },
    {
     "data": {
      "text/latex": [
       "$\\displaystyle (z + 1)*x^3 + (z^3 + z + 1)*x^2 + (z^2 + 1)*x + z^3$"
      ],
      "text/plain": [
       "<IPython.core.display.Math object>"
      ]
     },
     "metadata": {},
     "output_type": "display_data"
    },
    {
     "name": "stdout",
     "output_type": "stream",
     "text": [
      "These are the viable moduli of degree 3 with binary coefficients\n"
     ]
    },
    {
     "data": {
      "text/latex": [
       "$\\displaystyle x^3 + x + 1$"
      ],
      "text/plain": [
       "<IPython.core.display.Math object>"
      ]
     },
     "metadata": {},
     "output_type": "display_data"
    },
    {
     "data": {
      "text/latex": [
       "$\\displaystyle x^3 + x^2 + 1$"
      ],
      "text/plain": [
       "<IPython.core.display.Math object>"
      ]
     },
     "metadata": {},
     "output_type": "display_data"
    },
    {
     "name": "stdout",
     "output_type": "stream",
     "text": [
      "This is the chosen modulus g(x,z)\n"
     ]
    },
    {
     "data": {
      "text/latex": [
       "$\\displaystyle x^3 + x + 1$"
      ],
      "text/plain": [
       "<IPython.core.display.Math object>"
      ]
     },
     "metadata": {},
     "output_type": "display_data"
    },
    {
     "name": "stdout",
     "output_type": "stream",
     "text": [
      "choose support type: given list\n",
      "[0, 1, 2, 3, 4, 5, 6, 7, 8, 9, 10, 11, 12, 13, 14, 15] Support: \n",
      "-------------\n",
      "These are the elements in the support\n"
     ]
    },
    {
     "data": {
      "text/latex": [
       "$\\displaystyle 0: 0$"
      ],
      "text/plain": [
       "<IPython.core.display.Math object>"
      ]
     },
     "metadata": {},
     "output_type": "display_data"
    },
    {
     "data": {
      "text/latex": [
       "$\\displaystyle 1: z$"
      ],
      "text/plain": [
       "<IPython.core.display.Math object>"
      ]
     },
     "metadata": {},
     "output_type": "display_data"
    },
    {
     "data": {
      "text/latex": [
       "$\\displaystyle 2: z^2$"
      ],
      "text/plain": [
       "<IPython.core.display.Math object>"
      ]
     },
     "metadata": {},
     "output_type": "display_data"
    },
    {
     "data": {
      "text/latex": [
       "$\\displaystyle 3: z^3$"
      ],
      "text/plain": [
       "<IPython.core.display.Math object>"
      ]
     },
     "metadata": {},
     "output_type": "display_data"
    },
    {
     "data": {
      "text/latex": [
       "$\\displaystyle 4: z + 1$"
      ],
      "text/plain": [
       "<IPython.core.display.Math object>"
      ]
     },
     "metadata": {},
     "output_type": "display_data"
    },
    {
     "data": {
      "text/latex": [
       "$\\displaystyle 5: z^2 + z$"
      ],
      "text/plain": [
       "<IPython.core.display.Math object>"
      ]
     },
     "metadata": {},
     "output_type": "display_data"
    },
    {
     "data": {
      "text/latex": [
       "$\\displaystyle 6: z^3 + z^2$"
      ],
      "text/plain": [
       "<IPython.core.display.Math object>"
      ]
     },
     "metadata": {},
     "output_type": "display_data"
    },
    {
     "data": {
      "text/latex": [
       "$\\displaystyle 7: z^3 + z + 1$"
      ],
      "text/plain": [
       "<IPython.core.display.Math object>"
      ]
     },
     "metadata": {},
     "output_type": "display_data"
    },
    {
     "data": {
      "text/latex": [
       "$\\displaystyle 8: z^2 + 1$"
      ],
      "text/plain": [
       "<IPython.core.display.Math object>"
      ]
     },
     "metadata": {},
     "output_type": "display_data"
    },
    {
     "data": {
      "text/latex": [
       "$\\displaystyle 9: z^3 + z$"
      ],
      "text/plain": [
       "<IPython.core.display.Math object>"
      ]
     },
     "metadata": {},
     "output_type": "display_data"
    },
    {
     "data": {
      "text/latex": [
       "$\\displaystyle 10: z^2 + z + 1$"
      ],
      "text/plain": [
       "<IPython.core.display.Math object>"
      ]
     },
     "metadata": {},
     "output_type": "display_data"
    },
    {
     "data": {
      "text/latex": [
       "$\\displaystyle 11: z^3 + z^2 + z$"
      ],
      "text/plain": [
       "<IPython.core.display.Math object>"
      ]
     },
     "metadata": {},
     "output_type": "display_data"
    },
    {
     "data": {
      "text/latex": [
       "$\\displaystyle 12: z^3 + z^2 + z + 1$"
      ],
      "text/plain": [
       "<IPython.core.display.Math object>"
      ]
     },
     "metadata": {},
     "output_type": "display_data"
    },
    {
     "data": {
      "text/latex": [
       "$\\displaystyle 13: z^3 + z^2 + 1$"
      ],
      "text/plain": [
       "<IPython.core.display.Math object>"
      ]
     },
     "metadata": {},
     "output_type": "display_data"
    },
    {
     "data": {
      "text/latex": [
       "$\\displaystyle 14: z^3 + 1$"
      ],
      "text/plain": [
       "<IPython.core.display.Math object>"
      ]
     },
     "metadata": {},
     "output_type": "display_data"
    },
    {
     "data": {
      "text/latex": [
       "$\\displaystyle 15: 1$"
      ],
      "text/plain": [
       "<IPython.core.display.Math object>"
      ]
     },
     "metadata": {},
     "output_type": "display_data"
    },
    {
     "name": "stdout",
     "output_type": "stream",
     "text": [
      "First Matrix of Check Matrix:\n",
      "--------------------------------\n"
     ]
    },
    {
     "data": {
      "text/latex": [
       "$\\displaystyle \\left(\\begin{array}{rrr}\n",
       "1 & 0 & 0 \\\\\n",
       "0 & 1 & 0 \\\\\n",
       "1 & 0 & 1\n",
       "\\end{array}\\right)$"
      ],
      "text/plain": [
       "<IPython.core.display.Math object>"
      ]
     },
     "metadata": {},
     "output_type": "display_data"
    },
    {
     "name": "stdout",
     "output_type": "stream",
     "text": [
      "Second Matrix of Check Matrix:\n",
      "--------------------------------\n"
     ]
    },
    {
     "data": {
      "text/latex": [
       "$\\displaystyle \\left(\\begin{array}{rrrrrrrrrrrrrrrr}\n",
       "1 & 1 & 1 & 1 & 1 & 1 & 1 & 1 & 1 & 1 & 1 & 1 & 1 & 1 & 1 & 1 \\\\\n",
       "0 & z & z^{2} & z^{3} & z + 1 & z^{2} + z & z^{3} + z^{2} & z^{3} + z + 1 & z^{2} + 1 & z^{3} + z & z^{2} + z + 1 & z^{3} + z^{2} + z & z^{3} + z^{2} + z + 1 & z^{3} + z^{2} + 1 & z^{3} + 1 & 1 \\\\\n",
       "0 & z^{2} & z + 1 & z^{3} + z^{2} & z^{2} + 1 & z^{2} + z + 1 & z^{3} + z^{2} + z + 1 & z^{3} + 1 & z & z^{3} & z^{2} + z & z^{3} + z + 1 & z^{3} + z & z^{3} + z^{2} + z & z^{3} + z^{2} + 1 & 1\n",
       "\\end{array}\\right)$"
      ],
      "text/plain": [
       "<IPython.core.display.Math object>"
      ]
     },
     "metadata": {},
     "output_type": "display_data"
    },
    {
     "name": "stdout",
     "output_type": "stream",
     "text": [
      "Third Matrix of Check Matrix:\n",
      "--------------------------------\n"
     ]
    },
    {
     "data": {
      "text/latex": [
       "$\\displaystyle \\left(\\begin{array}{rrrrrrrrrrrrrrrr}\n",
       "1 & 0 & 0 & 0 & 0 & 0 & 0 & 0 & 0 & 0 & 0 & 0 & 0 & 0 & 0 & 0 \\\\\n",
       "0 & z^{2} + 1 & 0 & 0 & 0 & 0 & 0 & 0 & 0 & 0 & 0 & 0 & 0 & 0 & 0 & 0 \\\\\n",
       "0 & 0 & z & 0 & 0 & 0 & 0 & 0 & 0 & 0 & 0 & 0 & 0 & 0 & 0 & 0 \\\\\n",
       "0 & 0 & 0 & z^{3} + z^{2} + z & 0 & 0 & 0 & 0 & 0 & 0 & 0 & 0 & 0 & 0 & 0 & 0 \\\\\n",
       "0 & 0 & 0 & 0 & z^{2} & 0 & 0 & 0 & 0 & 0 & 0 & 0 & 0 & 0 & 0 & 0 \\\\\n",
       "0 & 0 & 0 & 0 & 0 & z^{2} + z + 1 & 0 & 0 & 0 & 0 & 0 & 0 & 0 & 0 & 0 & 0 \\\\\n",
       "0 & 0 & 0 & 0 & 0 & 0 & z^{3} + z + 1 & 0 & 0 & 0 & 0 & 0 & 0 & 0 & 0 & 0 \\\\\n",
       "0 & 0 & 0 & 0 & 0 & 0 & 0 & z^{2} + z + 1 & 0 & 0 & 0 & 0 & 0 & 0 & 0 & 0 \\\\\n",
       "0 & 0 & 0 & 0 & 0 & 0 & 0 & 0 & z + 1 & 0 & 0 & 0 & 0 & 0 & 0 & 0 \\\\\n",
       "0 & 0 & 0 & 0 & 0 & 0 & 0 & 0 & 0 & z^{3} + z^{2} + 1 & 0 & 0 & 0 & 0 & 0 & 0 \\\\\n",
       "0 & 0 & 0 & 0 & 0 & 0 & 0 & 0 & 0 & 0 & z^{2} + z & 0 & 0 & 0 & 0 & 0 \\\\\n",
       "0 & 0 & 0 & 0 & 0 & 0 & 0 & 0 & 0 & 0 & 0 & z^{2} + z & 0 & 0 & 0 & 0 \\\\\n",
       "0 & 0 & 0 & 0 & 0 & 0 & 0 & 0 & 0 & 0 & 0 & 0 & z^{3} + 1 & 0 & 0 & 0 \\\\\n",
       "0 & 0 & 0 & 0 & 0 & 0 & 0 & 0 & 0 & 0 & 0 & 0 & 0 & z^{2} + z + 1 & 0 & 0 \\\\\n",
       "0 & 0 & 0 & 0 & 0 & 0 & 0 & 0 & 0 & 0 & 0 & 0 & 0 & 0 & z^{2} + z & 0 \\\\\n",
       "0 & 0 & 0 & 0 & 0 & 0 & 0 & 0 & 0 & 0 & 0 & 0 & 0 & 0 & 0 & 1\n",
       "\\end{array}\\right)$"
      ],
      "text/plain": [
       "<IPython.core.display.Math object>"
      ]
     },
     "metadata": {},
     "output_type": "display_data"
    },
    {
     "name": "stdout",
     "output_type": "stream",
     "text": [
      "Check Matrix over F_2^m with dimensions3x16:\n",
      "--------------------------------\n"
     ]
    },
    {
     "data": {
      "text/latex": [
       "$\\displaystyle \\left(\\begin{array}{rrrrrrrrrrrrrrrr}\n",
       "1 & z^{2} + 1 & z & z^{3} + z^{2} + z & z^{2} & z^{2} + z + 1 & z^{3} + z + 1 & z^{2} + z + 1 & z + 1 & z^{3} + z^{2} + 1 & z^{2} + z & z^{2} + z & z^{3} + 1 & z^{2} + z + 1 & z^{2} + z & 1 \\\\\n",
       "0 & z^{3} + z & z^{3} & z^{3} + 1 & z^{3} + z^{2} & 1 & z^{3} + z^{2} + 1 & z^{2} & z^{3} + z^{2} + z + 1 & z^{3} + z + 1 & 1 & z & z^{3} + z^{2} + z & z^{2} + 1 & z + 1 & 1 \\\\\n",
       "0 & z^{2} + z + 1 & z^{2} + z & z^{2} & z^{2} + z + 1 & z^{2} + z & z + 1 & z^{3} + z & z^{2} + z & z & z^{2} + z + 1 & z^{3} + z^{2} + z + 1 & z^{2} + 1 & z^{3} + z^{2} & z^{3} & 1\n",
       "\\end{array}\\right)$"
      ],
      "text/plain": [
       "<IPython.core.display.Math object>"
      ]
     },
     "metadata": {},
     "output_type": "display_data"
    },
    {
     "name": "stdout",
     "output_type": "stream",
     "text": [
      "The check matrix over F_2 has dimensions 12x16 and is  :\n",
      "--------------------------------\n"
     ]
    },
    {
     "data": {
      "text/latex": [
       "$\\displaystyle \\left(\\begin{array}{rrrrrrrrrrrrrrrr}\n",
       "1 & 1 & 0 & 0 & 0 & 1 & 1 & 1 & 1 & 1 & 0 & 0 & 1 & 1 & 0 & 1 \\\\\n",
       "0 & 0 & 1 & 1 & 0 & 1 & 1 & 1 & 1 & 0 & 1 & 1 & 0 & 1 & 1 & 0 \\\\\n",
       "0 & 1 & 0 & 1 & 1 & 1 & 0 & 1 & 0 & 1 & 1 & 1 & 0 & 1 & 1 & 0 \\\\\n",
       "0 & 0 & 0 & 1 & 0 & 0 & 1 & 0 & 0 & 1 & 0 & 0 & 1 & 0 & 0 & 0 \\\\\n",
       "0 & 0 & 0 & 1 & 0 & 1 & 1 & 0 & 1 & 1 & 1 & 0 & 0 & 1 & 1 & 1 \\\\\n",
       "0 & 1 & 0 & 0 & 0 & 0 & 0 & 0 & 1 & 1 & 0 & 1 & 1 & 0 & 1 & 0 \\\\\n",
       "0 & 0 & 0 & 0 & 1 & 0 & 1 & 1 & 1 & 0 & 0 & 0 & 1 & 1 & 0 & 0 \\\\\n",
       "0 & 1 & 1 & 1 & 1 & 0 & 1 & 0 & 1 & 1 & 0 & 0 & 1 & 0 & 0 & 0 \\\\\n",
       "0 & 1 & 0 & 0 & 1 & 0 & 1 & 0 & 0 & 0 & 1 & 1 & 1 & 0 & 0 & 1 \\\\\n",
       "0 & 1 & 1 & 0 & 1 & 1 & 1 & 1 & 1 & 1 & 1 & 1 & 0 & 0 & 0 & 0 \\\\\n",
       "0 & 1 & 1 & 1 & 1 & 1 & 0 & 0 & 1 & 0 & 1 & 1 & 1 & 1 & 0 & 0 \\\\\n",
       "0 & 0 & 0 & 0 & 0 & 0 & 0 & 1 & 0 & 0 & 0 & 1 & 0 & 1 & 1 & 0\n",
       "\\end{array}\\right)$"
      ],
      "text/plain": [
       "<IPython.core.display.Math object>"
      ]
     },
     "metadata": {},
     "output_type": "display_data"
    },
    {
     "name": "stdout",
     "output_type": "stream",
     "text": [
      "Parity check matrix in echolon form:\n",
      "-------------------------------------\n"
     ]
    },
    {
     "data": {
      "text/latex": [
       "$\\displaystyle \\text{This is the parity check matrix}$"
      ],
      "text/plain": [
       "<IPython.core.display.Math object>"
      ]
     },
     "metadata": {},
     "output_type": "display_data"
    },
    {
     "data": {
      "text/latex": [
       "$\\displaystyle \\left(\\begin{array}{rrrrrrrrrrrrrrrr}\n",
       "1 & 0 & 0 & 0 & 0 & 0 & 0 & 0 & 0 & 0 & 0 & 0 & 1 & 1 & 0 & 0 \\\\\n",
       "0 & 1 & 0 & 0 & 0 & 0 & 0 & 0 & 0 & 0 & 0 & 0 & 1 & 1 & 1 & 1 \\\\\n",
       "0 & 0 & 1 & 0 & 0 & 0 & 0 & 0 & 0 & 0 & 0 & 0 & 1 & 0 & 0 & 1 \\\\\n",
       "0 & 0 & 0 & 1 & 0 & 0 & 0 & 0 & 0 & 0 & 0 & 0 & 1 & 0 & 0 & 0 \\\\\n",
       "0 & 0 & 0 & 0 & 1 & 0 & 0 & 0 & 0 & 0 & 0 & 0 & 1 & 1 & 1 & 1 \\\\\n",
       "0 & 0 & 0 & 0 & 0 & 1 & 0 & 0 & 0 & 0 & 0 & 0 & 0 & 0 & 1 & 1 \\\\\n",
       "0 & 0 & 0 & 0 & 0 & 0 & 1 & 0 & 0 & 0 & 0 & 0 & 1 & 1 & 1 & 0 \\\\\n",
       "0 & 0 & 0 & 0 & 0 & 0 & 0 & 1 & 0 & 0 & 0 & 0 & 0 & 1 & 0 & 0 \\\\\n",
       "0 & 0 & 0 & 0 & 0 & 0 & 0 & 0 & 1 & 0 & 0 & 0 & 1 & 0 & 0 & 1 \\\\\n",
       "0 & 0 & 0 & 0 & 0 & 0 & 0 & 0 & 0 & 1 & 0 & 0 & 1 & 1 & 1 & 0 \\\\\n",
       "0 & 0 & 0 & 0 & 0 & 0 & 0 & 0 & 0 & 0 & 1 & 0 & 0 & 1 & 0 & 1 \\\\\n",
       "0 & 0 & 0 & 0 & 0 & 0 & 0 & 0 & 0 & 0 & 0 & 1 & 0 & 0 & 1 & 0\n",
       "\\end{array}\\right)$"
      ],
      "text/plain": [
       "<IPython.core.display.Math object>"
      ]
     },
     "metadata": {},
     "output_type": "display_data"
    },
    {
     "name": "stdout",
     "output_type": "stream",
     "text": [
      "parity check matrix print\n"
     ]
    },
    {
     "data": {
      "text/latex": [
       "$\\displaystyle \\left(\\begin{array}{rrrrrrrrrrrrrrrr}\n",
       "1 & 0 & 0 & 0 & 0 & 0 & 0 & 0 & 0 & 0 & 0 & 0 & 1 & 1 & 0 & 0 \\\\\n",
       "0 & 1 & 0 & 0 & 0 & 0 & 0 & 0 & 0 & 0 & 0 & 0 & 1 & 1 & 1 & 1 \\\\\n",
       "0 & 0 & 1 & 0 & 0 & 0 & 0 & 0 & 0 & 0 & 0 & 0 & 1 & 0 & 0 & 1 \\\\\n",
       "0 & 0 & 0 & 1 & 0 & 0 & 0 & 0 & 0 & 0 & 0 & 0 & 1 & 0 & 0 & 0 \\\\\n",
       "0 & 0 & 0 & 0 & 1 & 0 & 0 & 0 & 0 & 0 & 0 & 0 & 1 & 1 & 1 & 1 \\\\\n",
       "0 & 0 & 0 & 0 & 0 & 1 & 0 & 0 & 0 & 0 & 0 & 0 & 0 & 0 & 1 & 1 \\\\\n",
       "0 & 0 & 0 & 0 & 0 & 0 & 1 & 0 & 0 & 0 & 0 & 0 & 1 & 1 & 1 & 0 \\\\\n",
       "0 & 0 & 0 & 0 & 0 & 0 & 0 & 1 & 0 & 0 & 0 & 0 & 0 & 1 & 0 & 0 \\\\\n",
       "0 & 0 & 0 & 0 & 0 & 0 & 0 & 0 & 1 & 0 & 0 & 0 & 1 & 0 & 0 & 1 \\\\\n",
       "0 & 0 & 0 & 0 & 0 & 0 & 0 & 0 & 0 & 1 & 0 & 0 & 1 & 1 & 1 & 0 \\\\\n",
       "0 & 0 & 0 & 0 & 0 & 0 & 0 & 0 & 0 & 0 & 1 & 0 & 0 & 1 & 0 & 1 \\\\\n",
       "0 & 0 & 0 & 0 & 0 & 0 & 0 & 0 & 0 & 0 & 0 & 1 & 0 & 0 & 1 & 0\n",
       "\\end{array}\\right)$"
      ],
      "text/plain": [
       "<IPython.core.display.Math object>"
      ]
     },
     "metadata": {},
     "output_type": "display_data"
    },
    {
     "name": "stdout",
     "output_type": "stream",
     "text": [
      "stored subset of parity check matrix\n"
     ]
    },
    {
     "data": {
      "text/latex": [
       "$\\displaystyle \\left(\\begin{array}{rrrr}\n",
       "1 & 1 & 0 & 0 \\\\\n",
       "1 & 1 & 1 & 1 \\\\\n",
       "1 & 0 & 0 & 1 \\\\\n",
       "1 & 0 & 0 & 0 \\\\\n",
       "1 & 1 & 1 & 1 \\\\\n",
       "0 & 0 & 1 & 1 \\\\\n",
       "1 & 1 & 1 & 0 \\\\\n",
       "0 & 1 & 0 & 0 \\\\\n",
       "1 & 0 & 0 & 1 \\\\\n",
       "1 & 1 & 1 & 0 \\\\\n",
       "0 & 1 & 0 & 1 \\\\\n",
       "0 & 0 & 1 & 0\n",
       "\\end{array}\\right)$"
      ],
      "text/plain": [
       "<IPython.core.display.Math object>"
      ]
     },
     "metadata": {},
     "output_type": "display_data"
    },
    {
     "name": "stdout",
     "output_type": "stream",
     "text": [
      "k_pub:\n",
      "-----------\n"
     ]
    },
    {
     "data": {
      "text/latex": [
       "$\\displaystyle \\left(\\left(\\begin{array}{rrrr}\n",
       "1 & 1 & 0 & 0 \\\\\n",
       "1 & 1 & 1 & 1 \\\\\n",
       "1 & 0 & 0 & 1 \\\\\n",
       "1 & 0 & 0 & 0 \\\\\n",
       "1 & 1 & 1 & 1 \\\\\n",
       "0 & 0 & 1 & 1 \\\\\n",
       "1 & 1 & 1 & 0 \\\\\n",
       "0 & 1 & 0 & 0 \\\\\n",
       "1 & 0 & 0 & 1 \\\\\n",
       "1 & 1 & 1 & 0 \\\\\n",
       "0 & 1 & 0 & 1 \\\\\n",
       "0 & 0 & 1 & 0\n",
       "\\end{array}\\right), 3, 4, 4, 16\\right)$"
      ],
      "text/plain": [
       "<IPython.core.display.Math object>"
      ]
     },
     "metadata": {},
     "output_type": "display_data"
    },
    {
     "name": "stdout",
     "output_type": "stream",
     "text": [
      "k_priv:\n",
      "-----------\n"
     ]
    },
    {
     "data": {
      "text/latex": [
       "$\\displaystyle \\left(\\left[0, z, z^{2}, z^{3}, z + 1, z^{2} + z, z^{3} + z^{2}, z^{3} + z + 1, z^{2} + 1, z^{3} + z, z^{2} + z + 1, z^{3} + z^{2} + z, z^{3} + z^{2} + z + 1, z^{3} + z^{2} + 1, z^{3} + 1, 1\\right], x^{3} + x + 1, \\Bold{F}_{2^{4}}\\right)$"
      ],
      "text/plain": [
       "<IPython.core.display.Math object>"
      ]
     },
     "metadata": {},
     "output_type": "display_data"
    },
    {
     "name": "stdout",
     "output_type": "stream",
     "text": [
      "t = 3, m = 4, k = 4, n = 16\n",
      "parity check matrix without identity part\n"
     ]
    },
    {
     "data": {
      "text/latex": [
       "$\\displaystyle \\left(\\begin{array}{rrrr}\n",
       "1 & 1 & 0 & 0 \\\\\n",
       "1 & 1 & 1 & 1 \\\\\n",
       "1 & 0 & 0 & 1 \\\\\n",
       "1 & 0 & 0 & 0 \\\\\n",
       "1 & 1 & 1 & 1 \\\\\n",
       "0 & 0 & 1 & 1 \\\\\n",
       "1 & 1 & 1 & 0 \\\\\n",
       "0 & 1 & 0 & 0 \\\\\n",
       "1 & 0 & 0 & 1 \\\\\n",
       "1 & 1 & 1 & 0 \\\\\n",
       "0 & 1 & 0 & 1 \\\\\n",
       "0 & 0 & 1 & 0\n",
       "\\end{array}\\right)$"
      ],
      "text/plain": [
       "<IPython.core.display.Math object>"
      ]
     },
     "metadata": {},
     "output_type": "display_data"
    },
    {
     "name": "stdout",
     "output_type": "stream",
     "text": [
      "parity check matrix with identity part\n"
     ]
    },
    {
     "data": {
      "text/latex": [
       "$\\displaystyle \\left(\\begin{array}{rrrrrrrrrrrrrrrr}\n",
       "1 & 0 & 0 & 0 & 0 & 0 & 0 & 0 & 0 & 0 & 0 & 0 & 1 & 1 & 0 & 0 \\\\\n",
       "0 & 1 & 0 & 0 & 0 & 0 & 0 & 0 & 0 & 0 & 0 & 0 & 1 & 1 & 1 & 1 \\\\\n",
       "0 & 0 & 1 & 0 & 0 & 0 & 0 & 0 & 0 & 0 & 0 & 0 & 1 & 0 & 0 & 1 \\\\\n",
       "0 & 0 & 0 & 1 & 0 & 0 & 0 & 0 & 0 & 0 & 0 & 0 & 1 & 0 & 0 & 0 \\\\\n",
       "0 & 0 & 0 & 0 & 1 & 0 & 0 & 0 & 0 & 0 & 0 & 0 & 1 & 1 & 1 & 1 \\\\\n",
       "0 & 0 & 0 & 0 & 0 & 1 & 0 & 0 & 0 & 0 & 0 & 0 & 0 & 0 & 1 & 1 \\\\\n",
       "0 & 0 & 0 & 0 & 0 & 0 & 1 & 0 & 0 & 0 & 0 & 0 & 1 & 1 & 1 & 0 \\\\\n",
       "0 & 0 & 0 & 0 & 0 & 0 & 0 & 1 & 0 & 0 & 0 & 0 & 0 & 1 & 0 & 0 \\\\\n",
       "0 & 0 & 0 & 0 & 0 & 0 & 0 & 0 & 1 & 0 & 0 & 0 & 1 & 0 & 0 & 1 \\\\\n",
       "0 & 0 & 0 & 0 & 0 & 0 & 0 & 0 & 0 & 1 & 0 & 0 & 1 & 1 & 1 & 0 \\\\\n",
       "0 & 0 & 0 & 0 & 0 & 0 & 0 & 0 & 0 & 0 & 1 & 0 & 0 & 1 & 0 & 1 \\\\\n",
       "0 & 0 & 0 & 0 & 0 & 0 & 0 & 0 & 0 & 0 & 0 & 1 & 0 & 0 & 1 & 0\n",
       "\\end{array}\\right)$"
      ],
      "text/plain": [
       "<IPython.core.display.Math object>"
      ]
     },
     "metadata": {},
     "output_type": "display_data"
    },
    {
     "name": "stdout",
     "output_type": "stream",
     "text": [
      "message\n"
     ]
    },
    {
     "data": {
      "text/latex": [
       "$\\displaystyle \\left(\\begin{array}{rrrrrrrrrrrrrrrr}\n",
       "0 & 0 & 0 & 0 & 0 & 0 & 0 & 0 & 0 & 0 & 0 & 0 & 1 & 1 & 1 & 0\n",
       "\\end{array}\\right)$"
      ],
      "text/plain": [
       "<IPython.core.display.Math object>"
      ]
     },
     "metadata": {},
     "output_type": "display_data"
    },
    {
     "name": "stdout",
     "output_type": "stream",
     "text": [
      "encrypted message\n"
     ]
    },
    {
     "data": {
      "text/latex": [
       "$\\displaystyle \\left(\\begin{array}{rrrrrrrrrrrr}\n",
       "0 & 1 & 1 & 1 & 1 & 1 & 1 & 1 & 1 & 1 & 1 & 1\n",
       "\\end{array}\\right)$"
      ],
      "text/plain": [
       "<IPython.core.display.Math object>"
      ]
     },
     "metadata": {},
     "output_type": "display_data"
    },
    {
     "data": {
      "text/latex": [
       "$\\displaystyle \\text{This is our polynomial }V(x,z)$"
      ],
      "text/plain": [
       "<IPython.core.display.Math object>"
      ]
     },
     "metadata": {},
     "output_type": "display_data"
    },
    {
     "data": {
      "text/latex": [
       "$\\displaystyle \\left(z^{3} + z\\right) x^{2} + \\left(z + 1\\right) x + z^{3} + z^{2} + 1$"
      ],
      "text/plain": [
       "<IPython.core.display.Math object>"
      ]
     },
     "metadata": {},
     "output_type": "display_data"
    },
    {
     "name": "stdout",
     "output_type": "stream",
     "text": [
      "\n",
      "error comparison \n",
      "-----------------------------\n",
      "reconstructed error vector:\n"
     ]
    },
    {
     "data": {
      "text/latex": [
       "$\\displaystyle \\left(\\begin{array}{rrrrrrrrrrrrrrrr}\n",
       "0 & 0 & 0 & 0 & 0 & 0 & 0 & 0 & 0 & 0 & 0 & 0 & 1 & 1 & 1 & 0\n",
       "\\end{array}\\right)$"
      ],
      "text/plain": [
       "<IPython.core.display.Math object>"
      ]
     },
     "metadata": {},
     "output_type": "display_data"
    },
    {
     "name": "stdout",
     "output_type": "stream",
     "text": [
      "\n",
      "send vs reconstructed code word:\n",
      "----------------------------\n",
      "reconstructed message:\n"
     ]
    },
    {
     "data": {
      "text/latex": [
       "$\\displaystyle \\left(\\begin{array}{rrrrrrrrrrrrrrrr}\n",
       "0 & 0 & 0 & 0 & 0 & 0 & 0 & 0 & 0 & 0 & 0 & 0 & 1 & 1 & 1 & 0\n",
       "\\end{array}\\right)$"
      ],
      "text/plain": [
       "<IPython.core.display.Math object>"
      ]
     },
     "metadata": {},
     "output_type": "display_data"
    }
   ],
   "source": [
    "verbose = 2\n",
    "# choose g: 'random_binary', 'first_binary',\n",
    "#            Integer i (choose i-th. binary irreducible polynomial)\n",
    "# choose support: # 'first_n', 'random_n', \n",
    "#                 list of length n with indizes\n",
    "k_pub, k_priv = niederreiter_key_gen(4, 3, \n",
    "                                     verbose, \n",
    "                                     0, \n",
    "                                     [i for i in range(2^4)])\n",
    "message = [0,0,0,0,0,0,0,0,0,0,0,0,1,1,1,0]\n",
    "encrypted_message = niederreiter_encrypt(message, \n",
    "                                         k_pub, \n",
    "                                         verbose)\n",
    "decrypted_message = niederreiter_decrypt(encrypted_message, \n",
    "                                         k_priv, \n",
    "                                         verbose)"
   ]
  },
  {
   "cell_type": "markdown",
   "metadata": {},
   "source": [
    "## Demonstration that the McEliece schoolbook version is not CCA-2 secure"
   ]
  },
  {
   "cell_type": "markdown",
   "metadata": {},
   "source": [
    "attacker receives $r$ and knows $G'$\n",
    "$r = mG' + e$\n",
    "create code word $c = m_2G'$ with arbitrary $m_2$\n",
    "ask oracle for decryption of $r + c$\n",
    "$Dec(r + c) = Dec(mG′ + e + m_2 G′ ) = m + m_2 := m_{dec}$\n",
    "$m = m_{dec} - m_2$"
   ]
  },
  {
   "cell_type": "code",
   "execution_count": 33,
   "metadata": {},
   "outputs": [
    {
     "name": "stdout",
     "output_type": "stream",
     "text": [
      "error type list\n",
      "message was successfully reconstructed\n",
      "send:          [1, 1, 1, 0]\n",
      "reconstructed: [1 1 1 0]\n"
     ]
    },
    {
     "name": "stderr",
     "output_type": "stream",
     "text": [
      "/tmp/ipykernel_41962/2544655209.py:20: UserWarning: Parity check matrix notconvertable to standard form- choose different support randomly\n",
      "  warnings.warn(f'Parity check matrix not'\n"
     ]
    }
   ],
   "source": [
    "verbose = 0\n",
    "# alice sends her message\n",
    "k_pub, k_priv = mc_eliece_key_gen(4, \n",
    "                                  3, \n",
    "                                  verbose, \n",
    "                                  'random_binary', \n",
    "                                  'random_n')\n",
    "m = [1,1,1,0]\n",
    "r = mc_eliece_encrypt(m, \n",
    "                      k_pub, \n",
    "                      verbose, \n",
    "                      'uniformally')\n",
    "\n",
    "# carol creates m'\n",
    "m_2 = [1,0,0,0]\n",
    "c = mc_eliece_encrypt(m_2, \n",
    "                      k_pub, \n",
    "                      verbose, \n",
    "                      [0,0,0,0,0,0,0,0,0,0,0,0,0,0,0,0])\n",
    "\n",
    "\n",
    "#oracle decrypts r+c\n",
    "m_dec = mc_eliece_decrypt(r+c, \n",
    "                          k_priv, \n",
    "                          verbose)\n",
    "attackers_m = m_dec - matrix(GF(2), m_2)\n",
    "print(f'message was successfully reconstructed\\nsend:'\n",
    "      f'          {list(m)}\\nreconstructed: {attackers_m}')"
   ]
  },
  {
   "cell_type": "code",
   "execution_count": null,
   "metadata": {},
   "outputs": [],
   "source": []
  },
  {
   "cell_type": "code",
   "execution_count": null,
   "metadata": {},
   "outputs": [],
   "source": []
  },
  {
   "cell_type": "code",
   "execution_count": null,
   "metadata": {},
   "outputs": [],
   "source": []
  },
  {
   "cell_type": "code",
   "execution_count": null,
   "metadata": {},
   "outputs": [],
   "source": []
  },
  {
   "cell_type": "code",
   "execution_count": null,
   "metadata": {},
   "outputs": [],
   "source": []
  },
  {
   "cell_type": "code",
   "execution_count": null,
   "metadata": {},
   "outputs": [],
   "source": []
  },
  {
   "cell_type": "code",
   "execution_count": null,
   "metadata": {},
   "outputs": [],
   "source": []
  }
 ],
 "metadata": {
  "kernelspec": {
   "display_name": "SageMath 9.5",
   "language": "sage",
   "name": "sagemath"
  },
  "language_info": {
   "codemirror_mode": {
    "name": "ipython",
    "version": 3
   },
   "file_extension": ".py",
   "mimetype": "text/x-python",
   "name": "python",
   "nbconvert_exporter": "python",
   "pygments_lexer": "ipython3",
   "version": "3.10.12"
  },
  "widgets": {
   "application/vnd.jupyter.widget-state+json": {
    "state": {},
    "version_major": 2,
    "version_minor": 0
   }
  }
 },
 "nbformat": 4,
 "nbformat_minor": 2
}
